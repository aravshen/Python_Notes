{
 "cells": [
  {
   "cell_type": "markdown",
   "metadata": {},
   "source": [
    "# General Queries\n",
    "\n",
    "- Recall that a query is just a string, so a we can first a query and then give it to sqldf\n"
   ]
  },
  {
   "cell_type": "code",
   "execution_count": 10,
   "metadata": {
    "collapsed": false
   },
   "outputs": [
    {
     "data": {
      "text/html": [
       "<div>\n",
       "<table border=\"1\" class=\"dataframe\">\n",
       "  <thead>\n",
       "    <tr style=\"text-align: right;\">\n",
       "      <th></th>\n",
       "      <th>Unnamed: 0</th>\n",
       "      <th>mpg</th>\n",
       "      <th>cyl</th>\n",
       "      <th>disp</th>\n",
       "      <th>hp</th>\n",
       "      <th>drat</th>\n",
       "      <th>wt</th>\n",
       "      <th>qsec</th>\n",
       "      <th>vs</th>\n",
       "      <th>am</th>\n",
       "      <th>gear</th>\n",
       "      <th>carb</th>\n",
       "    </tr>\n",
       "  </thead>\n",
       "  <tbody>\n",
       "    <tr>\n",
       "      <th>0</th>\n",
       "      <td>Mazda RX4</td>\n",
       "      <td>21.0</td>\n",
       "      <td>6</td>\n",
       "      <td>160.0</td>\n",
       "      <td>110</td>\n",
       "      <td>3.90</td>\n",
       "      <td>2.620</td>\n",
       "      <td>16.46</td>\n",
       "      <td>0</td>\n",
       "      <td>1</td>\n",
       "      <td>4</td>\n",
       "      <td>4</td>\n",
       "    </tr>\n",
       "    <tr>\n",
       "      <th>1</th>\n",
       "      <td>Mazda RX4 Wag</td>\n",
       "      <td>21.0</td>\n",
       "      <td>6</td>\n",
       "      <td>160.0</td>\n",
       "      <td>110</td>\n",
       "      <td>3.90</td>\n",
       "      <td>2.875</td>\n",
       "      <td>17.02</td>\n",
       "      <td>0</td>\n",
       "      <td>1</td>\n",
       "      <td>4</td>\n",
       "      <td>4</td>\n",
       "    </tr>\n",
       "    <tr>\n",
       "      <th>2</th>\n",
       "      <td>Datsun 710</td>\n",
       "      <td>22.8</td>\n",
       "      <td>4</td>\n",
       "      <td>108.0</td>\n",
       "      <td>93</td>\n",
       "      <td>3.85</td>\n",
       "      <td>2.320</td>\n",
       "      <td>18.61</td>\n",
       "      <td>1</td>\n",
       "      <td>1</td>\n",
       "      <td>4</td>\n",
       "      <td>1</td>\n",
       "    </tr>\n",
       "    <tr>\n",
       "      <th>3</th>\n",
       "      <td>Hornet 4 Drive</td>\n",
       "      <td>21.4</td>\n",
       "      <td>6</td>\n",
       "      <td>258.0</td>\n",
       "      <td>110</td>\n",
       "      <td>3.08</td>\n",
       "      <td>3.215</td>\n",
       "      <td>19.44</td>\n",
       "      <td>1</td>\n",
       "      <td>0</td>\n",
       "      <td>3</td>\n",
       "      <td>1</td>\n",
       "    </tr>\n",
       "    <tr>\n",
       "      <th>4</th>\n",
       "      <td>Hornet Sportabout</td>\n",
       "      <td>18.7</td>\n",
       "      <td>8</td>\n",
       "      <td>360.0</td>\n",
       "      <td>175</td>\n",
       "      <td>3.15</td>\n",
       "      <td>3.440</td>\n",
       "      <td>17.02</td>\n",
       "      <td>0</td>\n",
       "      <td>0</td>\n",
       "      <td>3</td>\n",
       "      <td>2</td>\n",
       "    </tr>\n",
       "  </tbody>\n",
       "</table>\n",
       "</div>"
      ],
      "text/plain": [
       "          Unnamed: 0   mpg  cyl   disp   hp  drat     wt   qsec  vs  am  gear  \\\n",
       "0          Mazda RX4  21.0    6  160.0  110  3.90  2.620  16.46   0   1     4   \n",
       "1      Mazda RX4 Wag  21.0    6  160.0  110  3.90  2.875  17.02   0   1     4   \n",
       "2         Datsun 710  22.8    4  108.0   93  3.85  2.320  18.61   1   1     4   \n",
       "3     Hornet 4 Drive  21.4    6  258.0  110  3.08  3.215  19.44   1   0     3   \n",
       "4  Hornet Sportabout  18.7    8  360.0  175  3.15  3.440  17.02   0   0     3   \n",
       "\n",
       "   carb  \n",
       "0     4  \n",
       "1     4  \n",
       "2     1  \n",
       "3     1  \n",
       "4     2  "
      ]
     },
     "execution_count": 10,
     "metadata": {},
     "output_type": "execute_result"
    }
   ],
   "source": [
    "import pandas as pd\n",
    "from pandasql import sqldf\n",
    "\n",
    "\n",
    "#Read in the mtcars data set\n",
    "mtcars = pd.read_csv(\"Data/mtcars.csv\", header=0)\n",
    "mtcars.head()"
   ]
  },
  {
   "cell_type": "code",
   "execution_count": 4,
   "metadata": {
    "collapsed": false
   },
   "outputs": [
    {
     "data": {
      "text/html": [
       "<div>\n",
       "<table border=\"1\" class=\"dataframe\">\n",
       "  <thead>\n",
       "    <tr style=\"text-align: right;\">\n",
       "      <th></th>\n",
       "      <th>cyl</th>\n",
       "      <th>AVG(mpg)</th>\n",
       "    </tr>\n",
       "  </thead>\n",
       "  <tbody>\n",
       "    <tr>\n",
       "      <th>0</th>\n",
       "      <td>4</td>\n",
       "      <td>26.663636</td>\n",
       "    </tr>\n",
       "    <tr>\n",
       "      <th>1</th>\n",
       "      <td>6</td>\n",
       "      <td>19.742857</td>\n",
       "    </tr>\n",
       "    <tr>\n",
       "      <th>2</th>\n",
       "      <td>8</td>\n",
       "      <td>15.100000</td>\n",
       "    </tr>\n",
       "  </tbody>\n",
       "</table>\n",
       "</div>"
      ],
      "text/plain": [
       "   cyl   AVG(mpg)\n",
       "0    4  26.663636\n",
       "1    6  19.742857\n",
       "2    8  15.100000"
      ]
     },
     "execution_count": 4,
     "metadata": {},
     "output_type": "execute_result"
    }
   ],
   "source": [
    "query= \"SELECT cyl, AVG(mpg) FROM mtcars GROUP BY cyl\"\n",
    "sqldf(query)"
   ]
  },
  {
   "cell_type": "markdown",
   "metadata": {},
   "source": [
    "Using string formatting we can therefore write general queries"
   ]
  },
  {
   "cell_type": "code",
   "execution_count": 81,
   "metadata": {
    "collapsed": false
   },
   "outputs": [
    {
     "data": {
      "text/plain": [
       "'SELECT cyl, mpg FROM mtcars WHERE cyl=4'"
      ]
     },
     "execution_count": 81,
     "metadata": {},
     "output_type": "execute_result"
    }
   ],
   "source": [
    "#With WHERE clause\n",
    "cyl=4\n",
    "query= \"SELECT cyl, mpg FROM mtcars WHERE cyl=%d\" %cyl\n",
    "query"
   ]
  },
  {
   "cell_type": "code",
   "execution_count": 5,
   "metadata": {
    "collapsed": false
   },
   "outputs": [
    {
     "data": {
      "text/html": [
       "<div>\n",
       "<table border=\"1\" class=\"dataframe\">\n",
       "  <thead>\n",
       "    <tr style=\"text-align: right;\">\n",
       "      <th></th>\n",
       "      <th>cyl</th>\n",
       "      <th>AVG(mpg)</th>\n",
       "    </tr>\n",
       "  </thead>\n",
       "  <tbody>\n",
       "    <tr>\n",
       "      <th>0</th>\n",
       "      <td>4</td>\n",
       "      <td>26.663636</td>\n",
       "    </tr>\n",
       "    <tr>\n",
       "      <th>1</th>\n",
       "      <td>6</td>\n",
       "      <td>19.742857</td>\n",
       "    </tr>\n",
       "    <tr>\n",
       "      <th>2</th>\n",
       "      <td>8</td>\n",
       "      <td>15.100000</td>\n",
       "    </tr>\n",
       "  </tbody>\n",
       "</table>\n",
       "</div>"
      ],
      "text/plain": [
       "   cyl   AVG(mpg)\n",
       "0    4  26.663636\n",
       "1    6  19.742857\n",
       "2    8  15.100000"
      ]
     },
     "execution_count": 5,
     "metadata": {},
     "output_type": "execute_result"
    }
   ],
   "source": [
    "sqldf(query)"
   ]
  },
  {
   "cell_type": "code",
   "execution_count": 6,
   "metadata": {
    "collapsed": false
   },
   "outputs": [
    {
     "data": {
      "text/html": [
       "<div>\n",
       "<table border=\"1\" class=\"dataframe\">\n",
       "  <thead>\n",
       "    <tr style=\"text-align: right;\">\n",
       "      <th></th>\n",
       "      <th>cyl</th>\n",
       "      <th>AVG(mpg)</th>\n",
       "    </tr>\n",
       "  </thead>\n",
       "  <tbody>\n",
       "    <tr>\n",
       "      <th>0</th>\n",
       "      <td>4</td>\n",
       "      <td>26.663636</td>\n",
       "    </tr>\n",
       "    <tr>\n",
       "      <th>1</th>\n",
       "      <td>6</td>\n",
       "      <td>19.742857</td>\n",
       "    </tr>\n",
       "    <tr>\n",
       "      <th>2</th>\n",
       "      <td>8</td>\n",
       "      <td>16.477778</td>\n",
       "    </tr>\n",
       "  </tbody>\n",
       "</table>\n",
       "</div>"
      ],
      "text/plain": [
       "   cyl   AVG(mpg)\n",
       "0    4  26.663636\n",
       "1    6  19.742857\n",
       "2    8  16.477778"
      ]
     },
     "execution_count": 6,
     "metadata": {},
     "output_type": "execute_result"
    }
   ],
   "source": [
    "#With HAVING clause\n",
    "threshold =15\n",
    "query= \"SELECT cyl, AVG(mpg) FROM mtcars WHERE mpg>=%d GROUP by cyl \" %threshold\n",
    "sqldf(query)"
   ]
  },
  {
   "cell_type": "code",
   "execution_count": 7,
   "metadata": {
    "collapsed": false
   },
   "outputs": [
    {
     "data": {
      "text/html": [
       "<div>\n",
       "<table border=\"1\" class=\"dataframe\">\n",
       "  <thead>\n",
       "    <tr style=\"text-align: right;\">\n",
       "      <th></th>\n",
       "      <th>cyl</th>\n",
       "      <th>AVG(mpg)</th>\n",
       "    </tr>\n",
       "  </thead>\n",
       "  <tbody>\n",
       "    <tr>\n",
       "      <th>0</th>\n",
       "      <td>8</td>\n",
       "      <td>17.147368</td>\n",
       "    </tr>\n",
       "    <tr>\n",
       "      <th>1</th>\n",
       "      <td>4</td>\n",
       "      <td>24.392308</td>\n",
       "    </tr>\n",
       "  </tbody>\n",
       "</table>\n",
       "</div>"
      ],
      "text/plain": [
       "   cyl   AVG(mpg)\n",
       "0    8  17.147368\n",
       "1    4  24.392308"
      ]
     },
     "execution_count": 7,
     "metadata": {},
     "output_type": "execute_result"
    }
   ],
   "source": [
    "#With GROUP BY clause\n",
    "categories = [\"cyl\", \"am\"]\n",
    "query= \"SELECT %s , AVG(mpg) FROM mtcars  GROUP by %s\" %(categories[0], categories[1])\n",
    "sqldf(query)"
   ]
  },
  {
   "cell_type": "code",
   "execution_count": 9,
   "metadata": {
    "collapsed": false
   },
   "outputs": [
    {
     "name": "stdout",
     "output_type": "stream",
     "text": [
      "   cyl   AVG(mpg)\n",
      "0    4  26.663636\n",
      "   cyl   AVG(mpg)\n",
      "0    6  19.742857\n",
      "   cyl  AVG(mpg)\n",
      "0    8      15.1\n"
     ]
    }
   ],
   "source": [
    "#In for loop\n",
    "cylNum = [4,6,8]\n",
    "for cyl in cylNum:\n",
    "    query = \"SELECT cyl, AVG(mpg) FROM mtcars WHERE cyl = %d\" %cyl\n",
    "    print(sqldf(query))\n"
   ]
  },
  {
   "cell_type": "markdown",
   "metadata": {},
   "source": [
    "# Joins\n",
    "\n",
    "Joins let us combine multiple data frames.\n",
    "\n",
    "Here is the general use:\n",
    "\n",
    "$$\n",
    "\"\\text{SELECT A.columnNames, B.columnNames FROM dfName1 AS A JOIN dfName2 AS B On A.Column = B.Column}\"\n",
    "$$\n",
    "\n",
    "Let's see some examples in action"
   ]
  },
  {
   "cell_type": "code",
   "execution_count": 18,
   "metadata": {
    "collapsed": false
   },
   "outputs": [
    {
     "data": {
      "text/html": [
       "<div>\n",
       "<table border=\"1\" class=\"dataframe\">\n",
       "  <thead>\n",
       "    <tr style=\"text-align: right;\">\n",
       "      <th></th>\n",
       "      <th>degree</th>\n",
       "      <th>doc_name</th>\n",
       "      <th>doctor_id</th>\n",
       "    </tr>\n",
       "  </thead>\n",
       "  <tbody>\n",
       "    <tr>\n",
       "      <th>0</th>\n",
       "      <td>MD</td>\n",
       "      <td>Jon</td>\n",
       "      <td>210</td>\n",
       "    </tr>\n",
       "    <tr>\n",
       "      <th>1</th>\n",
       "      <td>MBBS</td>\n",
       "      <td>Peter</td>\n",
       "      <td>211</td>\n",
       "    </tr>\n",
       "    <tr>\n",
       "      <th>2</th>\n",
       "      <td>MD</td>\n",
       "      <td>Ke</td>\n",
       "      <td>212</td>\n",
       "    </tr>\n",
       "    <tr>\n",
       "      <th>3</th>\n",
       "      <td>MD</td>\n",
       "      <td>Pat</td>\n",
       "      <td>213</td>\n",
       "    </tr>\n",
       "  </tbody>\n",
       "</table>\n",
       "</div>"
      ],
      "text/plain": [
       "  degree doc_name  doctor_id\n",
       "0     MD      Jon        210\n",
       "1   MBBS    Peter        211\n",
       "2     MD       Ke        212\n",
       "3     MD      Pat        213"
      ]
     },
     "execution_count": 18,
     "metadata": {},
     "output_type": "execute_result"
    }
   ],
   "source": [
    "\n",
    "\n",
    "#Create doctor df\n",
    "\n",
    "doctors = pd.DataFrame({\"doctor_id\":[210,211,212,213],\"doc_name\":[\"Jon\", \"Peter\", \"Ke\", \"Pat\"],\\\n",
    "                       \"degree\":[\"MD\",\"MBBS\", \"MD\", \"MD\"]})\n",
    "\n",
    "#Create visits\n",
    "visits = pd.DataFrame({\"doctor_id\":[210,214,215,212,212], \"patient_name\": [\"Julia\", \"TJ\", \"John\", \"James\", \"Jason\"],\\\n",
    "                      \"year\":[2015,2014, 2015, 2016, 2012]})\n",
    "\n",
    "doctors"
   ]
  },
  {
   "cell_type": "code",
   "execution_count": 19,
   "metadata": {
    "collapsed": false
   },
   "outputs": [
    {
     "data": {
      "text/html": [
       "<div>\n",
       "<table border=\"1\" class=\"dataframe\">\n",
       "  <thead>\n",
       "    <tr style=\"text-align: right;\">\n",
       "      <th></th>\n",
       "      <th>doctor_id</th>\n",
       "      <th>patient_name</th>\n",
       "      <th>year</th>\n",
       "    </tr>\n",
       "  </thead>\n",
       "  <tbody>\n",
       "    <tr>\n",
       "      <th>0</th>\n",
       "      <td>210</td>\n",
       "      <td>Julia</td>\n",
       "      <td>2015</td>\n",
       "    </tr>\n",
       "    <tr>\n",
       "      <th>1</th>\n",
       "      <td>214</td>\n",
       "      <td>TJ</td>\n",
       "      <td>2014</td>\n",
       "    </tr>\n",
       "    <tr>\n",
       "      <th>2</th>\n",
       "      <td>215</td>\n",
       "      <td>John</td>\n",
       "      <td>2015</td>\n",
       "    </tr>\n",
       "    <tr>\n",
       "      <th>3</th>\n",
       "      <td>212</td>\n",
       "      <td>James</td>\n",
       "      <td>2016</td>\n",
       "    </tr>\n",
       "    <tr>\n",
       "      <th>4</th>\n",
       "      <td>212</td>\n",
       "      <td>Jason</td>\n",
       "      <td>2012</td>\n",
       "    </tr>\n",
       "  </tbody>\n",
       "</table>\n",
       "</div>"
      ],
      "text/plain": [
       "   doctor_id patient_name  year\n",
       "0        210        Julia  2015\n",
       "1        214           TJ  2014\n",
       "2        215         John  2015\n",
       "3        212        James  2016\n",
       "4        212        Jason  2012"
      ]
     },
     "execution_count": 19,
     "metadata": {},
     "output_type": "execute_result"
    }
   ],
   "source": [
    "visits"
   ]
  },
  {
   "cell_type": "markdown",
   "metadata": {
    "collapsed": true
   },
   "source": [
    "For every visit, I would like to create a table with the doctor that saw the patient (If one exists)."
   ]
  },
  {
   "cell_type": "code",
   "execution_count": 24,
   "metadata": {
    "collapsed": false
   },
   "outputs": [
    {
     "data": {
      "text/html": [
       "<div>\n",
       "<table border=\"1\" class=\"dataframe\">\n",
       "  <thead>\n",
       "    <tr style=\"text-align: right;\">\n",
       "      <th></th>\n",
       "      <th>patient_name</th>\n",
       "      <th>doc_name</th>\n",
       "      <th>year</th>\n",
       "    </tr>\n",
       "  </thead>\n",
       "  <tbody>\n",
       "    <tr>\n",
       "      <th>0</th>\n",
       "      <td>Julia</td>\n",
       "      <td>Jon</td>\n",
       "      <td>2015</td>\n",
       "    </tr>\n",
       "    <tr>\n",
       "      <th>1</th>\n",
       "      <td>TJ</td>\n",
       "      <td>None</td>\n",
       "      <td>2014</td>\n",
       "    </tr>\n",
       "    <tr>\n",
       "      <th>2</th>\n",
       "      <td>John</td>\n",
       "      <td>None</td>\n",
       "      <td>2015</td>\n",
       "    </tr>\n",
       "    <tr>\n",
       "      <th>3</th>\n",
       "      <td>James</td>\n",
       "      <td>Ke</td>\n",
       "      <td>2016</td>\n",
       "    </tr>\n",
       "    <tr>\n",
       "      <th>4</th>\n",
       "      <td>Jason</td>\n",
       "      <td>Ke</td>\n",
       "      <td>2012</td>\n",
       "    </tr>\n",
       "  </tbody>\n",
       "</table>\n",
       "</div>"
      ],
      "text/plain": [
       "  patient_name doc_name  year\n",
       "0        Julia      Jon  2015\n",
       "1           TJ     None  2014\n",
       "2         John     None  2015\n",
       "3        James       Ke  2016\n",
       "4        Jason       Ke  2012"
      ]
     },
     "execution_count": 24,
     "metadata": {},
     "output_type": "execute_result"
    }
   ],
   "source": [
    "result = sqldf(\"SELECT A.patient_name,B.doc_name, A.year\\\n",
    "            FROM visits AS A \\\n",
    "            LEFT JOIN doctors AS B ON A.doctor_id = B.doctor_id\")\n",
    "result"
   ]
  },
  {
   "cell_type": "code",
   "execution_count": 12,
   "metadata": {
    "collapsed": false
   },
   "outputs": [
    {
     "data": {
      "text/html": [
       "<div>\n",
       "<table border=\"1\" class=\"dataframe\">\n",
       "  <thead>\n",
       "    <tr style=\"text-align: right;\">\n",
       "      <th></th>\n",
       "      <th>doctor_id</th>\n",
       "      <th>patient_name</th>\n",
       "      <th>year</th>\n",
       "      <th>degree</th>\n",
       "      <th>doc_name</th>\n",
       "      <th>doctor_id</th>\n",
       "    </tr>\n",
       "  </thead>\n",
       "  <tbody>\n",
       "    <tr>\n",
       "      <th>0</th>\n",
       "      <td>210</td>\n",
       "      <td>Julia</td>\n",
       "      <td>2015</td>\n",
       "      <td>MD</td>\n",
       "      <td>Jon</td>\n",
       "      <td>210</td>\n",
       "    </tr>\n",
       "    <tr>\n",
       "      <th>1</th>\n",
       "      <td>210</td>\n",
       "      <td>Julia</td>\n",
       "      <td>2015</td>\n",
       "      <td>MBBS</td>\n",
       "      <td>Peter</td>\n",
       "      <td>211</td>\n",
       "    </tr>\n",
       "    <tr>\n",
       "      <th>2</th>\n",
       "      <td>210</td>\n",
       "      <td>Julia</td>\n",
       "      <td>2015</td>\n",
       "      <td>MD</td>\n",
       "      <td>Ke</td>\n",
       "      <td>212</td>\n",
       "    </tr>\n",
       "    <tr>\n",
       "      <th>3</th>\n",
       "      <td>210</td>\n",
       "      <td>Julia</td>\n",
       "      <td>2015</td>\n",
       "      <td>MD</td>\n",
       "      <td>Pat</td>\n",
       "      <td>213</td>\n",
       "    </tr>\n",
       "    <tr>\n",
       "      <th>4</th>\n",
       "      <td>214</td>\n",
       "      <td>TJ</td>\n",
       "      <td>2014</td>\n",
       "      <td>MD</td>\n",
       "      <td>Jon</td>\n",
       "      <td>210</td>\n",
       "    </tr>\n",
       "    <tr>\n",
       "      <th>5</th>\n",
       "      <td>214</td>\n",
       "      <td>TJ</td>\n",
       "      <td>2014</td>\n",
       "      <td>MBBS</td>\n",
       "      <td>Peter</td>\n",
       "      <td>211</td>\n",
       "    </tr>\n",
       "    <tr>\n",
       "      <th>6</th>\n",
       "      <td>214</td>\n",
       "      <td>TJ</td>\n",
       "      <td>2014</td>\n",
       "      <td>MD</td>\n",
       "      <td>Ke</td>\n",
       "      <td>212</td>\n",
       "    </tr>\n",
       "    <tr>\n",
       "      <th>7</th>\n",
       "      <td>214</td>\n",
       "      <td>TJ</td>\n",
       "      <td>2014</td>\n",
       "      <td>MD</td>\n",
       "      <td>Pat</td>\n",
       "      <td>213</td>\n",
       "    </tr>\n",
       "    <tr>\n",
       "      <th>8</th>\n",
       "      <td>215</td>\n",
       "      <td>John</td>\n",
       "      <td>2015</td>\n",
       "      <td>MD</td>\n",
       "      <td>Jon</td>\n",
       "      <td>210</td>\n",
       "    </tr>\n",
       "    <tr>\n",
       "      <th>9</th>\n",
       "      <td>215</td>\n",
       "      <td>John</td>\n",
       "      <td>2015</td>\n",
       "      <td>MBBS</td>\n",
       "      <td>Peter</td>\n",
       "      <td>211</td>\n",
       "    </tr>\n",
       "    <tr>\n",
       "      <th>10</th>\n",
       "      <td>215</td>\n",
       "      <td>John</td>\n",
       "      <td>2015</td>\n",
       "      <td>MD</td>\n",
       "      <td>Ke</td>\n",
       "      <td>212</td>\n",
       "    </tr>\n",
       "    <tr>\n",
       "      <th>11</th>\n",
       "      <td>215</td>\n",
       "      <td>John</td>\n",
       "      <td>2015</td>\n",
       "      <td>MD</td>\n",
       "      <td>Pat</td>\n",
       "      <td>213</td>\n",
       "    </tr>\n",
       "    <tr>\n",
       "      <th>12</th>\n",
       "      <td>212</td>\n",
       "      <td>James</td>\n",
       "      <td>2016</td>\n",
       "      <td>MD</td>\n",
       "      <td>Jon</td>\n",
       "      <td>210</td>\n",
       "    </tr>\n",
       "    <tr>\n",
       "      <th>13</th>\n",
       "      <td>212</td>\n",
       "      <td>James</td>\n",
       "      <td>2016</td>\n",
       "      <td>MBBS</td>\n",
       "      <td>Peter</td>\n",
       "      <td>211</td>\n",
       "    </tr>\n",
       "    <tr>\n",
       "      <th>14</th>\n",
       "      <td>212</td>\n",
       "      <td>James</td>\n",
       "      <td>2016</td>\n",
       "      <td>MD</td>\n",
       "      <td>Ke</td>\n",
       "      <td>212</td>\n",
       "    </tr>\n",
       "    <tr>\n",
       "      <th>15</th>\n",
       "      <td>212</td>\n",
       "      <td>James</td>\n",
       "      <td>2016</td>\n",
       "      <td>MD</td>\n",
       "      <td>Pat</td>\n",
       "      <td>213</td>\n",
       "    </tr>\n",
       "    <tr>\n",
       "      <th>16</th>\n",
       "      <td>212</td>\n",
       "      <td>Jason</td>\n",
       "      <td>2012</td>\n",
       "      <td>MD</td>\n",
       "      <td>Jon</td>\n",
       "      <td>210</td>\n",
       "    </tr>\n",
       "    <tr>\n",
       "      <th>17</th>\n",
       "      <td>212</td>\n",
       "      <td>Jason</td>\n",
       "      <td>2012</td>\n",
       "      <td>MBBS</td>\n",
       "      <td>Peter</td>\n",
       "      <td>211</td>\n",
       "    </tr>\n",
       "    <tr>\n",
       "      <th>18</th>\n",
       "      <td>212</td>\n",
       "      <td>Jason</td>\n",
       "      <td>2012</td>\n",
       "      <td>MD</td>\n",
       "      <td>Ke</td>\n",
       "      <td>212</td>\n",
       "    </tr>\n",
       "    <tr>\n",
       "      <th>19</th>\n",
       "      <td>212</td>\n",
       "      <td>Jason</td>\n",
       "      <td>2012</td>\n",
       "      <td>MD</td>\n",
       "      <td>Pat</td>\n",
       "      <td>213</td>\n",
       "    </tr>\n",
       "  </tbody>\n",
       "</table>\n",
       "</div>"
      ],
      "text/plain": [
       "    doctor_id patient_name  year degree doc_name  doctor_id\n",
       "0         210        Julia  2015     MD      Jon        210\n",
       "1         210        Julia  2015   MBBS    Peter        211\n",
       "2         210        Julia  2015     MD       Ke        212\n",
       "3         210        Julia  2015     MD      Pat        213\n",
       "4         214           TJ  2014     MD      Jon        210\n",
       "5         214           TJ  2014   MBBS    Peter        211\n",
       "6         214           TJ  2014     MD       Ke        212\n",
       "7         214           TJ  2014     MD      Pat        213\n",
       "8         215         John  2015     MD      Jon        210\n",
       "9         215         John  2015   MBBS    Peter        211\n",
       "10        215         John  2015     MD       Ke        212\n",
       "11        215         John  2015     MD      Pat        213\n",
       "12        212        James  2016     MD      Jon        210\n",
       "13        212        James  2016   MBBS    Peter        211\n",
       "14        212        James  2016     MD       Ke        212\n",
       "15        212        James  2016     MD      Pat        213\n",
       "16        212        Jason  2012     MD      Jon        210\n",
       "17        212        Jason  2012   MBBS    Peter        211\n",
       "18        212        Jason  2012     MD       Ke        212\n",
       "19        212        Jason  2012     MD      Pat        213"
      ]
     },
     "execution_count": 12,
     "metadata": {},
     "output_type": "execute_result"
    }
   ],
   "source": [
    "# Full outer join.  We get every pair of rows for the two dfs.\n",
    "#I always start at the outer join and then filter\n",
    "sqldf(\"SELECT * FROM visits JOIN doctors\")"
   ]
  },
  {
   "cell_type": "code",
   "execution_count": 13,
   "metadata": {
    "collapsed": false
   },
   "outputs": [
    {
     "data": {
      "text/html": [
       "<div>\n",
       "<table border=\"1\" class=\"dataframe\">\n",
       "  <thead>\n",
       "    <tr style=\"text-align: right;\">\n",
       "      <th></th>\n",
       "      <th>doctor_id</th>\n",
       "      <th>patient_name</th>\n",
       "      <th>year</th>\n",
       "      <th>degree</th>\n",
       "      <th>doc_name</th>\n",
       "      <th>doctor_id</th>\n",
       "    </tr>\n",
       "  </thead>\n",
       "  <tbody>\n",
       "    <tr>\n",
       "      <th>0</th>\n",
       "      <td>210</td>\n",
       "      <td>Julia</td>\n",
       "      <td>2015</td>\n",
       "      <td>MD</td>\n",
       "      <td>Jon</td>\n",
       "      <td>210</td>\n",
       "    </tr>\n",
       "    <tr>\n",
       "      <th>1</th>\n",
       "      <td>212</td>\n",
       "      <td>James</td>\n",
       "      <td>2016</td>\n",
       "      <td>MD</td>\n",
       "      <td>Ke</td>\n",
       "      <td>212</td>\n",
       "    </tr>\n",
       "    <tr>\n",
       "      <th>2</th>\n",
       "      <td>212</td>\n",
       "      <td>Jason</td>\n",
       "      <td>2012</td>\n",
       "      <td>MD</td>\n",
       "      <td>Ke</td>\n",
       "      <td>212</td>\n",
       "    </tr>\n",
       "  </tbody>\n",
       "</table>\n",
       "</div>"
      ],
      "text/plain": [
       "   doctor_id patient_name  year degree doc_name  doctor_id\n",
       "0        210        Julia  2015     MD      Jon        210\n",
       "1        212        James  2016     MD       Ke        212\n",
       "2        212        Jason  2012     MD       Ke        212"
      ]
     },
     "execution_count": 13,
     "metadata": {},
     "output_type": "execute_result"
    }
   ],
   "source": [
    "#Matching patients to the doctors they see (INNER JOIN)\n",
    "#Note how we reference columns in different tables\n",
    "sqldf(\"SELECT * FROM visits AS V JOIN doctors AS D ON V.doctor_id = D.doctor_id \")"
   ]
  },
  {
   "cell_type": "code",
   "execution_count": 14,
   "metadata": {
    "collapsed": false
   },
   "outputs": [
    {
     "data": {
      "text/html": [
       "<div>\n",
       "<table border=\"1\" class=\"dataframe\">\n",
       "  <thead>\n",
       "    <tr style=\"text-align: right;\">\n",
       "      <th></th>\n",
       "      <th>doctor_id</th>\n",
       "      <th>doc_name</th>\n",
       "      <th>patient_name</th>\n",
       "      <th>year</th>\n",
       "    </tr>\n",
       "  </thead>\n",
       "  <tbody>\n",
       "    <tr>\n",
       "      <th>0</th>\n",
       "      <td>210</td>\n",
       "      <td>Jon</td>\n",
       "      <td>Julia</td>\n",
       "      <td>2015</td>\n",
       "    </tr>\n",
       "    <tr>\n",
       "      <th>1</th>\n",
       "      <td>212</td>\n",
       "      <td>Ke</td>\n",
       "      <td>James</td>\n",
       "      <td>2016</td>\n",
       "    </tr>\n",
       "    <tr>\n",
       "      <th>2</th>\n",
       "      <td>212</td>\n",
       "      <td>Ke</td>\n",
       "      <td>Jason</td>\n",
       "      <td>2012</td>\n",
       "    </tr>\n",
       "  </tbody>\n",
       "</table>\n",
       "</div>"
      ],
      "text/plain": [
       "   doctor_id doc_name patient_name  year\n",
       "0        210      Jon        Julia  2015\n",
       "1        212       Ke        James  2016\n",
       "2        212       Ke        Jason  2012"
      ]
     },
     "execution_count": 14,
     "metadata": {},
     "output_type": "execute_result"
    }
   ],
   "source": [
    "#Same thing but getting rid of redundant columns\n",
    "sqldf(\"SELECT D.doctor_id, D.doc_name, V.patient_name, V.year FROM visits AS V JOIN doctors AS D ON V.doctor_id = D.doctor_id \")"
   ]
  },
  {
   "cell_type": "markdown",
   "metadata": {},
   "source": [
    "For every visit, I would like to create a table with the doctor that saw the patient (If one exists) in 2015."
   ]
  },
  {
   "cell_type": "code",
   "execution_count": 15,
   "metadata": {
    "collapsed": false
   },
   "outputs": [
    {
     "data": {
      "text/html": [
       "<div>\n",
       "<table border=\"1\" class=\"dataframe\">\n",
       "  <thead>\n",
       "    <tr style=\"text-align: right;\">\n",
       "      <th></th>\n",
       "      <th>doctor_id</th>\n",
       "      <th>doc_name</th>\n",
       "      <th>patient_name</th>\n",
       "      <th>year</th>\n",
       "    </tr>\n",
       "  </thead>\n",
       "  <tbody>\n",
       "    <tr>\n",
       "      <th>0</th>\n",
       "      <td>210</td>\n",
       "      <td>Jon</td>\n",
       "      <td>Julia</td>\n",
       "      <td>2015</td>\n",
       "    </tr>\n",
       "  </tbody>\n",
       "</table>\n",
       "</div>"
      ],
      "text/plain": [
       "   doctor_id doc_name patient_name  year\n",
       "0        210      Jon        Julia  2015"
      ]
     },
     "execution_count": 15,
     "metadata": {},
     "output_type": "execute_result"
    }
   ],
   "source": [
    "#Add second condition in the WHERE, which filters after\n",
    "#the join has been executed\n",
    "sqldf(\"SELECT D.doctor_id, D.doc_name, V.patient_name, V.year FROM visits AS V JOIN doctors AS D ON V.doctor_id = D.doctor_id WHERE year = 2015 \")"
   ]
  },
  {
   "cell_type": "markdown",
   "metadata": {},
   "source": [
    "Find the number of patients served by each doctor"
   ]
  },
  {
   "cell_type": "code",
   "execution_count": 16,
   "metadata": {
    "collapsed": false
   },
   "outputs": [
    {
     "data": {
      "text/html": [
       "<div>\n",
       "<table border=\"1\" class=\"dataframe\">\n",
       "  <thead>\n",
       "    <tr style=\"text-align: right;\">\n",
       "      <th></th>\n",
       "      <th>doctor_id</th>\n",
       "      <th>doc_name</th>\n",
       "      <th>num_visits</th>\n",
       "    </tr>\n",
       "  </thead>\n",
       "  <tbody>\n",
       "    <tr>\n",
       "      <th>0</th>\n",
       "      <td>210</td>\n",
       "      <td>Jon</td>\n",
       "      <td>1</td>\n",
       "    </tr>\n",
       "    <tr>\n",
       "      <th>1</th>\n",
       "      <td>212</td>\n",
       "      <td>Ke</td>\n",
       "      <td>2</td>\n",
       "    </tr>\n",
       "  </tbody>\n",
       "</table>\n",
       "</div>"
      ],
      "text/plain": [
       "   doctor_id doc_name  num_visits\n",
       "0        210      Jon           1\n",
       "1        212       Ke           2"
      ]
     },
     "execution_count": 16,
     "metadata": {},
     "output_type": "execute_result"
    }
   ],
   "source": [
    "#Join with a group by. Gives the number of patients each doctor saw\n",
    "sqldf(\"SELECT D.doctor_id, D.doc_name, COUNT(*) AS num_visits FROM visits AS V JOIN doctors AS D ON V.doctor_id = D.doctor_id GROUP BY D.doctor_id \")"
   ]
  },
  {
   "cell_type": "markdown",
   "metadata": {},
   "source": [
    "For every visit, I would like to create a table with the doctor that saw the patient (Put blank if one does not exist)."
   ]
  },
  {
   "cell_type": "code",
   "execution_count": 17,
   "metadata": {
    "collapsed": false
   },
   "outputs": [
    {
     "data": {
      "text/html": [
       "<div>\n",
       "<table border=\"1\" class=\"dataframe\">\n",
       "  <thead>\n",
       "    <tr style=\"text-align: right;\">\n",
       "      <th></th>\n",
       "      <th>patient_name</th>\n",
       "      <th>year</th>\n",
       "      <th>doc_name</th>\n",
       "    </tr>\n",
       "  </thead>\n",
       "  <tbody>\n",
       "    <tr>\n",
       "      <th>0</th>\n",
       "      <td>Julia</td>\n",
       "      <td>2015</td>\n",
       "      <td>Jon</td>\n",
       "    </tr>\n",
       "    <tr>\n",
       "      <th>1</th>\n",
       "      <td>TJ</td>\n",
       "      <td>2014</td>\n",
       "      <td>None</td>\n",
       "    </tr>\n",
       "    <tr>\n",
       "      <th>2</th>\n",
       "      <td>John</td>\n",
       "      <td>2015</td>\n",
       "      <td>None</td>\n",
       "    </tr>\n",
       "    <tr>\n",
       "      <th>3</th>\n",
       "      <td>James</td>\n",
       "      <td>2016</td>\n",
       "      <td>Ke</td>\n",
       "    </tr>\n",
       "    <tr>\n",
       "      <th>4</th>\n",
       "      <td>Jason</td>\n",
       "      <td>2012</td>\n",
       "      <td>Ke</td>\n",
       "    </tr>\n",
       "  </tbody>\n",
       "</table>\n",
       "</div>"
      ],
      "text/plain": [
       "  patient_name  year doc_name\n",
       "0        Julia  2015      Jon\n",
       "1           TJ  2014     None\n",
       "2         John  2015     None\n",
       "3        James  2016       Ke\n",
       "4        Jason  2012       Ke"
      ]
     },
     "execution_count": 17,
     "metadata": {},
     "output_type": "execute_result"
    }
   ],
   "source": [
    "#Getting all patients with doctors even if we don't know the doctor with a LEFT JOIN (We will get a null or blank in this case)\n",
    "sqldf(\"SELECT   V.patient_name, V.year, D.doc_name FROM visits AS V LEFT JOIN doctors AS D ON D.doctor_id = V.doctor_id \")"
   ]
  },
  {
   "cell_type": "markdown",
   "metadata": {},
   "source": [
    "## Airlines Example\n"
   ]
  },
  {
   "cell_type": "code",
   "execution_count": 21,
   "metadata": {
    "collapsed": false
   },
   "outputs": [
    {
     "data": {
      "text/html": [
       "<div>\n",
       "<table border=\"1\" class=\"dataframe\">\n",
       "  <thead>\n",
       "    <tr style=\"text-align: right;\">\n",
       "      <th></th>\n",
       "      <th>Id</th>\n",
       "      <th>Airline</th>\n",
       "      <th>Abbreviation</th>\n",
       "      <th>Country</th>\n",
       "    </tr>\n",
       "  </thead>\n",
       "  <tbody>\n",
       "    <tr>\n",
       "      <th>0</th>\n",
       "      <td>1</td>\n",
       "      <td>United Airlines</td>\n",
       "      <td>UAL</td>\n",
       "      <td>USA</td>\n",
       "    </tr>\n",
       "    <tr>\n",
       "      <th>1</th>\n",
       "      <td>2</td>\n",
       "      <td>US Airways</td>\n",
       "      <td>USAir</td>\n",
       "      <td>USA</td>\n",
       "    </tr>\n",
       "    <tr>\n",
       "      <th>2</th>\n",
       "      <td>3</td>\n",
       "      <td>Delta Airlines</td>\n",
       "      <td>Delta</td>\n",
       "      <td>USA</td>\n",
       "    </tr>\n",
       "    <tr>\n",
       "      <th>3</th>\n",
       "      <td>4</td>\n",
       "      <td>Southwest Airlines</td>\n",
       "      <td>Southwest</td>\n",
       "      <td>USA</td>\n",
       "    </tr>\n",
       "    <tr>\n",
       "      <th>4</th>\n",
       "      <td>5</td>\n",
       "      <td>American Airlines</td>\n",
       "      <td>American</td>\n",
       "      <td>USA</td>\n",
       "    </tr>\n",
       "  </tbody>\n",
       "</table>\n",
       "</div>"
      ],
      "text/plain": [
       "   Id             Airline Abbreviation Country\n",
       "0   1     United Airlines          UAL     USA\n",
       "1   2          US Airways        USAir     USA\n",
       "2   3      Delta Airlines        Delta     USA\n",
       "3   4  Southwest Airlines    Southwest     USA\n",
       "4   5   American Airlines     American     USA"
      ]
     },
     "execution_count": 21,
     "metadata": {},
     "output_type": "execute_result"
    }
   ],
   "source": [
    "airlines = pd.read_csv(\"Data_Sets/Airlines_Data/airlines.csv\", )\n",
    "airlines.head()"
   ]
  },
  {
   "cell_type": "code",
   "execution_count": 22,
   "metadata": {
    "collapsed": false
   },
   "outputs": [
    {
     "data": {
      "text/html": [
       "<div>\n",
       "<table border=\"1\" class=\"dataframe\">\n",
       "  <thead>\n",
       "    <tr style=\"text-align: right;\">\n",
       "      <th></th>\n",
       "      <th>Airline</th>\n",
       "      <th>FlightNo</th>\n",
       "      <th>SourceAirport</th>\n",
       "      <th>DestAirport</th>\n",
       "    </tr>\n",
       "  </thead>\n",
       "  <tbody>\n",
       "    <tr>\n",
       "      <th>0</th>\n",
       "      <td>1</td>\n",
       "      <td>28</td>\n",
       "      <td>APG</td>\n",
       "      <td>ASY</td>\n",
       "    </tr>\n",
       "    <tr>\n",
       "      <th>1</th>\n",
       "      <td>1</td>\n",
       "      <td>29</td>\n",
       "      <td>ASY</td>\n",
       "      <td>APG</td>\n",
       "    </tr>\n",
       "    <tr>\n",
       "      <th>2</th>\n",
       "      <td>1</td>\n",
       "      <td>44</td>\n",
       "      <td>CVO</td>\n",
       "      <td>ACV</td>\n",
       "    </tr>\n",
       "    <tr>\n",
       "      <th>3</th>\n",
       "      <td>1</td>\n",
       "      <td>45</td>\n",
       "      <td>ACV</td>\n",
       "      <td>CVO</td>\n",
       "    </tr>\n",
       "    <tr>\n",
       "      <th>4</th>\n",
       "      <td>1</td>\n",
       "      <td>54</td>\n",
       "      <td>AHD</td>\n",
       "      <td>AHT</td>\n",
       "    </tr>\n",
       "  </tbody>\n",
       "</table>\n",
       "</div>"
      ],
      "text/plain": [
       "   Airline  FlightNo SourceAirport DestAirport\n",
       "0        1        28           APG         ASY\n",
       "1        1        29           ASY         APG\n",
       "2        1        44           CVO         ACV\n",
       "3        1        45           ACV         CVO\n",
       "4        1        54           AHD         AHT"
      ]
     },
     "execution_count": 22,
     "metadata": {},
     "output_type": "execute_result"
    }
   ],
   "source": [
    "flights = pd.read_csv(\"Data_Sets/Airlines_Data/flights.csv\")\n",
    "flights.head()\n"
   ]
  },
  {
   "cell_type": "code",
   "execution_count": 23,
   "metadata": {
    "collapsed": false
   },
   "outputs": [
    {
     "data": {
      "text/html": [
       "<div>\n",
       "<table border=\"1\" class=\"dataframe\">\n",
       "  <thead>\n",
       "    <tr style=\"text-align: right;\">\n",
       "      <th></th>\n",
       "      <th>City</th>\n",
       "      <th>AirportCode</th>\n",
       "      <th>AirportName</th>\n",
       "      <th>Country</th>\n",
       "      <th>CountryAbbrev</th>\n",
       "    </tr>\n",
       "  </thead>\n",
       "  <tbody>\n",
       "    <tr>\n",
       "      <th>0</th>\n",
       "      <td>Aberdeen</td>\n",
       "      <td>APG</td>\n",
       "      <td>Phillips AAF</td>\n",
       "      <td>United States</td>\n",
       "      <td>US</td>\n",
       "    </tr>\n",
       "    <tr>\n",
       "      <th>1</th>\n",
       "      <td>Aberdeen</td>\n",
       "      <td>ABR</td>\n",
       "      <td>Municipal</td>\n",
       "      <td>United States</td>\n",
       "      <td>US</td>\n",
       "    </tr>\n",
       "    <tr>\n",
       "      <th>2</th>\n",
       "      <td>Abilene</td>\n",
       "      <td>DYS</td>\n",
       "      <td>Dyess AFB</td>\n",
       "      <td>United States</td>\n",
       "      <td>US</td>\n",
       "    </tr>\n",
       "    <tr>\n",
       "      <th>3</th>\n",
       "      <td>Abilene</td>\n",
       "      <td>ABI</td>\n",
       "      <td>Municipal</td>\n",
       "      <td>United States</td>\n",
       "      <td>US</td>\n",
       "    </tr>\n",
       "    <tr>\n",
       "      <th>4</th>\n",
       "      <td>Abingdon</td>\n",
       "      <td>VJI</td>\n",
       "      <td>Virginia Highlands</td>\n",
       "      <td>United States</td>\n",
       "      <td>US</td>\n",
       "    </tr>\n",
       "  </tbody>\n",
       "</table>\n",
       "</div>"
      ],
      "text/plain": [
       "        City AirportCode          AirportName         Country CountryAbbrev\n",
       "0  Aberdeen          APG        Phillips AAF   United States            US \n",
       "1  Aberdeen          ABR           Municipal   United States            US \n",
       "2   Abilene          DYS           Dyess AFB   United States            US \n",
       "3   Abilene          ABI           Municipal   United States            US \n",
       "4  Abingdon          VJI  Virginia Highlands   United States            US "
      ]
     },
     "execution_count": 23,
     "metadata": {},
     "output_type": "execute_result"
    }
   ],
   "source": [
    "airports = pd.read_csv(\"Data_Sets/Airlines_Data/airports.csv\", encoding='utf8', engine='python')\n",
    "#Replace spaces in column names\n",
    "airports.columns = [c.replace(' ', '') for c in airports.columns]\n",
    "airports.head()"
   ]
  },
  {
   "cell_type": "markdown",
   "metadata": {},
   "source": [
    "For each airline, find the most popular source and destination city\n",
    "\n",
    "Gameplan:\n",
    "\n",
    "- Find the airline associated with each flight (W/ Join)\n",
    "\n",
    "- Find the city associated with each source/destination airport (W/ Join)\n",
    "\n",
    "- Get counts for each airline\n",
    "\n",
    "- Pick out the most popular\n",
    "\n"
   ]
  },
  {
   "cell_type": "code",
   "execution_count": 24,
   "metadata": {
    "collapsed": false
   },
   "outputs": [
    {
     "data": {
      "text/html": [
       "<div>\n",
       "<table border=\"1\" class=\"dataframe\">\n",
       "  <thead>\n",
       "    <tr style=\"text-align: right;\">\n",
       "      <th></th>\n",
       "      <th>Airline</th>\n",
       "      <th>FlightNo</th>\n",
       "      <th>SourceAirport</th>\n",
       "      <th>DestAirport</th>\n",
       "    </tr>\n",
       "  </thead>\n",
       "  <tbody>\n",
       "    <tr>\n",
       "      <th>0</th>\n",
       "      <td>United Airlines</td>\n",
       "      <td>28</td>\n",
       "      <td>APG</td>\n",
       "      <td>ASY</td>\n",
       "    </tr>\n",
       "    <tr>\n",
       "      <th>1</th>\n",
       "      <td>United Airlines</td>\n",
       "      <td>29</td>\n",
       "      <td>ASY</td>\n",
       "      <td>APG</td>\n",
       "    </tr>\n",
       "    <tr>\n",
       "      <th>2</th>\n",
       "      <td>United Airlines</td>\n",
       "      <td>44</td>\n",
       "      <td>CVO</td>\n",
       "      <td>ACV</td>\n",
       "    </tr>\n",
       "    <tr>\n",
       "      <th>3</th>\n",
       "      <td>United Airlines</td>\n",
       "      <td>45</td>\n",
       "      <td>ACV</td>\n",
       "      <td>CVO</td>\n",
       "    </tr>\n",
       "    <tr>\n",
       "      <th>4</th>\n",
       "      <td>United Airlines</td>\n",
       "      <td>54</td>\n",
       "      <td>AHD</td>\n",
       "      <td>AHT</td>\n",
       "    </tr>\n",
       "  </tbody>\n",
       "</table>\n",
       "</div>"
      ],
      "text/plain": [
       "           Airline  FlightNo SourceAirport DestAirport\n",
       "0  United Airlines        28           APG         ASY\n",
       "1  United Airlines        29           ASY         APG\n",
       "2  United Airlines        44           CVO         ACV\n",
       "3  United Airlines        45           ACV         CVO\n",
       "4  United Airlines        54           AHD         AHT"
      ]
     },
     "execution_count": 24,
     "metadata": {},
     "output_type": "execute_result"
    }
   ],
   "source": [
    "#Find the airline associated with each city (W/ Join)\n",
    "df_step1 = sqldf(\"SELECT A.Airline, B.FlightNo, B.SourceAirport, B.DestAirport FROM flights AS B JOIN airlines AS A \\\n",
    "ON A.Id = B.Airline \")\n",
    "df_step1.head()\n"
   ]
  },
  {
   "cell_type": "code",
   "execution_count": 25,
   "metadata": {
    "collapsed": false
   },
   "outputs": [
    {
     "data": {
      "text/html": [
       "<div>\n",
       "<table border=\"1\" class=\"dataframe\">\n",
       "  <thead>\n",
       "    <tr style=\"text-align: right;\">\n",
       "      <th></th>\n",
       "      <th>Airline</th>\n",
       "      <th>FlightNo</th>\n",
       "      <th>SourceAirport</th>\n",
       "      <th>DestAirport</th>\n",
       "      <th>SourceCity</th>\n",
       "      <th>DestCity</th>\n",
       "    </tr>\n",
       "  </thead>\n",
       "  <tbody>\n",
       "    <tr>\n",
       "      <th>0</th>\n",
       "      <td>United Airlines</td>\n",
       "      <td>28</td>\n",
       "      <td>APG</td>\n",
       "      <td>ASY</td>\n",
       "      <td>Aberdeen</td>\n",
       "      <td>Ashley</td>\n",
       "    </tr>\n",
       "    <tr>\n",
       "      <th>1</th>\n",
       "      <td>United Airlines</td>\n",
       "      <td>29</td>\n",
       "      <td>ASY</td>\n",
       "      <td>APG</td>\n",
       "      <td>Ashley</td>\n",
       "      <td>Aberdeen</td>\n",
       "    </tr>\n",
       "    <tr>\n",
       "      <th>2</th>\n",
       "      <td>United Airlines</td>\n",
       "      <td>44</td>\n",
       "      <td>CVO</td>\n",
       "      <td>ACV</td>\n",
       "      <td>Albany</td>\n",
       "      <td>Arcata</td>\n",
       "    </tr>\n",
       "    <tr>\n",
       "      <th>3</th>\n",
       "      <td>United Airlines</td>\n",
       "      <td>45</td>\n",
       "      <td>ACV</td>\n",
       "      <td>CVO</td>\n",
       "      <td>Arcata</td>\n",
       "      <td>Albany</td>\n",
       "    </tr>\n",
       "    <tr>\n",
       "      <th>4</th>\n",
       "      <td>United Airlines</td>\n",
       "      <td>54</td>\n",
       "      <td>AHD</td>\n",
       "      <td>AHT</td>\n",
       "      <td>Ardmore</td>\n",
       "      <td>Amchitka</td>\n",
       "    </tr>\n",
       "  </tbody>\n",
       "</table>\n",
       "</div>"
      ],
      "text/plain": [
       "           Airline  FlightNo SourceAirport DestAirport SourceCity   DestCity\n",
       "0  United Airlines        28           APG         ASY  Aberdeen     Ashley \n",
       "1  United Airlines        29           ASY         APG    Ashley   Aberdeen \n",
       "2  United Airlines        44           CVO         ACV    Albany     Arcata \n",
       "3  United Airlines        45           ACV         CVO    Arcata     Albany \n",
       "4  United Airlines        54           AHD         AHT   Ardmore   Amchitka "
      ]
     },
     "execution_count": 25,
     "metadata": {},
     "output_type": "execute_result"
    }
   ],
   "source": [
    "#Find the city associated with each source/destination airport (W/ Join)\n",
    "df_step2a  =sqldf(\"SELECT A.*,B.City As SourceCity FROM df_step1 AS A JOIN \\\n",
    "airports AS B ON B.AirportCode = A.SourceAirport  \")\n",
    "\n",
    "df_step2  =sqldf(\"SELECT A.*,B.City As DestCity FROM df_step2a AS A JOIN \\\n",
    "airports AS B ON B.AirportCode = A.DestAirport  \")\n",
    "\n",
    "df_step2.head()"
   ]
  },
  {
   "cell_type": "code",
   "execution_count": 26,
   "metadata": {
    "collapsed": false
   },
   "outputs": [
    {
     "data": {
      "text/html": [
       "<div>\n",
       "<table border=\"1\" class=\"dataframe\">\n",
       "  <thead>\n",
       "    <tr style=\"text-align: right;\">\n",
       "      <th></th>\n",
       "      <th>Airline</th>\n",
       "      <th>DestCity</th>\n",
       "      <th>numFlightsDest</th>\n",
       "    </tr>\n",
       "  </thead>\n",
       "  <tbody>\n",
       "    <tr>\n",
       "      <th>0</th>\n",
       "      <td>AirTran Airways</td>\n",
       "      <td>Alexandria LA</td>\n",
       "      <td>1</td>\n",
       "    </tr>\n",
       "    <tr>\n",
       "      <th>1</th>\n",
       "      <td>AirTran Airways</td>\n",
       "      <td>Aliceville AL</td>\n",
       "      <td>3</td>\n",
       "    </tr>\n",
       "    <tr>\n",
       "      <th>2</th>\n",
       "      <td>AirTran Airways</td>\n",
       "      <td>Amarillo</td>\n",
       "      <td>2</td>\n",
       "    </tr>\n",
       "    <tr>\n",
       "      <th>3</th>\n",
       "      <td>AirTran Airways</td>\n",
       "      <td>Ann Arbor MI</td>\n",
       "      <td>2</td>\n",
       "    </tr>\n",
       "    <tr>\n",
       "      <th>4</th>\n",
       "      <td>AirTran Airways</td>\n",
       "      <td>Anniston AL</td>\n",
       "      <td>1</td>\n",
       "    </tr>\n",
       "  </tbody>\n",
       "</table>\n",
       "</div>"
      ],
      "text/plain": [
       "           Airline          DestCity  numFlightsDest\n",
       "0  AirTran Airways   Alexandria LA                 1\n",
       "1  AirTran Airways   Aliceville AL                 3\n",
       "2  AirTran Airways       Amarillo                  2\n",
       "3  AirTran Airways    Ann Arbor MI                 2\n",
       "4  AirTran Airways     Anniston AL                 1"
      ]
     },
     "execution_count": 26,
     "metadata": {},
     "output_type": "execute_result"
    }
   ],
   "source": [
    "#Get counts for each airlines for each source and destination\n",
    "df_step3_source = sqldf(\"SELECT Airline, SourceCity, COUNT(*) \\\n",
    "AS numFlightsSource FROM df_step2 GROUP BY Airline, SourceCity\")\n",
    "\n",
    "df_step3_dest = sqldf(\"SELECT Airline, DestCity, COUNT(*) \\\n",
    "AS numFlightsDest FROM df_step2 GROUP BY Airline, DestCity\")\n",
    "\n",
    "df_step3_dest.head()"
   ]
  },
  {
   "cell_type": "code",
   "execution_count": 27,
   "metadata": {
    "collapsed": false
   },
   "outputs": [
    {
     "data": {
      "text/html": [
       "<div>\n",
       "<table border=\"1\" class=\"dataframe\">\n",
       "  <thead>\n",
       "    <tr style=\"text-align: right;\">\n",
       "      <th></th>\n",
       "      <th>Airline</th>\n",
       "      <th>SourceCity</th>\n",
       "      <th>popSource</th>\n",
       "    </tr>\n",
       "  </thead>\n",
       "  <tbody>\n",
       "    <tr>\n",
       "      <th>0</th>\n",
       "      <td>AirTran Airways</td>\n",
       "      <td>Abilene</td>\n",
       "      <td>5</td>\n",
       "    </tr>\n",
       "    <tr>\n",
       "      <th>1</th>\n",
       "      <td>Allegiant Air</td>\n",
       "      <td>Altus</td>\n",
       "      <td>5</td>\n",
       "    </tr>\n",
       "    <tr>\n",
       "      <th>2</th>\n",
       "      <td>American Airlines</td>\n",
       "      <td>Albany</td>\n",
       "      <td>5</td>\n",
       "    </tr>\n",
       "    <tr>\n",
       "      <th>3</th>\n",
       "      <td>Continental Airlines</td>\n",
       "      <td>Akiak</td>\n",
       "      <td>5</td>\n",
       "    </tr>\n",
       "    <tr>\n",
       "      <th>4</th>\n",
       "      <td>Delta Airlines</td>\n",
       "      <td>Appleton</td>\n",
       "      <td>4</td>\n",
       "    </tr>\n",
       "  </tbody>\n",
       "</table>\n",
       "</div>"
      ],
      "text/plain": [
       "                Airline SourceCity  popSource\n",
       "0       AirTran Airways   Abilene           5\n",
       "1         Allegiant Air     Altus           5\n",
       "2     American Airlines    Albany           5\n",
       "3  Continental Airlines     Akiak           5\n",
       "4        Delta Airlines  Appleton           4"
      ]
     },
     "execution_count": 27,
     "metadata": {},
     "output_type": "execute_result"
    }
   ],
   "source": [
    "#Find Maximums\n",
    "df_step4_maxsource = sqldf(\"SELECT Airline, SourceCity,MAX(numFlightsSource) AS popSource \\\n",
    "                           FROM df_step3_source GROUP BY Airline\")\n",
    "\n",
    "df_step4_maxsource.head()"
   ]
  },
  {
   "cell_type": "markdown",
   "metadata": {
    "collapsed": true
   },
   "source": [
    "## Union and Intersection\n",
    "\n",
    "These commands allow us to take the union or intersection of a bunch of rows\n",
    "\n",
    "Here is the general use:\n",
    "\n",
    "$$\n",
    "\"\\text{SELECT columnNames FROM dfName1 UNION/INTERSECTION SELECT columnNames FROM dfName2 }\"\n",
    "$$\n",
    "\n",
    "Lets see this in action"
   ]
  },
  {
   "cell_type": "code",
   "execution_count": 28,
   "metadata": {
    "collapsed": false
   },
   "outputs": [
    {
     "data": {
      "text/html": [
       "<div>\n",
       "<table border=\"1\" class=\"dataframe\">\n",
       "  <thead>\n",
       "    <tr style=\"text-align: right;\">\n",
       "      <th></th>\n",
       "      <th>Week</th>\n",
       "      <th>RushPoints</th>\n",
       "    </tr>\n",
       "  </thead>\n",
       "  <tbody>\n",
       "    <tr>\n",
       "      <th>0</th>\n",
       "      <td>1</td>\n",
       "      <td>12</td>\n",
       "    </tr>\n",
       "    <tr>\n",
       "      <th>1</th>\n",
       "      <td>2</td>\n",
       "      <td>32</td>\n",
       "    </tr>\n",
       "    <tr>\n",
       "      <th>2</th>\n",
       "      <td>3</td>\n",
       "      <td>34</td>\n",
       "    </tr>\n",
       "    <tr>\n",
       "      <th>3</th>\n",
       "      <td>4</td>\n",
       "      <td>12</td>\n",
       "    </tr>\n",
       "  </tbody>\n",
       "</table>\n",
       "</div>"
      ],
      "text/plain": [
       "   Week  RushPoints\n",
       "0     1          12\n",
       "1     2          32\n",
       "2     3          34\n",
       "3     4          12"
      ]
     },
     "execution_count": 28,
     "metadata": {},
     "output_type": "execute_result"
    }
   ],
   "source": [
    "#Create Two data frames\n",
    "df1 = pd.DataFrame({ \"RushPoints\":[12,32,34,12], \"Week\":[1,2,3,4]})\n",
    "df1 = df1[[\"Week\", \"RushPoints\"]]\n",
    "df1"
   ]
  },
  {
   "cell_type": "code",
   "execution_count": 29,
   "metadata": {
    "collapsed": false
   },
   "outputs": [
    {
     "data": {
      "text/html": [
       "<div>\n",
       "<table border=\"1\" class=\"dataframe\">\n",
       "  <thead>\n",
       "    <tr style=\"text-align: right;\">\n",
       "      <th></th>\n",
       "      <th>Week</th>\n",
       "      <th>RecPoints</th>\n",
       "    </tr>\n",
       "  </thead>\n",
       "  <tbody>\n",
       "    <tr>\n",
       "      <th>0</th>\n",
       "      <td>2</td>\n",
       "      <td>101</td>\n",
       "    </tr>\n",
       "    <tr>\n",
       "      <th>1</th>\n",
       "      <td>3</td>\n",
       "      <td>310</td>\n",
       "    </tr>\n",
       "    <tr>\n",
       "      <th>2</th>\n",
       "      <td>5</td>\n",
       "      <td>234</td>\n",
       "    </tr>\n",
       "  </tbody>\n",
       "</table>\n",
       "</div>"
      ],
      "text/plain": [
       "   Week  RecPoints\n",
       "0     2        101\n",
       "1     3        310\n",
       "2     5        234"
      ]
     },
     "execution_count": 29,
     "metadata": {},
     "output_type": "execute_result"
    }
   ],
   "source": [
    "df2 = pd.DataFrame({\"Week\":[2,3,5], \"RecPoints\":[101,310,234]})\n",
    "df2 = df2[[\"Week\", \"RecPoints\"]]\n",
    "df2"
   ]
  },
  {
   "cell_type": "markdown",
   "metadata": {},
   "source": [
    "Lets say I wanted to combine the reconds and put a zero if one of the points categories did not exists for the given week."
   ]
  },
  {
   "cell_type": "code",
   "execution_count": 31,
   "metadata": {
    "collapsed": false
   },
   "outputs": [
    {
     "data": {
      "text/html": [
       "<div>\n",
       "<table border=\"1\" class=\"dataframe\">\n",
       "  <thead>\n",
       "    <tr style=\"text-align: right;\">\n",
       "      <th></th>\n",
       "      <th>Week</th>\n",
       "      <th>RushPoints</th>\n",
       "      <th>RecPoints</th>\n",
       "    </tr>\n",
       "  </thead>\n",
       "  <tbody>\n",
       "    <tr>\n",
       "      <th>0</th>\n",
       "      <td>1</td>\n",
       "      <td>12</td>\n",
       "      <td>NaN</td>\n",
       "    </tr>\n",
       "    <tr>\n",
       "      <th>1</th>\n",
       "      <td>2</td>\n",
       "      <td>32</td>\n",
       "      <td>101.0</td>\n",
       "    </tr>\n",
       "    <tr>\n",
       "      <th>2</th>\n",
       "      <td>3</td>\n",
       "      <td>34</td>\n",
       "      <td>310.0</td>\n",
       "    </tr>\n",
       "    <tr>\n",
       "      <th>3</th>\n",
       "      <td>4</td>\n",
       "      <td>12</td>\n",
       "      <td>NaN</td>\n",
       "    </tr>\n",
       "  </tbody>\n",
       "</table>\n",
       "</div>"
      ],
      "text/plain": [
       "   Week  RushPoints  RecPoints\n",
       "0     1          12        NaN\n",
       "1     2          32      101.0\n",
       "2     3          34      310.0\n",
       "3     4          12        NaN"
      ]
     },
     "execution_count": 31,
     "metadata": {},
     "output_type": "execute_result"
    }
   ],
   "source": [
    "#I'll first do to left joins\n",
    "left1 = sqldf(\"SELECT A.Week,A.RushPoints, B.RecPoints FROM df1 AS A LEFT JOIN df2 AS B ON A.Week=B.Week \")\n",
    "left1\n"
   ]
  },
  {
   "cell_type": "code",
   "execution_count": 32,
   "metadata": {
    "collapsed": false
   },
   "outputs": [
    {
     "data": {
      "text/html": [
       "<div>\n",
       "<table border=\"1\" class=\"dataframe\">\n",
       "  <thead>\n",
       "    <tr style=\"text-align: right;\">\n",
       "      <th></th>\n",
       "      <th>Week</th>\n",
       "      <th>RushPoints</th>\n",
       "      <th>RecPoints</th>\n",
       "    </tr>\n",
       "  </thead>\n",
       "  <tbody>\n",
       "    <tr>\n",
       "      <th>0</th>\n",
       "      <td>2</td>\n",
       "      <td>32.0</td>\n",
       "      <td>101</td>\n",
       "    </tr>\n",
       "    <tr>\n",
       "      <th>1</th>\n",
       "      <td>3</td>\n",
       "      <td>34.0</td>\n",
       "      <td>310</td>\n",
       "    </tr>\n",
       "    <tr>\n",
       "      <th>2</th>\n",
       "      <td>5</td>\n",
       "      <td>NaN</td>\n",
       "      <td>234</td>\n",
       "    </tr>\n",
       "  </tbody>\n",
       "</table>\n",
       "</div>"
      ],
      "text/plain": [
       "   Week  RushPoints  RecPoints\n",
       "0     2        32.0        101\n",
       "1     3        34.0        310\n",
       "2     5         NaN        234"
      ]
     },
     "execution_count": 32,
     "metadata": {},
     "output_type": "execute_result"
    }
   ],
   "source": [
    "left2 = sqldf(\"SELECT A.Week,A.RecPoints, B.RushPoints FROM df2 AS A LEFT JOIN df1 AS B ON A.Week=B.Week \")\n",
    "#Reset columns\n",
    "left2 = left2[list(left1.columns)]\n",
    "left2"
   ]
  },
  {
   "cell_type": "code",
   "execution_count": 34,
   "metadata": {
    "collapsed": false
   },
   "outputs": [
    {
     "data": {
      "text/html": [
       "<div>\n",
       "<table border=\"1\" class=\"dataframe\">\n",
       "  <thead>\n",
       "    <tr style=\"text-align: right;\">\n",
       "      <th></th>\n",
       "      <th>Week</th>\n",
       "      <th>RushPoints</th>\n",
       "      <th>RecPoints</th>\n",
       "    </tr>\n",
       "  </thead>\n",
       "  <tbody>\n",
       "    <tr>\n",
       "      <th>0</th>\n",
       "      <td>1</td>\n",
       "      <td>12.0</td>\n",
       "      <td>NaN</td>\n",
       "    </tr>\n",
       "    <tr>\n",
       "      <th>1</th>\n",
       "      <td>2</td>\n",
       "      <td>32.0</td>\n",
       "      <td>101.0</td>\n",
       "    </tr>\n",
       "    <tr>\n",
       "      <th>2</th>\n",
       "      <td>3</td>\n",
       "      <td>34.0</td>\n",
       "      <td>310.0</td>\n",
       "    </tr>\n",
       "    <tr>\n",
       "      <th>3</th>\n",
       "      <td>4</td>\n",
       "      <td>12.0</td>\n",
       "      <td>NaN</td>\n",
       "    </tr>\n",
       "    <tr>\n",
       "      <th>4</th>\n",
       "      <td>5</td>\n",
       "      <td>NaN</td>\n",
       "      <td>234.0</td>\n",
       "    </tr>\n",
       "  </tbody>\n",
       "</table>\n",
       "</div>"
      ],
      "text/plain": [
       "   Week  RushPoints  RecPoints\n",
       "0     1        12.0        NaN\n",
       "1     2        32.0      101.0\n",
       "2     3        34.0      310.0\n",
       "3     4        12.0        NaN\n",
       "4     5         NaN      234.0"
      ]
     },
     "execution_count": 34,
     "metadata": {},
     "output_type": "execute_result"
    }
   ],
   "source": [
    "#Take the union of the two\n",
    "final = sqldf(\"SELECT * FROM left1 UNION SELECT * FROM left2 \")\n",
    "final"
   ]
  },
  {
   "cell_type": "code",
   "execution_count": 35,
   "metadata": {
    "collapsed": false
   },
   "outputs": [
    {
     "data": {
      "text/html": [
       "<div>\n",
       "<table border=\"1\" class=\"dataframe\">\n",
       "  <thead>\n",
       "    <tr style=\"text-align: right;\">\n",
       "      <th></th>\n",
       "      <th>Week</th>\n",
       "      <th>RushPoints</th>\n",
       "      <th>RecPoints</th>\n",
       "    </tr>\n",
       "  </thead>\n",
       "  <tbody>\n",
       "    <tr>\n",
       "      <th>0</th>\n",
       "      <td>1</td>\n",
       "      <td>12.0</td>\n",
       "      <td>0.0</td>\n",
       "    </tr>\n",
       "    <tr>\n",
       "      <th>1</th>\n",
       "      <td>2</td>\n",
       "      <td>32.0</td>\n",
       "      <td>101.0</td>\n",
       "    </tr>\n",
       "    <tr>\n",
       "      <th>2</th>\n",
       "      <td>3</td>\n",
       "      <td>34.0</td>\n",
       "      <td>310.0</td>\n",
       "    </tr>\n",
       "    <tr>\n",
       "      <th>3</th>\n",
       "      <td>4</td>\n",
       "      <td>12.0</td>\n",
       "      <td>0.0</td>\n",
       "    </tr>\n",
       "    <tr>\n",
       "      <th>4</th>\n",
       "      <td>5</td>\n",
       "      <td>0.0</td>\n",
       "      <td>234.0</td>\n",
       "    </tr>\n",
       "  </tbody>\n",
       "</table>\n",
       "</div>"
      ],
      "text/plain": [
       "   Week  RushPoints  RecPoints\n",
       "0     1        12.0        0.0\n",
       "1     2        32.0      101.0\n",
       "2     3        34.0      310.0\n",
       "3     4        12.0        0.0\n",
       "4     5         0.0      234.0"
      ]
     },
     "execution_count": 35,
     "metadata": {},
     "output_type": "execute_result"
    }
   ],
   "source": [
    "#Replace the NAN with 0\n",
    "final.fillna(0, inplace = True)\n",
    "final"
   ]
  }
 ],
 "metadata": {
  "kernelspec": {
   "display_name": "Python 3",
   "language": "python",
   "name": "python3"
  },
  "language_info": {
   "codemirror_mode": {
    "name": "ipython",
    "version": 3
   },
   "file_extension": ".py",
   "mimetype": "text/x-python",
   "name": "python",
   "nbconvert_exporter": "python",
   "pygments_lexer": "ipython3",
   "version": "3.6.0"
  },
  "toc": {
   "nav_menu": {
    "height": "84px",
    "width": "252px"
   },
   "number_sections": true,
   "sideBar": true,
   "skip_h1_title": false,
   "toc_cell": false,
   "toc_position": {},
   "toc_section_display": "block",
   "toc_window_display": false
  }
 },
 "nbformat": 4,
 "nbformat_minor": 2
}
