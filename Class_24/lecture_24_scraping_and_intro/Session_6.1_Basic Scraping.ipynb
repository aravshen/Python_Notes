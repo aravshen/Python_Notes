{
 "cells": [
  {
   "cell_type": "markdown",
   "metadata": {},
   "source": [
    "# Session 6.1: Introduction to Web Access through Python\n",
    "\n",
    "In the data access module, we will study how to use python to access the data on the web. In the baisc session, we will learn:\n",
    "    1. The Internet: How is information structured and transmitted on the Internet\n",
    "    2. HTML: How does browser work? How to access basic text information on the internet?\n",
    "    3. How do we leverage on Python packages to extract key information from a website?\n",
    "\n",
    "\n",
    "### Point72 Guidelines of scraping\n",
    "\n",
    "1. No webscraping may infringe upon a lawful copyright.\n",
    "2. No webscraping may have an adverse impact on site.\n",
    "3. No webscraping is permitted on sites protected with CAPTCHA programs.\n",
    "4. Webscraping that would compile data or information for competitive use is prohibited. \n",
    "5. Webscraping that will collect personal identifiable information about individuals, including but not limited to, phone numbers, proper names, account numbers, etc., is prohibited\n",
    "6. Any access you obtain must be consistent with applicable Robots Exclusion Protocols (robots.txt).\n",
    "7. Notify Compliance immediately if the program is blocked by the target site\n",
    "\n",
    "\n"
   ]
  },
  {
   "cell_type": "markdown",
   "metadata": {},
   "source": [
    "## The Internet.\n",
    "As we discussed, the internet has several layers: Network Interface, Network, Transport and Application. The network interface is the physical layer on coding and decoding electromegnetic waves to digital information. The Network layer allows devices in one network to identify each other and communicate with each other. The Transport layer is one of layer on top of the network layer that makes sure that the communication between devices is smooth and error-prone. The highest layer is the application layer, which links applications together (such as email clients and email servers). In this session, we will only look at the transport layer and the application layer. \n",
    "\n",
    "Here is a graph view of the Internet:\n",
    "\n",
    "<img src=\"http://fiberbit.com.tw/wp-content/uploads/2013/12/TCP-IP-model-vs-OSI-model.png\">\n",
    "\n",
    "At each layer, there are numerour protocols that allow devices to communicate. A **protocol** is a set of rules that all parties follow so we can predict each other’s behavior. And in this context, protocol allows all parties on the internet to agree on how to share and access information. The most important protocols in the Network and Transport layer is **Internet protocol suite**.\n"
   ]
  },
  {
   "cell_type": "markdown",
   "metadata": {},
   "source": [
    "**Internet protocol suite** is a conceptual framework which contains multiple protocols that allow users to share information on the Internet. Internet protocol suite can be decomposed into two major protocols: \n",
    "    1. Internet Protocol (IP): The Internet Protocol is the original principal communications protocol in the Internet protocol suite. Its routing function enables inter-device communication through the network, and essentially establishes the Internet.\n",
    "    2. Transport Control Protocol (TCP): TCP provides reliable, ordered, and error-checked delivery of a stream of data between applications running on hosts communicating by an IP network. \n",
    "    \n",
    "Because of these two major protocols, the Internet protocol suite is commonly referred as **TCP/IP**.\n",
    "\n",
    "*Bonus Knowledge*: Applications that do not require reliable data stream service may use the User Datagram Protocol (UDP), which provides a connectionless datagram service that emphasizes reduced latency over reliability. UDP is heavily used in the high-frequency trading environment."
   ]
  },
  {
   "cell_type": "markdown",
   "metadata": {},
   "source": [
    "**TCP/IP**: TCP/IP provides each device a number to identify themselves in the network. You can check your IP number by searching \"What is my IP\" on Google: [Your IP](https://www.google.com/#q=what+is+my+ip&*)\n",
    "\n",
    "\n",
    "On top of TCP/IP, each application will have a specific socket (port) number on the device. For instance, if you use email and browser at the same time from your machine, they will have the same IP address but different port numbers. \n",
    "\n",
    "Here are some different port numbers:\n",
    "    1. Telnet (Login): 23\n",
    "    2. SSH (Secure Login): 22\n",
    "    3. HTTP (Browser): 80\n",
    "    4. HTTPS (Secure Browser): 443\n",
    "    5. SMTP (Mail): 25\n",
    "    6. FTP (File transfer): 21\n",
    "    7. DNS (Domain Name): 53\n",
    "\n",
    "Even though the TCP/IP is very complicated, Python actually provides a very nice package to directly send TCP/IP message on the network. The package is called **[socket](https://docs.python.org/3/library/socket.html)**.\n",
    "\n",
    "### Example 2.1.1 Google's robots.txt (socket)\n",
    "Let us then use Python's socket to get the robots.txt file from Google. \n"
   ]
  },
  {
   "cell_type": "code",
   "execution_count": null,
   "metadata": {
    "collapsed": true
   },
   "outputs": [],
   "source": [
    "%%bash \n",
    "cat Data/google_robots.txt"
   ]
  },
  {
   "cell_type": "markdown",
   "metadata": {},
   "source": [
    "## The Application Layer - HTTP and urllib\n",
    "\n",
    "In this subsection, we will focus on a specific application-layer protocol -- **Hpertext Transfer Protocl (HTTP)**. HTTP is an application protocol for distributed, collaborative, and hypermedia information systems. It is the foundation of data communication for the World Wide Web, and the most useful application protocol for scraping data from the web (since most data is still stored on webpages).\n",
    "\n",
    "HTTP has two basic requests, **GET** and **POST**:\n",
    "    1. GET: Requests data from a specified resource\n",
    "    2. POST: Submits data to be processed to a specified resource\n",
    "\n",
    "A web communication starts with a client sending an HTTP request, normally a GET request. Then the request goes to the server and server response to the request. The response normally contains the response to the HTTP request (information used by the HTTP protocol) as well as the content response. For exmaple, in the Exercise 1.1, we send an HTTP request to www.mit.edu/robots.txt, and our response contains two parts. The first part is a response to the HTTP request, while the second part is the content of the requested documents. There are also several other types of methods in HTTP. For more information, see [here](https://www.w3schools.com/tags/ref_httpmethods.asp).\n",
    "\n",
    "Another important feature of HTTP is to have a specified code for each kind of response. For instance, in the previous example, we get HTTP response code **\"200 OK\"**, which means that our request is OK. There are also other codes:\n",
    "    * 100 Continue: The server has received the request headers, and the client should proceed to send the request body.\n",
    "    * 200 OK: The request is OK (this is the standard response for successful HTTP requests).\n",
    "    * 400 Bad Request: The request cannot be fulfilled due to bad syntax.\n",
    "    * 500 Internal Server Error: A generic error message, given when no more specific message is suitable.\n",
    "    \n",
    "Those HTTP error codes are very important for debugging your future scraper. We will come back to this later.\n",
    "\n",
    "\n",
    "\n"
   ]
  },
  {
   "cell_type": "markdown",
   "metadata": {},
   "source": [
    "Put everything together, we have:\n",
    "    1. TCP/IP: a series of number or characters that allows us to identify devices on the network.\n",
    "    2. Socket number: a number that allows us to communicate with particular programms on a device. \n",
    "    3. HTTP: a protocol that defines a set of methods that allow us to communicate to programs handling webpages. \n",
    "    \n",
    "\n",
    "The combination of those 3 protocols are called **Uniform Resource Locator (URL)**. A URL, commonly informally termed a web address, is a reference to a web resource that specifies its location on a computer network and a mechanism for retrieving it.  URLs occur most commonly to reference web pages (http), but are also used for file transfer (ftp), email (mailto), database access (JDBC), and many other applications. Every HTTP URL conforms to the syntax of a generic URI. A generic URI is of the form: **host:socket/path**. \n",
    " \n",
    "Everything sounds very complicated, right? What if I tell you Python can make our lifes much easier?\n",
    "<img src=\"https://imgs.xkcd.com/comics/python.png\">\n"
   ]
  },
  {
   "cell_type": "markdown",
   "metadata": {},
   "source": [
    "Let us introduce the Python package that saves our lives -- **Urllib**. In particularly, we focus on the sub-module called **urllib.request**, which is a Python module for fetching URLs. It offers a very simple interface, in the form of the urlopen function. This is capable of fetching URLs using a variety of different protocols. It also offers a slightly more complex interface for handling common situations - like basic authentication, cookies, proxies and so on. These are provided by objects called handlers and openers.\n",
    "\n",
    "### Example Get NYAutoGiants Search Page (urllib)\n",
    "For example, the following code block uses urllib.request to get https://nyautogiant.com/advanced-search/page-1\n"
   ]
  },
  {
   "cell_type": "code",
   "execution_count": 4,
   "metadata": {},
   "outputs": [
    {
     "name": "stdout",
     "output_type": "stream",
     "text": [
      "Error: Cannot get information from http://www.google1.com/robots.txt\n"
     ]
    }
   ],
   "source": [
    "import requests\n",
    "\n",
    "try:\n",
    "    url = \"http://www.google1.com/robots.txt\"\n",
    "    response = requests.get(url)\n",
    "    print(response.text)\n",
    "except:\n",
    "    print(\"Error: Cannot get information from %s\" % url)\n",
    "    "
   ]
  },
  {
   "cell_type": "code",
   "execution_count": null,
   "metadata": {
    "collapsed": true
   },
   "outputs": [],
   "source": [
    "import requests\n",
    "response = requests.get('https://nyautogiant.com/advanced-search/page-1')\n",
    "html = response.text\n",
    "print(html)"
   ]
  },
  {
   "cell_type": "markdown",
   "metadata": {},
   "source": [
    "The above program runs in the following order:\n",
    "\n",
    "1. The first line imports request to the python program. \n",
    "2. The second line uses a function in request called [get](https://docs.python.org/3.0/library/urllib.request.html) to open the URL, and save the response to the response file. \n",
    "3. The third line uses the response from request.get() and save the text content from the response into a buffer.\n"
   ]
  },
  {
   "cell_type": "markdown",
   "metadata": {},
   "source": [
    "### Try and Catch\n",
    "\n",
    "Sometimes, the scraper will fail due to random reasons such as the site is down. You do not want your scraper to crash when the website is down. Therefore, you need to use (try and except statement):\n",
    "\n",
    "    try:\n",
    "        ....\n",
    "    except:\n",
    "        ...."
   ]
  },
  {
   "cell_type": "code",
   "execution_count": null,
   "metadata": {
    "collapsed": true
   },
   "outputs": [],
   "source": [
    "response = requests.get('https://nyautogiant232.com/advanced-search/page-1')\n",
    "html = response.text\n",
    "html"
   ]
  },
  {
   "cell_type": "code",
   "execution_count": null,
   "metadata": {
    "collapsed": true
   },
   "outputs": [],
   "source": [
    "try:\n",
    "    url = 'https://nyautogiant232.com/advanced-search/page-1'\n",
    "    response = requests.get(url)\n",
    "    html = response.text\n",
    "except:\n",
    "    print(\"Error: cannot scrape url: %s\" % url)\n"
   ]
  }
 ],
 "metadata": {
  "kernelspec": {
   "display_name": "Python 3",
   "language": "python",
   "name": "python3"
  },
  "language_info": {
   "codemirror_mode": {
    "name": "ipython",
    "version": 3
   },
   "file_extension": ".py",
   "mimetype": "text/x-python",
   "name": "python",
   "nbconvert_exporter": "python",
   "pygments_lexer": "ipython3",
   "version": "3.6.3"
  }
 },
 "nbformat": 4,
 "nbformat_minor": 2
}
