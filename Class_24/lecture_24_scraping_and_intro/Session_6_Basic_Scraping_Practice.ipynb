{
 "cells": [
  {
   "cell_type": "markdown",
   "metadata": {},
   "source": [
    "## Practice Problems for Basic Scraping\n",
    "\n",
    "Use Python's socket package to retrieve the information from [the index.html of my webpage](http://denniszhang.org/) to see what information a robot can access and what information it cannot. "
   ]
  },
  {
   "cell_type": "code",
   "execution_count": null,
   "metadata": {
    "collapsed": true
   },
   "outputs": [],
   "source": [
    "import socket\n",
    "\n",
    "#Write your code here"
   ]
  },
  {
   "cell_type": "markdown",
   "metadata": {},
   "source": [
    "Use requests and get() to get [the index.html of my webpage](http://denniszhang.org/)"
   ]
  },
  {
   "cell_type": "code",
   "execution_count": 23,
   "metadata": {},
   "outputs": [
    {
     "data": {
      "text/plain": [
       "'<!doctype html>\\r\\n<html>\\r\\n <head> \\r\\n  <title>Dennis J Zhang</title> \\r\\n  <meta charset=\"utf-8\"> \\r\\n  <meta name=\"viewport\" content=\"width=device-width, initial-scale=1\"> \\r\\n  <!--[if lte IE 8]><script src=\"assets/js/ie/html5shiv.js\"></script><![endif]--> \\r\\n  <link rel=\"stylesheet\" href=\"assets/css/main.css\"> \\r\\n  <!--[if lte IE 8]><link rel=\"stylesheet\" href=\"assets/css/ie8.css\" /><![endif]--> \\r\\n  <!--[if lte IE 9]><link rel=\"stylesheet\" href=\"assets/css/ie9.css\" /><![endif]--> \\r\\n  <script>\\r\\n\\t\\t  (function(i,s,o,g,r,a,m){i[\\'GoogleAnalyticsObject\\']=r;i[r]=i[r]||function(){\\r\\n\\t\\t  (i[r].q=i[r].q||[]).push(arguments)},i[r].l=1*new Date();a=s.createElement(o),\\r\\n\\t\\t  m=s.getElementsByTagName(o)[0];a.async=1;a.src=g;m.parentNode.insertBefore(a,m)\\r\\n\\t\\t  })(window,document,\\'script\\',\\'https://www.google-analytics.com/analytics.js\\',\\'ga\\');\\r\\n\\t\\t  ga(\\'create\\', \\'UA-83151056-1\\', \\'auto\\');\\r\\n\\t\\t  ga(\\'send\\', \\'pageview\\');\\r\\n\\t\\t</script> \\r\\n </head> \\r\\n <body class=\"\"> \\r\\n  <!-- Nav --> \\r\\n  <nav id=\"nav\"> \\r\\n   <ul class=\"container\"> \\r\\n    <li><a href=\"#top\">Top</a></li> \\r\\n    <li><a href=\"#research\">Research</a></li> \\r\\n    <li><a href=\"#work\">Professional Experience</a></li> \\r\\n    <li><a href=\"#contact\">Contact</a></li> \\r\\n    <li><a href=\"http://denniszhang.org/cv.pdf\">CV</a></li> \\r\\n   </ul> \\r\\n  </nav> \\r\\n  <!-- Home --> \\r\\n  <div class=\"wrapper style1 first\"> \\r\\n   <article class=\"container\" id=\"top\"> \\r\\n    <div class=\"row\"> \\r\\n     <div class=\"4u 12u(mobile)\"> \\r\\n      <span class=\"image fit\"><img src=\"images/self.jpg\" alt=\"\"></span> \\r\\n     </div> \\r\\n     <div class=\"8u 12u(mobile)\"> \\r\\n      <header> \\r\\n       <h1>Hi, I\\'m <strong>Dennis Zhang</strong>.</h1> \\r\\n      </header> \\r\\n      <p>I am an assistant professor of Operations and Manufacturing Management at the Olin Business School. My research focuses on <em>data-driven operations</em> in digital marketplaces and the public sector. I implement field experiments and use other empirical methods with observational data to improve existing operations models and practices. </a>\\r\\n     </div> \\r\\n    </div> \\r\\n   </article> \\r\\n  </div> \\r\\n  <!-- Research --> \\r\\n  <div class=\"wrapper style3\"> \\r\\n   <article id=\"research\"> \\r\\n    <header > \\r\\n     <h2 align=\"center\">Publications and Working Papers</h2> \\r\\n     <p align=\"center\">Link to <a href=\"http://papers.ssrn.com/sol3/cf_dev/AbsByAuth.cfm?per_id=2131245\">SSRN</a></p> \\r\\n    </header> \\r\\n    <div class=\"container\"> \\r\\n     <div class=\"entry-content\"> \\r\\n      <h3 align=\"left\">Publications</h3> \\r\\n      <ul align=\"left\"> \\r\\n        <li>  \"<a class=\"paper\" href=\"http://papers.ssrn.com/abstract_id=2868218\">Learning from Inventory Availability Information: Evidence from Field Experiments on Amazon</a>,\" with Ruomeng Cui and Achal Bassamboo, <strong><em>Management Science</em></strong> (2017).\\r\\n        <ul>\\r\\n           <li>&nbsp; &nbsp; &nbsp; &nbsp; Media Coverage, \"<a href=\"https://insight.kellogg.northwestern.edu/article/what-makes-an-online-flash-sale-successful\">What Makes an Online Flash Sale Successful?</a>\" KelloggInsight.</li>\\r\\n       </li> \\r\\n        <li>\"<a href=\"https://hbr.org/2017/02/a-better-way-to-fight-discrimination-in-the-sharing-economy\">A Better Way to Fight Discrimination in the Sharing Economy,</a>â\\x80\\x9d with Jun Li and Ruomeng Cui, <strong><em>Harvard Business Review</em></strong>, digital (2017).\\r\\n        </li>\\r\\n        <li>  \"<a class=\"paper\" href=\"http://papers.ssrn.com/abstract=2702151\">The Operational Value of Social Media Information</a>,\" with Ruomeng Cui, Antonio Moreno and Santiago Gallino, <strong><em>Production and Operations Management</em></strong> (2017).\\r\\n          <ul>\\r\\n           <li>&nbsp; &nbsp; &nbsp; &nbsp; Media Coverage, \"<a href=\"https://insight.kellogg.northwestern.edu/article/using-social-media-data-to-improve-sales-forecasting-models\">Want to Improve Your Sales Forecast? Check Your Companyâ\\x80\\x99s Facebook Feed.</a>\" KelloggInsight.</li>\\r\\n       </li>  \\r\\n        <li> \"<a class=\"paper\" href=\"http://papers.ssrn.com/abstract=2663647\">Does Social Interaction Improve Learning Outcomes? Evidence from Field Experiments on Massive Open Online Courses (MOOCs)</a>,\" with Gad Allon and Jan Van Mieghem, <strong><em>Manufacturing &amp; Service Operations Management</em></strong> (2016). \\r\\n          <ul>\\r\\n           <li>&nbsp; &nbsp; &nbsp; &nbsp; Media Coverage, \"<a href=\"http://insight.kellogg.northwestern.edu/article/a-gentle-nudge-can-increase-participation-in-moocs\">A gentle nudge can increase participation in MOOCS</a>\" KelloggInsight.</li> \\r\\n           <li>&nbsp; &nbsp; &nbsp; &nbsp; Media Coverage, \"<a href=\"http://chicagoinno.streetwise.co/2015/12/21/as-online-courses-evolve-could-a-nudge-help-people-finish-moocs/\">Could Email Fix A Troubled Form of Online Education?</a>\" ChicagoInno.\\r\\n           </li> \\r\\n       </li>            \\r\\n       <li> \"<a class=\"paper\" href=\"http://papers.ssrn.com/abstract=2366493\">Hospital Readmission Reduction Program: An Economic and Operational Analysis</a>,\" with Itai Gurvich, Jan A. Van Mieghem, Eric Park, Mark Williams and Robert Young, <strong><em>Management Science</em></strong> (2016).\\r\\n          <ul>\\r\\n           <li><strong>&nbsp; &nbsp; &nbsp; &nbsp; Winner, 2014 POMS College of Healthcare Operations Management Best Paper Award.</strong></li>\\r\\n       </li>\\r\\n      </ul>\\r\\n\\r\\n      <h3 align=\"left\">Papers Under Review</h3> \\r\\n      <ul align=\"left\"> \\r\\n      <li>  \"<a class=\"paper\" href=\"http://papers.ssrn.com/abstract_id=2882982\">Discrimination with Incomplete Information in the Sharing Economy: Evidence from Field Experiments on Airbnb</a>,\" with Ruomeng Cui and Jun Li, <strong>2nd round major revision in <em>Management Science</em></strong>.\\r\\n          <ul>\\r\\n           <li><strong>&nbsp; &nbsp; &nbsp; &nbsp; Winner, 2017 Behavioral Operations Management Best Working Paper</strong></li>\\r\\n           <li>&nbsp; &nbsp; &nbsp; &nbsp; Media Coverage, \"<a href=\"https://source.wustl.edu/2017/01/study-new-airbnb-nondiscrimination-policy-may-worse/\">Study: How new Airbnb nondiscrimination policy may be worse.</a>\" the Source, Washington University in St. Louis.</li> \\r\\n           <li>&nbsp; &nbsp; &nbsp; &nbsp; Media Coverage, \"<a href=\"http://www.npr.org/2017/03/02/518087610/new-research-looks-at-ways-to-help-stop-airbnb-racial-discrimination\">New Research Looks At Ways To Help Stop Airbnb Racial Discrimination.</a>\" National Public Radio (NPR).</li> \\r\\n           <li>&nbsp; &nbsp; &nbsp; &nbsp; Media Coverage, \"<a href=\"http://www.theglobeandmail.com/report-on-business/careers/career-advice/life-at-work/no-simple-fix-to-weed-out-racial-bias-in-the-sharing-economy/article34201137/\">No simple fix to weed out racial bias in the sharing economy.</a>\" Global and Mail (Canada).</li> \\r\\n       </li> \\r\\n        <li>  \"<a class=\"paper\" href=\"http://ssrn.com/abstract=2708279\">Pros vs Joes: Agent Pricing Behavior in the Sharing Economy</a>,\" with Jun Li and Anotonio Moreno-Garcia, <strong>major revision in <em>Management Science</em></strong>.\\r\\n       </li>   \\r\\n         <li> \"<a class=\"paper\" href=\"http://papers.ssrn.com/abstract=3029707\">How Does Dynamic Pricing Affect Customer Behavior on Retailing Platforms? Evidence from a Large Randomized Experiment on Alibaba</a>,\" with Hengchen Dai and Lingxiu Dong, <strong>major revision in <em>Management Science</em></strong>.\\r\\n            <ul>\\r\\n           <li><strong>&nbsp; &nbsp; &nbsp; &nbsp; Finalist, 2018 POMS Applied Research Competition.</strong></li>\\r\\n           <li><strong>&nbsp; &nbsp; &nbsp; &nbsp; Honorable Mention, 2018 POM-CBOM Junior Scholar competition.</strong></li>\\r\\n       </li>   \\r\\n        <li> \"<a class=\"paper\" href=\"http://papers.ssrn.com/abstract=2954217\">Vicarious Goal Pursuit Outweighs Herding in Crowdfunding: Evidence from Kickstarter.com</a>,\" with Hengchen Dai, <strong>risky revision in <em>Journal of Marketing Research</em></strong>.\\r\\n       </li>                \\r\\n      </ul>   \\r\\n\\r\\n\\t<h3 align=\"left\">Working Papers</h3> \\r\\n      <ul align=\"left\">                \\r\\n       <li> \"<a class=\"paper\" href=\"http://papers.ssrn.com/abstract=2673137\">Managing Service Systems in the Presence of Social Networks</a>,\" with Gad Allon. <a href=\"https://www.youtube.com/watch?v=Z4EMD5M7FjY\">View video</a>.\\r\\n       </li>      \\r\\n        <li> \"<a class=\"paper\" href=\"http://papers.ssrn.com/abstract=3101132\">Effects of Bonus on the Demand for Auto Loans and the Long-Term Consequences</a>,\" with Zhenling Jiang and Tat Chan.\\r\\n       </li>   \\r\\n        <li> \"<a class=\"paper\" href=\"http://papers.ssrn.com/abstract=3129506\">The Value of Pop-Up Stores in Driving Online Engagement in Platform Retailing: Evidence from a Large-Scale Field Experiment with Alibaba</a>,\" with Hengchen Dai and Lingxiu Dong.\\r\\n       </li>       \\r\\n        <li> \"<a class=\"paper\" href=\"http://papers.ssrn.com/abstract=3123915\">Peer Bargaining and Productivity in Teams: Gender and the Inequitable Division of Pay</a>,\" with Lamar Pierce and Laura W. Wang.\\r\\n       </li>   \\r\\n          <ul>\\r\\n           <li><strong>&nbsp; &nbsp; &nbsp; &nbsp; Finalist in the Competition at the 2018 Wharton People Analytics Conference.</strong></li>\\r\\n       </li> \\r\\n      </ul>   \\r\\n\\r\\n     </div> \\r\\n    </div> \\r\\n   </article> \\r\\n  </div> \\r\\n  <!-- Work --> \\r\\n  <div class=\"wrapper style3\"> \\r\\n   <article id=\"work\"> \\r\\n    <header> \\r\\n     <h2 align=\"center\">Professional Experience <a href=\"https://www.linkedin.com/pub/dennis-zhang/30/298/5ba\" class=\"icon fa-linkedin-square fa-1x\"><span class=\"label\">LinkedIn</span></a></h2> \\r\\n    </header> \\r\\n    <div class=\"container\"> \\r\\n     <div class=\"entry-content\" id=\"work_history\"> \\r\\n      <h3 align=\"left\">Washington University in St. Louis</h3> \\r\\n      <ul align=\"left\" style=\"list-style-type:circle\"> \\r\\n       <li>Assistant Professor of Operations and Manufacturing Management, 2016 - Present</li> \\r\\n      </ul> \\r\\n      <h3 align=\"left\">Google</h3> \\r\\n      <ul align=\"left\" style=\"list-style-type:circle\"> \\r\\n       <li>Software Engineer PhD Intern. Rephil Team in Los Angeles, 2015 Summer.</li> \\r\\n       <li>Software Engineer PhD Intern. Smart Advertisement Support System Team in Pittsburgh, 2014 Summer.</li> \\r\\n      </ul> \\r\\n      <h3 align=\"left\">Five Rings Capital</h3> \\r\\n      <ul align=\"left\" style=\"list-style-type:circle\"> \\r\\n       <li>Quantitative Trading Developer Intern. New York, 2011 Summer.</li> \\r\\n      </ul> \\r\\n      <h3 align=\"left\">Symantec</h3> \\r\\n      <ul align=\"left\" style=\"list-style-type:circle\"> \\r\\n       <li>Part-time Quality Assurance Engineer. ccScan Team in Los Angeles, 2009-2010.</li> \\r\\n       <li>Quality Assurance Intern. ccScan Team in Los Angeles, 2009 Summer.</li> \\r\\n      </ul> \\r\\n     </div> \\r\\n    </div> \\r\\n   </article> \\r\\n  </div> \\r\\n  <!-- Contact --> \\r\\n  <div class=\"wrapper style4\"> \\r\\n   <article id=\"contact\" class=\"container 75%\"> \\r\\n    <header> \\r\\n     <h2>Contact me!</h2> \\r\\n     <span>You can find me via email: denniszhang AT wustl.edu</span> \\r\\n     <p>Office: Bauer Hall 406, 1 Brookings Dr., St. Louis, MO 63130.</p> \\r\\n    </header> \\r\\n    <div class=\"row\"> \\r\\n     <div class=\"12u\"> \\r\\n      <hr> \\r\\n      <h3>Find me on</h3> \\r\\n      <ul class=\"social\"> \\r\\n       <li><a href=\"https://www.facebook.com/jiajun.zhang.37\" class=\"icon fa-facebook\"><span class=\"label\">Facebook</span></a></li> \\r\\n       <li><a href=\"https://www.linkedin.com/pub/dennis-zhang/30/298/5ba\" class=\"icon fa-linkedin\"><span class=\"label\">LinkedIn</span></a></li> \\r\\n       <li><a href=\"https://plus.google.com/114088647771707349569/posts\" class=\"icon fa-google-plus\"><span class=\"label\">Google+</span></a></li> \\r\\n      </ul> \\r\\n      <hr> \\r\\n      <p><a href=\"https://yihuang.mit.edu/\">Significant Other</a></p> \\r\\n      <div align=\"center\">\\r\\n       Â© 2017 Dennis J. Zhang\\r\\n       <br> \\r\\n       <br> \\r\\n      </div> \\r\\n     </div> \\r\\n    </div> \\r\\n   </article> \\r\\n  </div> \\r\\n  <!-- Scripts --> \\r\\n  <script src=\"assets/js/jquery.min.js\"></script> \\r\\n  <script src=\"assets/js/jquery.scrolly.min.js\"></script> \\r\\n  <script src=\"assets/js/skel.min.js\"></script> \\r\\n  <script src=\"assets/js/skel-viewport.min.js\"></script> \\r\\n  <script src=\"assets/js/util.js\"></script> \\r\\n  <!--[if lte IE 8]><script src=\"assets/js/ie/respond.min.js\"></script><![endif]--> \\r\\n  <script src=\"assets/js/main.js\"></script> \\r\\n </body>\\r\\n</html>'"
      ]
     },
     "execution_count": 23,
     "metadata": {},
     "output_type": "execute_result"
    }
   ],
   "source": [
    "import requests\n",
    "\n",
    "response = requests.get(\"http://denniszhang.org/index.html\")\n",
    "\n",
    "response.text\n",
    "#Write your code here"
   ]
  },
  {
   "cell_type": "markdown",
   "metadata": {},
   "source": [
    "Protect the code above from crashing using try."
   ]
  },
  {
   "cell_type": "code",
   "execution_count": 24,
   "metadata": {},
   "outputs": [
    {
     "name": "stdout",
     "output_type": "stream",
     "text": [
      "Error: Can't get info from http://denniszhang1.org/index.html\n"
     ]
    }
   ],
   "source": [
    "#Write your code here\n",
    "\n",
    "try:\n",
    "    url = 'http://denniszhang1.org/index.html'\n",
    "    response = request.get(url)\n",
    "    print(response)\n",
    "except:\n",
    "    print(\"Error: Can't get info from %s\" %url)"
   ]
  },
  {
   "cell_type": "markdown",
   "metadata": {},
   "source": [
    "### Parse a single webpage using Beautifulsoup.\n",
    "Get all the links to the sisters profile from the html file and save them into a list."
   ]
  },
  {
   "cell_type": "code",
   "execution_count": 28,
   "metadata": {},
   "outputs": [
    {
     "data": {
      "text/plain": [
       "['http://example.com/elsie',\n",
       " 'http://example.com/lacie',\n",
       " 'http://example.com/tillie']"
      ]
     },
     "execution_count": 28,
     "metadata": {},
     "output_type": "execute_result"
    }
   ],
   "source": [
    "from bs4 import BeautifulSoup\n",
    "\n",
    "html_doc = \"\"\"\n",
    "<html><head><title>The Dormouse's story</title></head>\n",
    "<body>\n",
    "<p class=\"title\"><b>The Dormouse's story</b></p>\n",
    "\n",
    "<p class=\"story\">Once upon a time there were three little sisters; and their names were\n",
    "<a href=\"http://example.com/elsie\" class=\"sister\" id=\"link1\">Elsie</a>,\n",
    "<a href=\"http://example.com/lacie\" class=\"sister\" id=\"link2\">Lacie</a> and\n",
    "<a href=\"http://example.com/tillie\" class=\"sister\" id=\"link3\">Tillie</a>;\n",
    "and they lived at the bottom of a well.</p>\n",
    "\n",
    "<p class=\"story\">...</p>\n",
    "\"\"\"\n",
    "\n",
    "# Please fill your code here for Practice 1.3.1\n",
    "#Write your code here\n",
    "soup = BeautifulSoup(html_doc, \"html.parser\")\n",
    "links = []\n",
    "\n",
    "for name in soup.find_all(\"a\",{\"class\":\"sister\"}):\n",
    "    links.append(name.get(\"href\"))\n",
    "links"
   ]
  },
  {
   "cell_type": "markdown",
   "metadata": {},
   "source": [
    "### Parse through an HTML page using Beautifulsoup\n",
    "Please load the search result of \"surface pro\" on craigslist from **Data/surface_pro.txt**, and then construct a data set based on this file. Your data should be a list of lists, where each individual list corresponds to one post with ***the post name, post price, post link and post date***."
   ]
  },
  {
   "cell_type": "code",
   "execution_count": null,
   "metadata": {},
   "outputs": [],
   "source": [
    "import urllib\n",
    "from bs4 import BeautifulSoup\n",
    "\n",
    "# read the surface_pro html\n",
    "with open(\"Data/surface_pro.txt\") as input_file:\n",
    "    respData = input_file.read()\n",
    "respData\n",
    "# use beautifulsoup to locate all li elements with class = \"result-row\"\n",
    "#Write your code here\n",
    "soup = BeautifulSoup(respData, \"html.parser\")\n",
    "results = soup.find_all(\"li\", class_ = \"result-row\")\n",
    "#print(results)\n",
    "list_ = []\n",
    "\n",
    "for element in results:\n",
    "    try:\n",
    "        post_name = element.find(\"a\", {\"class\":\"result-title hdrlnk\"}).text\n",
    "        post_price = float(element.find(\"span\", {\"class\":\"result-price\"}).text.replace('$',''))\n",
    "        post_link = element.find(\"a\", {\"class\":\"result-title hdrlnk\"}).get(\"href\")\n",
    "        post_date = element.find(\"time\", {\"class\":\"result-date\"}).text\n",
    "        list_.append([post_name,post_price,post_link,post_date])\n",
    "        \n",
    "    except:\n",
    "        print(\"Error\")"
   ]
  },
  {
   "cell_type": "markdown",
   "metadata": {},
   "source": [
    "### Crawl and Save the surface Pro Data\n",
    "On top of the previous practice, you need to write a program to scrape the post name, post price, post link and post date from the search result of \"surface pro\" on craigslist and save the results into a csv called \"Data/surface_pro.csv\" (and get rid of empty spaces in the csv file)."
   ]
  },
  {
   "cell_type": "code",
   "execution_count": 46,
   "metadata": {
    "collapsed": true
   },
   "outputs": [],
   "source": [
    "# Give an example on save the data\n",
    "import urllib\n",
    "import csv\n",
    "from bs4 import BeautifulSoup\n",
    "\n",
    "myfile = open(\"Data/results.csv\", \"w\")\n",
    "\n",
    "writer = csv.writer(myfile)\n",
    "\n",
    "list_ = [[\"name\", \"price\", \"link\", \"date\"]] + list_\n",
    "\n",
    "writer.writerows(list_)\n",
    "\n",
    "myfile.close()\n",
    "\n",
    "\n",
    "# save the data to a local csv file.\n",
    "#Write your code here"
   ]
  },
  {
   "cell_type": "code",
   "execution_count": 47,
   "metadata": {},
   "outputs": [
    {
     "data": {
      "text/html": [
       "<div>\n",
       "<style>\n",
       "    .dataframe thead tr:only-child th {\n",
       "        text-align: right;\n",
       "    }\n",
       "\n",
       "    .dataframe thead th {\n",
       "        text-align: left;\n",
       "    }\n",
       "\n",
       "    .dataframe tbody tr th {\n",
       "        vertical-align: top;\n",
       "    }\n",
       "</style>\n",
       "<table border=\"1\" class=\"dataframe\">\n",
       "  <thead>\n",
       "    <tr style=\"text-align: right;\">\n",
       "      <th></th>\n",
       "      <th>name</th>\n",
       "      <th>price</th>\n",
       "      <th>link</th>\n",
       "      <th>date</th>\n",
       "    </tr>\n",
       "  </thead>\n",
       "  <tbody>\n",
       "    <tr>\n",
       "      <th>0</th>\n",
       "      <td>Surface Pro 3 256gb i5 8GB Ram with dock</td>\n",
       "      <td>650.0</td>\n",
       "      <td>/sys/6135735915.html</td>\n",
       "      <td>May 26</td>\n",
       "    </tr>\n",
       "    <tr>\n",
       "      <th>1</th>\n",
       "      <td>New Microsoft Surface Pro 4</td>\n",
       "      <td>820.0</td>\n",
       "      <td>/sys/6145422383.html</td>\n",
       "      <td>May 24</td>\n",
       "    </tr>\n",
       "    <tr>\n",
       "      <th>2</th>\n",
       "      <td>Microsoft Surface Pro 128gb Bundle</td>\n",
       "      <td>240.0</td>\n",
       "      <td>/sys/6153608520.html</td>\n",
       "      <td>May 29</td>\n",
       "    </tr>\n",
       "    <tr>\n",
       "      <th>3</th>\n",
       "      <td>Surface pro 3 i5 256gb price drop!</td>\n",
       "      <td>400.0</td>\n",
       "      <td>/sys/6152083626.html</td>\n",
       "      <td>May 28</td>\n",
       "    </tr>\n",
       "    <tr>\n",
       "      <th>4</th>\n",
       "      <td>Microsoft Surface Pro 4</td>\n",
       "      <td>600.0</td>\n",
       "      <td>/sys/6147492613.html</td>\n",
       "      <td>May 25</td>\n",
       "    </tr>\n",
       "  </tbody>\n",
       "</table>\n",
       "</div>"
      ],
      "text/plain": [
       "                                       name  price                  link  \\\n",
       "0  Surface Pro 3 256gb i5 8GB Ram with dock  650.0  /sys/6135735915.html   \n",
       "1               New Microsoft Surface Pro 4  820.0  /sys/6145422383.html   \n",
       "2        Microsoft Surface Pro 128gb Bundle  240.0  /sys/6153608520.html   \n",
       "3        Surface pro 3 i5 256gb price drop!  400.0  /sys/6152083626.html   \n",
       "4                   Microsoft Surface Pro 4  600.0  /sys/6147492613.html   \n",
       "\n",
       "     date  \n",
       "0  May 26  \n",
       "1  May 24  \n",
       "2  May 29  \n",
       "3  May 28  \n",
       "4  May 25  "
      ]
     },
     "execution_count": 47,
     "metadata": {},
     "output_type": "execute_result"
    }
   ],
   "source": [
    "import pandas as pd\n",
    "df = pd.read_csv(\"./Data/results.csv\")\n",
    "df.head()"
   ]
  },
  {
   "cell_type": "code",
   "execution_count": null,
   "metadata": {
    "collapsed": true
   },
   "outputs": [],
   "source": []
  }
 ],
 "metadata": {
  "kernelspec": {
   "display_name": "Python 3",
   "language": "python",
   "name": "python3"
  },
  "language_info": {
   "codemirror_mode": {
    "name": "ipython",
    "version": 3
   },
   "file_extension": ".py",
   "mimetype": "text/x-python",
   "name": "python",
   "nbconvert_exporter": "python",
   "pygments_lexer": "ipython3",
   "version": "3.6.3"
  }
 },
 "nbformat": 4,
 "nbformat_minor": 2
}
