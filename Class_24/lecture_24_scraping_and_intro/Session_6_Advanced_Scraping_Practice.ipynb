{
 "cells": [
  {
   "cell_type": "markdown",
   "metadata": {},
   "source": [
    "### Practice Regular Expression\n",
    "\n",
    "Write a regular expression to check the input telephone number xxx-xxx-xxxx is correct. "
   ]
  },
  {
   "cell_type": "code",
   "execution_count": 1,
   "metadata": {},
   "outputs": [
    {
     "name": "stdout",
     "output_type": "stream",
     "text": [
      "310-232-2312 is a valid email\n",
      "not a number is not a valid email\n",
      "3102322312 is not a valid email\n",
      "20312312 is not a valid email\n"
     ]
    }
   ],
   "source": [
    "import re\n",
    "telephone_numbers = [\"310-232-2312\", \"not a number\", \"3102322312\", \"20312312\"]\n",
    "#Write your code here\n",
    "\n",
    "for email in telephone_numbers:\n",
    "    if re.search(\"[0-9]{3}+[0-9]{3}-[0-9]{4}\", email) is None:\n",
    "        print(\"%s is not a valid email\" % email)\n",
    "    else:\n",
    "        print(\"%s is a valid email\" % email)"
   ]
  },
  {
   "cell_type": "markdown",
   "metadata": {},
   "source": [
    "In fact, 3102322312 should be a valid number. Could you try to incorporate this into your code? Can you think of other possible valid telephone formats?"
   ]
  },
  {
   "cell_type": "code",
   "execution_count": 7,
   "metadata": {},
   "outputs": [
    {
     "name": "stdout",
     "output_type": "stream",
     "text": [
      "310-232-2312 is a valid email\n",
      "310232-2312 is a valid email\n",
      "310-2322312 is a valid email\n",
      "not a number is not a valid email\n",
      "3102322312 is a valid email\n",
      "20312312 is not a valid email\n"
     ]
    }
   ],
   "source": [
    "telephone_numbers = [\"310-232-2312\", \"310232-2312\", \"310-2322312\", \"not a number\", \"3102322312\", \"20312312\"]\n",
    "#Write your code here\n",
    "for email in telephone_numbers:\n",
    "    if re.search(\"[0-9]{3}(-|)[0-9]{3}(-|)[0-9]{4}\", email) is None:\n",
    "        print(\"%s is not a valid email\" % email)\n",
    "    else:\n",
    "        print(\"%s is a valid email\" % email)"
   ]
  },
  {
   "cell_type": "markdown",
   "metadata": {},
   "source": [
    "### Practice Regular Expression with BeautifulSoup\n",
    "Use regular expression to get all **gift** image url from the html page"
   ]
  },
  {
   "cell_type": "code",
   "execution_count": 28,
   "metadata": {},
   "outputs": [
    {
     "data": {
      "text/plain": [
       "['../img/gifts/img1.jpg',\n",
       " '../img/gifts/img2.jpg',\n",
       " '../img/gifts/img3.jpg',\n",
       " '../img/gifts/img4.jpg',\n",
       " '../img/gifts/img6.jpg']"
      ]
     },
     "execution_count": 28,
     "metadata": {},
     "output_type": "execute_result"
    }
   ],
   "source": [
    "from urllib.request import urlopen\n",
    "from bs4 import BeautifulSoup\n",
    "import re\n",
    "\n",
    "html = \"\"\"\n",
    "<html>\n",
    "<head>\n",
    "<style>\n",
    "img{\n",
    "\twidth:75px;\n",
    "}\n",
    "table{\n",
    "\twidth:50%;\n",
    "}\n",
    "td{\n",
    "\tmargin:10px;\n",
    "\tpadding:10px;\n",
    "}\n",
    ".wrapper{\n",
    "\twidth:800px;\n",
    "}\n",
    ".excitingNote{\n",
    "\tfont-style:italic;\n",
    "\tfont-weight:bold;\n",
    "}\n",
    "</style>\n",
    "</head>\n",
    "<body>\n",
    "<div id=\"wrapper\">\n",
    "<img src=\"../img/gifts/logo.jpg\" style=\"float:left;\">\n",
    "<h1>Totally Normal Gifts</h1>\n",
    "<div id=\"content\">Here is a collection of totally normal, totally reasonable gifts that your friends are sure to love! Our collection is\n",
    "hand-curated by well-paid, free-range Tibetan monks.<p>\n",
    "We haven't figured out how to make online shopping carts yet, but you can send us a check to:<br>\n",
    "123 Main St.<br>\n",
    "Abuja, Nigeria\n",
    "</br>We will then send your totally amazing gift, pronto! Please include an extra $5.00 for gift wrapping.</div>\n",
    "<table id=\"giftList\">\n",
    "<tr><th>\n",
    "Item Title\n",
    "</th><th>\n",
    "Description\n",
    "</th><th>\n",
    "Cost\n",
    "</th><th>\n",
    "Image\n",
    "</th></tr>\n",
    "\n",
    "<tr id=\"gift1\" class=\"gift\"><td>\n",
    "Vegetable Basket\n",
    "</td><td>\n",
    "This vegetable basket is the perfect gift for your health conscious (or overweight) friends!\n",
    "<span class=\"excitingNote\">Now with super-colorful bell peppers!</span>\n",
    "</td><td>\n",
    "$15.00\n",
    "</td><td>\n",
    "<img src=\"../img/gifts/img1.jpg\">\n",
    "</td></tr>\n",
    "\n",
    "<tr id=\"gift2\" class=\"gift\"><td>\n",
    "Russian Nesting Dolls\n",
    "</td><td>\n",
    "Hand-painted by trained monkeys, these exquisite dolls are priceless! And by \"priceless,\" we mean \"extremely expensive\"! <span class=\"excitingNote\">8 entire dolls per set! Octuple the presents!</span>\n",
    "</td><td>\n",
    "$10,000.52\n",
    "</td><td>\n",
    "<img src=\"../img/gifts/img2.jpg\">\n",
    "</td></tr>\n",
    "\n",
    "<tr id=\"gift3\" class=\"gift\"><td>\n",
    "Fish Painting\n",
    "</td><td>\n",
    "If something seems fishy about this painting, it's because it's a fish! <span class=\"excitingNote\">Also hand-painted by trained monkeys!</span>\n",
    "</td><td>\n",
    "$10,005.00\n",
    "</td><td>\n",
    "<img src=\"../img/gifts/img3.jpg\">\n",
    "</td></tr>\n",
    "\n",
    "<tr id=\"gift4\" class=\"gift\"><td>\n",
    "Dead Parrot\n",
    "</td><td>\n",
    "This is an ex-parrot! <span class=\"excitingNote\">Or maybe he's only resting?</span>\n",
    "</td><td>\n",
    "$0.50\n",
    "</td><td>\n",
    "<img src=\"../img/gifts/img4.jpg\">\n",
    "</td></tr>\n",
    "\n",
    "<tr id=\"gift5\" class=\"gift\"><td>\n",
    "Mystery Box\n",
    "</td><td>\n",
    "If you love suprises, this mystery box is for you! Do not place on light-colored surfaces. May cause oil staining. <span class=\"excitingNote\">Keep your friends guessing!</span>\n",
    "</td><td>\n",
    "$1.50\n",
    "</td><td>\n",
    "<img src=\"../img/gifts/img6.jpg\">\n",
    "</td></tr>\n",
    "</table>\n",
    "</p>\n",
    "<div id=\"footer\">\n",
    "&copy; Totally Normal Gifts, Inc. <br>\n",
    "+234 (617) 863-0736\n",
    "</div>\n",
    "\n",
    "</div>\n",
    "</body>\n",
    "</html>\n",
    "\n",
    "\"\"\"\n",
    "\n",
    "soup = BeautifulSoup(html, \"html.parser\")\n",
    "# for element in soup.find_all(\"img\"):\n",
    "#     if element.get(\"style\") == None:\n",
    "#         print(element.get(\"src\"))\n",
    "\n",
    "gift_links = [element.get(\"src\") for element in soup.find_all(\"img\") if element.get(\"style\") == None]\n",
    "#gift_links\n",
    "\n",
    "re.findall(\"\\.\\.\\/img\\/gifts\\/img[0-9]\\.jpg\", html)"
   ]
  },
  {
   "cell_type": "markdown",
   "metadata": {},
   "source": [
    "### Practice Regular Expression with BeautifulSoup 2\n",
    "Use regular expression to get the value for the number of dates that Jake has taken in the past 3 months and his success rate."
   ]
  },
  {
   "cell_type": "code",
   "execution_count": 16,
   "metadata": {},
   "outputs": [
    {
     "name": "stdout",
     "output_type": "stream",
     "text": [
      "Jake has dated 10 times in the last 3 months and his success rate is 0.300000\n"
     ]
    }
   ],
   "source": [
    "from urllib.request import urlopen\n",
    "from bs4 import BeautifulSoup\n",
    "import re\n",
    "\n",
    "html_doc = \"\"\"\n",
    "<html><head><title>Jake's life</title></head>\n",
    "<body>\n",
    "    <b>INFORMATION</b>\n",
    "    Dates: 10\n",
    "    Success: 3\n",
    "    Failure: 5\n",
    "    Unknown: 2\n",
    "</body>\n",
    "\"\"\"\n",
    "#Write your code here"
   ]
  }
 ],
 "metadata": {
  "kernelspec": {
   "display_name": "Python 3",
   "language": "python",
   "name": "python3"
  },
  "language_info": {
   "codemirror_mode": {
    "name": "ipython",
    "version": 3
   },
   "file_extension": ".py",
   "mimetype": "text/x-python",
   "name": "python",
   "nbconvert_exporter": "python",
   "pygments_lexer": "ipython3",
   "version": "3.6.3"
  },
  "toc": {
   "nav_menu": {},
   "number_sections": true,
   "sideBar": true,
   "skip_h1_title": false,
   "toc_cell": false,
   "toc_position": {},
   "toc_section_display": "block",
   "toc_window_display": false
  }
 },
 "nbformat": 4,
 "nbformat_minor": 2
}
