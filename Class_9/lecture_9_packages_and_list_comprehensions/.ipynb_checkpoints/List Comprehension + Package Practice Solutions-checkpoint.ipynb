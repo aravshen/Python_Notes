{
 "cells": [
  {
   "cell_type": "markdown",
   "metadata": {},
   "source": [
    "# List Comprehension Practice\n",
    "\n"
   ]
  },
  {
   "cell_type": "markdown",
   "metadata": {},
   "source": [
    "Create list of all the even number below 100"
   ]
  },
  {
   "cell_type": "code",
   "execution_count": 23,
   "metadata": {},
   "outputs": [
    {
     "name": "stdout",
     "output_type": "stream",
     "text": [
      "[0, 2, 4, 6, 8, 10, 12, 14, 16, 18, 20, 22, 24, 26, 28, 30, 32, 34, 36, 38, 40, 42, 44, 46, 48, 50, 52, 54, 56, 58, 60, 62, 64, 66, 68, 70, 72, 74, 76, 78, 80, 82, 84, 86, 88, 90, 92, 94, 96, 98]\n"
     ]
    }
   ],
   "source": [
    "#For loop\n",
    "l_even_for_loop = []\n",
    "for i in range(100):\n",
    "    if i%2==0:\n",
    "        l_even_for_loop.append(i)\n",
    "        \n",
    "print(l_even_for_loop)"
   ]
  },
  {
   "cell_type": "code",
   "execution_count": 25,
   "metadata": {},
   "outputs": [
    {
     "name": "stdout",
     "output_type": "stream",
     "text": [
      "[0, 2, 4, 6, 8, 10, 12, 14, 16, 18, 20, 22, 24, 26, 28, 30, 32, 34, 36, 38, 40, 42, 44, 46, 48, 50, 52, 54, 56, 58, 60, 62, 64, 66, 68, 70, 72, 74, 76, 78, 80, 82, 84, 86, 88, 90, 92, 94, 96, 98]\n"
     ]
    }
   ],
   "source": [
    "#List comprehension\n",
    "l_even_list_comp = [i for i in range(100) if i%2 ==0]\n",
    "\n",
    "print(l_even_list_comp)"
   ]
  },
  {
   "cell_type": "markdown",
   "metadata": {},
   "source": [
    "Generate an $n\\times n$ identity matrix as a list of lists using list comprehension. This should be one line of code"
   ]
  },
  {
   "cell_type": "code",
   "execution_count": 5,
   "metadata": {},
   "outputs": [
    {
     "data": {
      "text/plain": [
       "[[1, 0, 0, 0, 0, 0, 0, 0, 0, 0],\n",
       " [0, 1, 0, 0, 0, 0, 0, 0, 0, 0],\n",
       " [0, 0, 1, 0, 0, 0, 0, 0, 0, 0],\n",
       " [0, 0, 0, 1, 0, 0, 0, 0, 0, 0],\n",
       " [0, 0, 0, 0, 1, 0, 0, 0, 0, 0],\n",
       " [0, 0, 0, 0, 0, 1, 0, 0, 0, 0],\n",
       " [0, 0, 0, 0, 0, 0, 1, 0, 0, 0],\n",
       " [0, 0, 0, 0, 0, 0, 0, 1, 0, 0],\n",
       " [0, 0, 0, 0, 0, 0, 0, 0, 1, 0],\n",
       " [0, 0, 0, 0, 0, 0, 0, 0, 0, 1]]"
      ]
     },
     "execution_count": 5,
     "metadata": {},
     "output_type": "execute_result"
    }
   ],
   "source": [
    "from IPython.core.interactiveshell import InteractiveShell\n",
    "InteractiveShell.ast_node_interactivity = \"all\"\n",
    "\n",
    "n=10\n",
    "\n",
    "#For loop\n",
    "I_for_loop = []\n",
    "for i in range(n):\n",
    "    row = []\n",
    "    for j in range(n):\n",
    "        if i==j:\n",
    "            row.append(1)\n",
    "        else:\n",
    "            row.append(0)\n",
    "            \n",
    "    I_for_loop.append(row)\n",
    "        \n",
    "\n"
   ]
  },
  {
   "cell_type": "code",
   "execution_count": 6,
   "metadata": {},
   "outputs": [
    {
     "data": {
      "text/plain": [
       "[[1, 0, 0, 0, 0, 0, 0, 0, 0, 0],\n",
       " [0, 1, 0, 0, 0, 0, 0, 0, 0, 0],\n",
       " [0, 0, 1, 0, 0, 0, 0, 0, 0, 0],\n",
       " [0, 0, 0, 1, 0, 0, 0, 0, 0, 0],\n",
       " [0, 0, 0, 0, 1, 0, 0, 0, 0, 0],\n",
       " [0, 0, 0, 0, 0, 1, 0, 0, 0, 0],\n",
       " [0, 0, 0, 0, 0, 0, 1, 0, 0, 0],\n",
       " [0, 0, 0, 0, 0, 0, 0, 1, 0, 0],\n",
       " [0, 0, 0, 0, 0, 0, 0, 0, 1, 0],\n",
       " [0, 0, 0, 0, 0, 0, 0, 0, 0, 1]]"
      ]
     },
     "execution_count": 6,
     "metadata": {},
     "output_type": "execute_result"
    }
   ],
   "source": [
    "#List comprehension - Two ways\n",
    "I_list_comp_1 = [[int(i==j) for i in range(n)] for j in range(n) ]\n",
    "I_list_comp_2 = [[0 if i != j else 1 for i in range(n)] for j in range(n) ]\n",
    "\n",
    "I_list_comp_1"
   ]
  },
  {
   "cell_type": "markdown",
   "metadata": {},
   "source": [
    "Take a string, make a list of strings where each element is the original string without a character. For example, \"Dennis\" => [\"ennis\", \"Dnnis\", \"Denis\", \"Denis\", \"Denns\", \"Denni\"]"
   ]
  },
  {
   "cell_type": "code",
   "execution_count": 1,
   "metadata": {},
   "outputs": [
    {
     "data": {
      "text/plain": [
       "['ennis', 'Dnnis', 'Denis', 'Denis', 'Denns', 'Denni']"
      ]
     },
     "execution_count": 1,
     "metadata": {},
     "output_type": "execute_result"
    }
   ],
   "source": [
    "s= \"Dennis\"\n",
    "\n",
    "\n",
    "#For loop\n",
    "delete_for_loop = []\n",
    "num_letters = len(s)\n",
    "for i in range(num_letters):\n",
    "    new_s = s[:i] + s[i+1:]\n",
    "    delete_for_loop.append(new_s)\n",
    "    \n",
    "    \n",
    "delete_for_loop\n",
    "\n"
   ]
  },
  {
   "cell_type": "code",
   "execution_count": 2,
   "metadata": {},
   "outputs": [
    {
     "data": {
      "text/plain": [
       "['ennis', 'Dnnis', 'Denis', 'Denis', 'Denns', 'Denni']"
      ]
     },
     "execution_count": 2,
     "metadata": {},
     "output_type": "execute_result"
    }
   ],
   "source": [
    "s= \"Dennis\"\n",
    "\n",
    "#List comprehension\n",
    "num_letters = len(s)\n",
    "delete_list_comp = [s[:i] + s[i+1:] for i in range(num_letters)]\n",
    "\n",
    "delete_list_comp"
   ]
  },
  {
   "cell_type": "markdown",
   "metadata": {},
   "source": [
    "Create a poker deck with list of lists. For example, your deck should be [[\"H\", 1], ...[\"H\", 13], ...., [\"C\", 1], ....]"
   ]
  },
  {
   "cell_type": "code",
   "execution_count": 19,
   "metadata": {},
   "outputs": [
    {
     "name": "stdout",
     "output_type": "stream",
     "text": [
      "[[1, 'H'], [2, 'H'], [3, 'H'], [4, 'H'], [5, 'H'], [6, 'H'], [7, 'H'], [8, 'H'], [9, 'H'], [10, 'H'], [11, 'H'], [12, 'H'], [13, 'H'], [1, 'D'], [2, 'D'], [3, 'D'], [4, 'D'], [5, 'D'], [6, 'D'], [7, 'D'], [8, 'D'], [9, 'D'], [10, 'D'], [11, 'D'], [12, 'D'], [13, 'D'], [1, 'C'], [2, 'C'], [3, 'C'], [4, 'C'], [5, 'C'], [6, 'C'], [7, 'C'], [8, 'C'], [9, 'C'], [10, 'C'], [11, 'C'], [12, 'C'], [13, 'C'], [1, 'S'], [2, 'S'], [3, 'S'], [4, 'S'], [5, 'S'], [6, 'S'], [7, 'S'], [8, 'S'], [9, 'S'], [10, 'S'], [11, 'S'], [12, 'S'], [13, 'S']]\n"
     ]
    }
   ],
   "source": [
    "#Write you code here\n",
    "\n",
    "#For loop\n",
    "deck = []\n",
    "suits = [\"H\", \"D\", \"C\", \"S\"]\n",
    "numbers = list(range(1,14))\n",
    "for suit in suits:\n",
    "    for num in numbers:\n",
    "        card = [num,suit]\n",
    "        deck.append(card)\n",
    "        \n",
    "print(deck)\n"
   ]
  },
  {
   "cell_type": "code",
   "execution_count": 27,
   "metadata": {},
   "outputs": [
    {
     "name": "stdout",
     "output_type": "stream",
     "text": [
      "[[1, 'H'], [1, 'D'], [1, 'C'], [1, 'S'], [2, 'H'], [2, 'D'], [2, 'C'], [2, 'S'], [3, 'H'], [3, 'D'], [3, 'C'], [3, 'S'], [4, 'H'], [4, 'D'], [4, 'C'], [4, 'S'], [5, 'H'], [5, 'D'], [5, 'C'], [5, 'S'], [6, 'H'], [6, 'D'], [6, 'C'], [6, 'S'], [7, 'H'], [7, 'D'], [7, 'C'], [7, 'S'], [8, 'H'], [8, 'D'], [8, 'C'], [8, 'S'], [9, 'H'], [9, 'D'], [9, 'C'], [9, 'S'], [10, 'H'], [10, 'D'], [10, 'C'], [10, 'S'], [11, 'H'], [11, 'D'], [11, 'C'], [11, 'S'], [12, 'H'], [12, 'D'], [12, 'C'], [12, 'S'], [13, 'H'], [13, 'D'], [13, 'C'], [13, 'S']]\n"
     ]
    }
   ],
   "source": [
    "#List comprehension\n",
    "suits = [\"H\", \"D\", \"C\", \"S\"]\n",
    "numbers = list(range(1,14))\n",
    "deck = [[num, suit] for num in numbers for suit in suits]\n",
    "print(deck)"
   ]
  },
  {
   "cell_type": "markdown",
   "metadata": {},
   "source": [
    "## Spell Checker\n",
    "Let build a spell checker that will recommend spelling changes for a given input word. We will recommend words that have a small \"edit distance\" (start with edit distance of one) from the input word. The edit distance will be fewest number of edits needed to go from the input word to the correct English word where an edit is either a delete, replace, transpose (flip any two letters), or an insert. The file \"English_Words.txt\" contains a list of 58,000 common English words.\n",
    "\n",
    "First function is **Read_Words()**:\n",
    "\n",
    "- Input: None\n",
    "- Output: List of of all English Words\n",
    "\n",
    "\n",
    "\n",
    "Second function is **Edits(word)**:\n",
    "\n",
    "- Input: incorrectly spelled word\n",
    "- Output: list of all edits\n",
    "\n",
    "Third function is **Get_English_Words(list_edits, english_words)**:\n",
    "\n",
    "- Input: list of potential edits and list of english words.\n",
    "- Output: all words in list_edits that are english words."
   ]
  },
  {
   "cell_type": "code",
   "execution_count": 46,
   "metadata": {},
   "outputs": [],
   "source": [
    "def Read_Words():\n",
    "    \"\"\"Reads list of English words\"\"\"\n",
    "    \n",
    "    words = [word.strip(\"\\n\") for word in open(\"English_Words.txt\")]\n",
    "    \n",
    "    return words\n",
    "\n",
    "\n"
   ]
  },
  {
   "cell_type": "code",
   "execution_count": 47,
   "metadata": {},
   "outputs": [],
   "source": [
    "def Edits(word):\n",
    "    \"\"\"Gets all edits for misplelled word\"\"\"\n",
    "    \n",
    "    letters = \"abcdefghijklmnopqrstuvwxyz\"\n",
    "    num_letters = len(word)\n",
    "    \n",
    "    deletes = [word[:i] + word[i+1:] for i in range(num_letters)]\n",
    "    inserts = [word[:i] + letter + word[i:] for i in range(1,num_letters) for letter in letters]\n",
    "    replaces = [word[:i] +letter +  word[i+1:] for i in range(num_letters) for letter in letters]\n",
    "    transposes = [word[:k] + word[j] + word[k+1:j] + word[k] +word[j+1:] for k in range(num_letters) for j in range(k+1, num_letters)]\n",
    "   \n",
    "    all_edits = set(deletes + inserts + replaces + transposes)\n",
    "    \n",
    "    return list(all_edits)\n",
    "\n"
   ]
  },
  {
   "cell_type": "code",
   "execution_count": 39,
   "metadata": {
    "collapsed": true
   },
   "outputs": [],
   "source": [
    "def Get_English_Words(list_edits, english_words):\n",
    "    \"\"\"Filters list of edits to make sure they are all English words\"\"\"\n",
    "    \n",
    "    suggestions = [word for word in list_edits if word in english_words]\n",
    "    \n",
    "    return suggestions"
   ]
  },
  {
   "cell_type": "code",
   "execution_count": 49,
   "metadata": {},
   "outputs": [
    {
     "name": "stdout",
     "output_type": "stream",
     "text": [
      "['sick', 'slice', 'ice', 'since', 'side', 'site', 'sic', 'sine', 'nice', 'size', 'sire', 'mice', 'dice', 'rice', 'vice', 'spice', 'lice']\n"
     ]
    }
   ],
   "source": [
    "#Combine functions here\n",
    "word = \"sice\"\n",
    "english_words = Read_Words()\n",
    "all_edits = Edits(word)\n",
    "suggestions = Get_English_Words(all_edits, english_words)\n",
    "print(suggestions)\n"
   ]
  },
  {
   "cell_type": "markdown",
   "metadata": {},
   "source": [
    "# Package Practice\n",
    "\n",
    "Generate N = 5,10,100,1000,10000,1000000 normal random variables with mean 10 and standard deviation 5.  For each value of N, compute the average of these random variables and write the results to a csv file where there is a column for N and another column for the averages."
   ]
  },
  {
   "cell_type": "code",
   "execution_count": 54,
   "metadata": {
    "run_control": {
     "marked": true
    }
   },
   "outputs": [],
   "source": [
    "import numpy as np\n",
    "\n",
    "def Get_Avg(mean, stdev, N):\n",
    "    \"\"\"Return the avg of N normal RVs with given mean and stdev\"\"\"\n",
    "    \n",
    "    random_vars = np.random.normal(mean, stdev,N)\n",
    "    avg = np.mean(random_vars)\n",
    "    \n",
    "    \n",
    "    \n",
    "    return avg\n"
   ]
  },
  {
   "cell_type": "code",
   "execution_count": 60,
   "metadata": {
    "collapsed": true
   },
   "outputs": [],
   "source": [
    "def Write_Results(mean, stdev,list_N):\n",
    "    \"\"\"Write the results to a csv\"\"\"\n",
    "    f= open(\"Results.csv\", \"w\")\n",
    "    \n",
    "    for n in list_N:\n",
    "        \n",
    "        avg = Get_Avg(mean, stdev, n)\n",
    "        f.write(\"%d, %0.2f \\n\" %(n, avg) )\n",
    "    \n"
   ]
  },
  {
   "cell_type": "code",
   "execution_count": 61,
   "metadata": {},
   "outputs": [
    {
     "name": "stdout",
     "output_type": "stream",
     "text": [
      "10.6332907352\n",
      "10.112813841\n",
      "9.48771579819\n",
      "10.2022506913\n",
      "10.0017438911\n",
      "10.0003582515\n"
     ]
    }
   ],
   "source": [
    "#Combine functions here\n",
    "list_N = [5,10,100,1000,10000,1000000]\n",
    "mean = 10\n",
    "stdev = 5\n",
    "Write_Results(mean, stdev, list_N)\n"
   ]
  },
  {
   "cell_type": "markdown",
   "metadata": {},
   "source": [
    "\n",
    "The folder titled \"Data\" contains folders for each week day, which each have text file called \"slices.txt\" that gives the number of slices of pizza consumed over various months on this day of the week.  Use os.walk() to compute the average number of slices for each day of the week.  Store the result in a dictionary where the key is the day of the week and the value is the average number of slices."
   ]
  },
  {
   "cell_type": "code",
   "execution_count": 30,
   "metadata": {},
   "outputs": [],
   "source": [
    "import os\n",
    "\n",
    "#Write you code here\n",
    "def Get_File_Paths(data_directory):\n",
    "    \"\"\"Takes as input the directory where you saved the Data folder and returns a list\n",
    "    of paths to all of the slices.txt file\"\"\"\n",
    "    list_slice_files = []\n",
    "    for path, dir_, files in os.walk(data_directory):\n",
    "        for file_name in files:\n",
    "            if \"slices\" in file_name:\n",
    "                list_slice_files.append(path)\n",
    "            \n",
    "    return list_slice_files"
   ]
  },
  {
   "cell_type": "code",
   "execution_count": 27,
   "metadata": {},
   "outputs": [],
   "source": [
    "def Get_Avg_Slice(file_path):\n",
    "    \"\"\"Takes file path and computes avg number of slices\"\"\"\n",
    "    \n",
    "    file_name = os.path.join(file_path, \"slices.txt\")\n",
    "    lines = [line.strip(\"\\n\") for line in open(file_name)]\n",
    "    all_slices =[]\n",
    "    for line in lines:\n",
    "        all_slices+=[int(slice) for slice in line.split(\",\")]\n",
    "    \n",
    "    return np.mean(all_slices)\n"
   ]
  },
  {
   "cell_type": "code",
   "execution_count": 32,
   "metadata": {
    "collapsed": true
   },
   "outputs": [],
   "source": [
    "def Get_Slice_Dict(list_file_paths):\n",
    "    \"\"\"Takes list of file paths and returns dictionary\"\"\"\n",
    "    slice_dict = {}\n",
    "    for path in list_file_paths:\n",
    "        parsed_path = path.split(\"/\")\n",
    "        dow = parsed_path[1]\n",
    "        avg_slice = Get_Avg_Slice(path)\n",
    "        slice_dict[dow] = avg_slice\n",
    "    \n",
    "    \n",
    "    return slice_dict"
   ]
  },
  {
   "cell_type": "code",
   "execution_count": 31,
   "metadata": {},
   "outputs": [
    {
     "data": {
      "text/plain": [
       "{'Friday': 12508.875,\n",
       " 'Monday': 44.399999999999999,\n",
       " 'Thursday': 15.333333333333334,\n",
       " 'Tuesday': 12.545454545454545,\n",
       " 'Wednesday': 50.18181818181818}"
      ]
     },
     "execution_count": 31,
     "metadata": {},
     "output_type": "execute_result"
    }
   ],
   "source": [
    "#Combine your functions here\n",
    "list_paths = Get_File_Paths(\"Data_Pizza/\")\n",
    "Get_Slice_Dict(list_paths)"
   ]
  }
 ],
 "metadata": {
  "kernelspec": {
   "display_name": "Python 3",
   "language": "python",
   "name": "python3"
  },
  "language_info": {
   "codemirror_mode": {
    "name": "ipython",
    "version": 3
   },
   "file_extension": ".py",
   "mimetype": "text/x-python",
   "name": "python",
   "nbconvert_exporter": "python",
   "pygments_lexer": "ipython3",
   "version": "3.6.3"
  },
  "toc": {
   "colors": {
    "hover_highlight": "#DAA520",
    "navigate_num": "#000000",
    "navigate_text": "#333333",
    "running_highlight": "#FF0000",
    "selected_highlight": "#FFD700",
    "sidebar_border": "#EEEEEE",
    "wrapper_background": "#FFFFFF"
   },
   "moveMenuLeft": true,
   "nav_menu": {
    "height": "30px",
    "width": "252px"
   },
   "navigate_menu": true,
   "number_sections": true,
   "sideBar": true,
   "skip_h1_title": false,
   "threshold": 4,
   "toc_cell": false,
   "toc_position": {},
   "toc_section_display": "block",
   "toc_window_display": false,
   "widenNotebook": false
  }
 },
 "nbformat": 4,
 "nbformat_minor": 2
}
