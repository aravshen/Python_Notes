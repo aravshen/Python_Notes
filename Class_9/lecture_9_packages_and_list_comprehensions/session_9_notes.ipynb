{
 "cells": [
  {
   "cell_type": "markdown",
   "metadata": {},
   "source": [
    "# List Comprehension\n",
    "\n",
    "Together with for loops, list comprehensions are one of the most prominent contexts in which the iteration protocol is applied. Lets look at some code that adds 10 to each number in a list."
   ]
  },
  {
   "cell_type": "code",
   "execution_count": 20,
   "metadata": {},
   "outputs": [
    {
     "data": {
      "text/plain": [
       "[11, 12, 13, 14, 15]"
      ]
     },
     "execution_count": 20,
     "metadata": {},
     "output_type": "execute_result"
    }
   ],
   "source": [
    "#Using for loop\n",
    "L=[1,2,3,4,5]\n",
    "for i in range(len(L)):\n",
    "    L[i]+=10\n",
    "L"
   ]
  },
  {
   "cell_type": "markdown",
   "metadata": {},
   "source": [
    "Using list comprehension, we can replace the loop with a single expression that produces the desired result.  It can run much faster than manual *for* loop statements because iterations are performed at C language speed."
   ]
  },
  {
   "cell_type": "code",
   "execution_count": 21,
   "metadata": {},
   "outputs": [
    {
     "data": {
      "text/plain": [
       "[11, 12, 13, 14, 15]"
      ]
     },
     "execution_count": 21,
     "metadata": {},
     "output_type": "execute_result"
    }
   ],
   "source": [
    "#Using list comprehension - Far more concise\n",
    "L=[1,2,3,4,5]\n",
    "L = [x + 10 for x in L]\n",
    "L\n"
   ]
  },
  {
   "cell_type": "markdown",
   "metadata": {},
   "source": [
    "List comprehensions are written in square brackets because they are ultimately a way to construct a new list.  They begin with an arbitrary expression that we make up, which uses a loop variable that we make up (x+10).  That is followed by what you should now recognize as the header of a *for* loop, which names the loop variable, and an iterable object (for x in L). To run the expression, Python executes an iteration across L inside the interpreter, assigning x to each item in turn, and collects the results of running the items through the expression on the left side."
   ]
  },
  {
   "cell_type": "markdown",
   "metadata": {},
   "source": [
    "## Extended List Comprehension Syntax\n",
    "\n",
    "List comprehension can be even more advanced in practice.  As one particularly useful extension, the *for* loop can have an associated *if* clause to filter out the result items for which the test is not true "
   ]
  },
  {
   "cell_type": "code",
   "execution_count": 9,
   "metadata": {},
   "outputs": [
    {
     "data": {
      "text/plain": [
       "[12, 14]"
      ]
     },
     "execution_count": 9,
     "metadata": {},
     "output_type": "execute_result"
    }
   ],
   "source": [
    "#Lets add 10 but only keep even numbers\n",
    "LEven = [x+10 for x in range(1,6) if (x+10)%2==0]\n",
    "LEven"
   ]
  },
  {
   "cell_type": "code",
   "execution_count": 10,
   "metadata": {},
   "outputs": [
    {
     "data": {
      "text/plain": [
       "[0, 1, 8, 27, 64, 125, 36, 49, 64, 81]"
      ]
     },
     "execution_count": 10,
     "metadata": {},
     "output_type": "execute_result"
    }
   ],
   "source": [
    "#With if and else\n",
    "[x**2 if x>5 else x**3 for x in range(10)]"
   ]
  },
  {
   "cell_type": "markdown",
   "metadata": {},
   "source": [
    "List comprehensions may contain nested loops, coded as a series of *for* clauses.  In fact, their full syntax allows for any number of *for* clauses and an optional associated *if* clause."
   ]
  },
  {
   "cell_type": "code",
   "execution_count": 28,
   "metadata": {},
   "outputs": [
    {
     "data": {
      "text/plain": [
       "['ae', 'af', 'bd', 'be', 'bf', 'cd', 'ce', 'cf']"
      ]
     },
     "execution_count": 28,
     "metadata": {},
     "output_type": "execute_result"
    }
   ],
   "source": [
    "#nested for loop in list comprehension\n",
    "[x+y for x in 'abc' for y in 'def' if x+y!='ad']"
   ]
  },
  {
   "cell_type": "markdown",
   "metadata": {},
   "source": [
    "Again, one way to understand this expression is to convert it to two nested for loops and an if statement."
   ]
  },
  {
   "cell_type": "code",
   "execution_count": 8,
   "metadata": {},
   "outputs": [
    {
     "data": {
      "text/plain": [
       "['ae', 'af', 'bd', 'be', 'bf', 'cd', 'ce', 'cf']"
      ]
     },
     "execution_count": 8,
     "metadata": {},
     "output_type": "execute_result"
    }
   ],
   "source": [
    "#Without list comprehension\n",
    "l=[]\n",
    "for x in 'abc':\n",
    "    for y in 'def':\n",
    "        if x+y!='ad':\n",
    "            l.append(x+y)\n",
    "l"
   ]
  },
  {
   "cell_type": "markdown",
   "metadata": {},
   "source": [
    "We can also use comprehension to build dictionaries"
   ]
  },
  {
   "cell_type": "code",
   "execution_count": 32,
   "metadata": {},
   "outputs": [
    {
     "data": {
      "text/plain": [
       "{0: 0, 1: 1, 2: 4, 3: 9, 4: 16}"
      ]
     },
     "execution_count": 32,
     "metadata": {},
     "output_type": "execute_result"
    }
   ],
   "source": [
    "#Comprehension with dictionaries\n",
    "D = {x:x**2 for x in range(5)}\n",
    "D"
   ]
  },
  {
   "cell_type": "markdown",
   "metadata": {},
   "source": [
    "We can even throw in an *if* statement"
   ]
  },
  {
   "cell_type": "markdown",
   "metadata": {},
   "source": [
    "## Using List Comprehension on Files\n",
    "\n",
    "Recall that the file object has a **readlines** method that loads the file into a list of strings, where each element of the list is a line."
   ]
  },
  {
   "cell_type": "code",
   "execution_count": 1,
   "metadata": {},
   "outputs": [
    {
     "data": {
      "text/plain": [
       "['hello text file \\n', 'goodbye text file \\n']"
      ]
     },
     "execution_count": 1,
     "metadata": {},
     "output_type": "execute_result"
    }
   ],
   "source": [
    "f= open(\"data/myFile.txt\")\n",
    "lines = f.readlines()\n",
    "lines"
   ]
  },
  {
   "cell_type": "markdown",
   "metadata": {},
   "source": [
    "This works but the lines all have the newlines character, which we will probably need to strip off. We can accomplish this with list comprehension."
   ]
  },
  {
   "cell_type": "code",
   "execution_count": 9,
   "metadata": {},
   "outputs": [
    {
     "data": {
      "text/plain": [
       "['hello text file', 'goodbye text file']"
      ]
     },
     "execution_count": 9,
     "metadata": {},
     "output_type": "execute_result"
    }
   ],
   "source": [
    "#Stripping new line character\n",
    "[line.strip(' \\n') for line in lines]"
   ]
  },
  {
   "cell_type": "markdown",
   "metadata": {},
   "source": [
    "We can actually do this even more concisely by recognizing that the *open(file)* command returns an iterable object."
   ]
  },
  {
   "cell_type": "code",
   "execution_count": 2,
   "metadata": {},
   "outputs": [
    {
     "data": {
      "text/plain": [
       "['hello text file', 'goodbye text file']"
      ]
     },
     "execution_count": 2,
     "metadata": {},
     "output_type": "execute_result"
    }
   ],
   "source": [
    "#One line to read and strip\n",
    "[line.strip(' \\n') for line in open(\"data/myFile.txt\")]"
   ]
  },
  {
   "cell_type": "code",
   "execution_count": 7,
   "metadata": {},
   "outputs": [],
   "source": [
    "#We could also convert every letter to uppercase\n",
    "[line.rstrip().upper() for line in lines]"
   ]
  },
  {
   "cell_type": "markdown",
   "metadata": {},
   "source": [
    "# Python Packages\n",
    "\n",
    "Python contains many important packages that help us to accomplish tasks such as random number generation or matrix algebra.  Anaconda comes with all of these packages installed but it is not difficult to install them yourself.  We will be focusing on the following packages:\n",
    "\n",
    "- os: operating system interface\n",
    "- Numpy: random number generation, matrix algebra\n",
    "- Scipy: random number generation, optimization, machine learning\n",
    "- Pandas: reading csv/xlsx files, SQL\n",
    "- Operator, itertools: these are used less frequently but are useful for accomplishing specific tasks that I'll cover."
   ]
  },
  {
   "cell_type": "markdown",
   "metadata": {},
   "source": [
    "## os \n",
    "\n",
    "This is an operating system interface that lets you create, move, change files.  Let have a look at some of the cool things we can do. "
   ]
  },
  {
   "cell_type": "code",
   "execution_count": 3,
   "metadata": {},
   "outputs": [
    {
     "data": {
      "text/plain": [
       "'/Users/denniszhang/Dropbox/teaching/washU/OMM561/2018/lectures/lecture_9_packages_and_list_comprehensions'"
      ]
     },
     "execution_count": 3,
     "metadata": {},
     "output_type": "execute_result"
    }
   ],
   "source": [
    "import os\n",
    "\n",
    "#Get the current working directory\n",
    "os.getcwd()\n"
   ]
  },
  {
   "cell_type": "code",
   "execution_count": 14,
   "metadata": {},
   "outputs": [
    {
     "data": {
      "text/plain": [
       "'/Users/feldman/Documents/Teaching/WashU/OSCM400/2017/Lectures/Lecture_8_Packages'"
      ]
     },
     "execution_count": 14,
     "metadata": {},
     "output_type": "execute_result"
    }
   ],
   "source": [
    "#Change the current working directory\n",
    "\n",
    "os.chdir('/Users/feldman/Documents/Teaching/WashU/OSCM400/2017/Lectures/Lecture_8_Packages')\n",
    "os.getcwd()"
   ]
  },
  {
   "cell_type": "code",
   "execution_count": 23,
   "metadata": {},
   "outputs": [
    {
     "name": "stdout",
     "output_type": "stream",
     "text": [
      "Path: /Users/denniszhang/Desktop\n",
      "Directory: ['$RECYCLE.BIN', 'Data_1', 'Data_2']\n",
      "File: ['.DS_Store', '.localized', 'desktop.ini']\n",
      "Path: /Users/denniszhang/Desktop/$RECYCLE.BIN\n",
      "Directory: ['.prl_rec']\n",
      "File: []\n",
      "Path: /Users/denniszhang/Desktop/$RECYCLE.BIN/.prl_rec\n",
      "Directory: []\n",
      "File: ['desktop.ini']\n",
      "Path: /Users/denniszhang/Desktop/Data_1\n",
      "Directory: []\n",
      "File: ['sales1.csv', 'sales2.csv', 'sales3.csv']\n",
      "Path: /Users/denniszhang/Desktop/Data_2\n",
      "Directory: []\n",
      "File: ['weather1.csv', 'weather2.csv', 'weather3.csv']\n"
     ]
    }
   ],
   "source": [
    "# Walk through all paths, directories and files\n",
    "path = os.getcwd()\n",
    "\n",
    "for path, directory, file_name in os.walk(path):\n",
    "    print(\"Path:\", path)\n",
    "    print(\"Directory:\", directory)\n",
    "    print(\"File:\", file_name)\n",
    "    "
   ]
  },
  {
   "cell_type": "markdown",
   "metadata": {},
   "source": [
    "\n",
    "## Numpy + Scipy\n",
    "\n",
    "Pronounced \"num-pie\",  this is the best package for random number generation. However, before we jump into the uses of any packages lets see how you import them."
   ]
  },
  {
   "cell_type": "code",
   "execution_count": 26,
   "metadata": {},
   "outputs": [
    {
     "name": "stdout",
     "output_type": "stream",
     "text": [
      "2.0\n"
     ]
    },
    {
     "data": {
      "text/plain": [
       "0.36177334202083233"
      ]
     },
     "execution_count": 26,
     "metadata": {},
     "output_type": "execute_result"
    }
   ],
   "source": [
    "#First way \n",
    "import numpy\n",
    "\n",
    "#The mean method\n",
    "print(numpy.mean([1,2,3]))\n",
    "\n",
    "#We will be using the random module inside of numpy to generate uniform [0,1] random variable\n",
    "numpy.random.uniform()"
   ]
  },
  {
   "cell_type": "code",
   "execution_count": 27,
   "metadata": {},
   "outputs": [
    {
     "data": {
      "text/plain": [
       "0.9921253010372318"
      ]
     },
     "execution_count": 27,
     "metadata": {},
     "output_type": "execute_result"
    }
   ],
   "source": [
    "#Second way -  give name to numpy with as.  This is one that is generally used.\n",
    "import numpy as np\n",
    "\n",
    "np.random.uniform()"
   ]
  },
  {
   "cell_type": "code",
   "execution_count": 3,
   "metadata": {},
   "outputs": [
    {
     "data": {
      "text/plain": [
       "0.21334445478026276"
      ]
     },
     "execution_count": 3,
     "metadata": {},
     "output_type": "execute_result"
    }
   ],
   "source": [
    "# If we import everyting using * we can jump to the random line\n",
    "from numpy import *\n",
    "\n",
    "random.uniform()"
   ]
  },
  {
   "cell_type": "markdown",
   "metadata": {},
   "source": [
    "Let's move on to the tools in the numpy.random module for generating random numbers.  The ability to generate random numbers is critical in understanding randomness through simulation.  One application that we will study is Monte Carlo simulation, which will rely on our ability to generate random numbers of all types.  "
   ]
  },
  {
   "cell_type": "code",
   "execution_count": 4,
   "metadata": {},
   "outputs": [
    {
     "data": {
      "text/plain": [
       "0.5791555754105322"
      ]
     },
     "execution_count": 4,
     "metadata": {},
     "output_type": "execute_result"
    }
   ],
   "source": [
    "import numpy as np\n",
    "\n",
    "#Generate one uniform [0,1] random number\n",
    "np.random.uniform()"
   ]
  },
  {
   "cell_type": "code",
   "execution_count": 7,
   "metadata": {},
   "outputs": [
    {
     "data": {
      "text/plain": [
       "9.941979024761663"
      ]
     },
     "execution_count": 7,
     "metadata": {},
     "output_type": "execute_result"
    }
   ],
   "source": [
    "#Generate one uniform [a,b] random variable\n",
    "np.random.uniform(5,10)"
   ]
  },
  {
   "cell_type": "code",
   "execution_count": 9,
   "metadata": {},
   "outputs": [
    {
     "data": {
      "text/plain": [
       "-0.14285249600758188"
      ]
     },
     "execution_count": 9,
     "metadata": {},
     "output_type": "execute_result"
    }
   ],
   "source": [
    "#Generate a normal random variables with mean 0 and stdev 1.\n",
    "np.random.normal(0,1)"
   ]
  },
  {
   "cell_type": "code",
   "execution_count": 14,
   "metadata": {},
   "outputs": [
    {
     "data": {
      "text/plain": [
       "9"
      ]
     },
     "execution_count": 14,
     "metadata": {},
     "output_type": "execute_result"
    }
   ],
   "source": [
    "#Generate a random integer in the interval [a,b)\n",
    "np.random.randint(5,10)"
   ]
  },
  {
   "cell_type": "code",
   "execution_count": 7,
   "metadata": {},
   "outputs": [
    {
     "data": {
      "text/plain": [
       "array([5, 7, 9, 6, 5])"
      ]
     },
     "execution_count": 7,
     "metadata": {},
     "output_type": "execute_result"
    }
   ],
   "source": [
    "#Generate multiple random ints\n",
    "np.random.randint(5,10,5)"
   ]
  },
  {
   "cell_type": "markdown",
   "metadata": {},
   "source": [
    "In all of the above example we can also give a third input that specifies the number of random variables we want."
   ]
  },
  {
   "cell_type": "code",
   "execution_count": 8,
   "metadata": {},
   "outputs": [
    {
     "data": {
      "text/plain": [
       "array([ 0.2117795 ,  0.76081062,  0.23766499,  0.83641908,  0.20315904,\n",
       "        0.92398427,  0.91204644,  0.69010628,  0.69096369,  0.20860248])"
      ]
     },
     "execution_count": 8,
     "metadata": {},
     "output_type": "execute_result"
    }
   ],
   "source": [
    "#Generate 10 uniform [0,1] random variables\n",
    "randomNums = np.random.uniform(0,1,10) \n",
    "randomNums"
   ]
  },
  {
   "cell_type": "markdown",
   "metadata": {},
   "source": [
    "The result is numpy array, which behaves in many ways just like a list.  We make a slight detour from our example tour to quickly cover numpy arrays.  In fact, if you don't feel like working with a numpy array, you can easily convert it to a list:"
   ]
  },
  {
   "cell_type": "code",
   "execution_count": 9,
   "metadata": {},
   "outputs": [
    {
     "data": {
      "text/plain": [
       "[0.21177950415175739,\n",
       " 0.76081061885530299,\n",
       " 0.23766499236350802,\n",
       " 0.83641907938154092,\n",
       " 0.20315903698219517,\n",
       " 0.92398427378219739,\n",
       " 0.91204644434311433,\n",
       " 0.69010627553821768,\n",
       " 0.69096369110227562,\n",
       " 0.20860247683230626]"
      ]
     },
     "execution_count": 9,
     "metadata": {},
     "output_type": "execute_result"
    }
   ],
   "source": [
    "#Conver numpy array to a list\n",
    "list(randomNums)"
   ]
  },
  {
   "cell_type": "code",
   "execution_count": 10,
   "metadata": {},
   "outputs": [
    {
     "data": {
      "text/plain": [
       "array([1, 2, 3, 4])"
      ]
     },
     "execution_count": 10,
     "metadata": {},
     "output_type": "execute_result"
    }
   ],
   "source": [
    "#Create numpy array\n",
    "a = np.array([1,2,3,4])\n",
    "a"
   ]
  },
  {
   "cell_type": "code",
   "execution_count": 11,
   "metadata": {},
   "outputs": [
    {
     "data": {
      "text/plain": [
       "(4, (4,))"
      ]
     },
     "execution_count": 11,
     "metadata": {},
     "output_type": "execute_result"
    }
   ],
   "source": [
    "#Get the number of entries.  Note that shape return a tuple\n",
    "len(a), shape(a)"
   ]
  },
  {
   "cell_type": "code",
   "execution_count": 12,
   "metadata": {},
   "outputs": [
    {
     "data": {
      "text/plain": [
       "1"
      ]
     },
     "execution_count": 12,
     "metadata": {},
     "output_type": "execute_result"
    }
   ],
   "source": [
    "#Pick out one entry\n",
    "a[0]"
   ]
  },
  {
   "cell_type": "code",
   "execution_count": 13,
   "metadata": {},
   "outputs": [
    {
     "data": {
      "text/plain": [
       "array([2, 3])"
      ]
     },
     "execution_count": 13,
     "metadata": {},
     "output_type": "execute_result"
    }
   ],
   "source": [
    "#Pick out a slice - exactly the same as a list\n",
    "a[1:3]"
   ]
  },
  {
   "cell_type": "code",
   "execution_count": 14,
   "metadata": {},
   "outputs": [
    {
     "name": "stdout",
     "output_type": "stream",
     "text": [
      "1\n",
      "2\n",
      "3\n",
      "4\n"
     ]
    }
   ],
   "source": [
    "#They are iterable\n",
    "for i in a:\n",
    "    print(i)"
   ]
  },
  {
   "cell_type": "markdown",
   "metadata": {},
   "source": [
    "Back to our example tour..."
   ]
  },
  {
   "cell_type": "code",
   "execution_count": 16,
   "metadata": {},
   "outputs": [
    {
     "data": {
      "text/plain": [
       "[6, 5, 4]"
      ]
     },
     "execution_count": 16,
     "metadata": {},
     "output_type": "execute_result"
    }
   ],
   "source": [
    "#Using shuffle method you can shuffle a list or numpy array in place\n",
    "b=[4,5,6]\n",
    "np.random.shuffle(b)\n",
    "b"
   ]
  },
  {
   "cell_type": "code",
   "execution_count": 18,
   "metadata": {},
   "outputs": [
    {
     "data": {
      "text/plain": [
       "4"
      ]
     },
     "execution_count": 18,
     "metadata": {},
     "output_type": "execute_result"
    }
   ],
   "source": [
    "#Sample uniformally from a list or numpy array using the chocie method.\n",
    "np.random.choice(b)"
   ]
  },
  {
   "cell_type": "markdown",
   "metadata": {},
   "source": [
    "To see all the distribution you can sample from and all the little tricks that numpy.random allows you to do, visit  [numpy.random site](https://docs.scipy.org/doc/numpy/reference/routines.random.html).  One last numpy tool I use in the linespace method which produces evenly spaced grids on intervals."
   ]
  },
  {
   "cell_type": "code",
   "execution_count": 17,
   "metadata": {},
   "outputs": [
    {
     "data": {
      "text/plain": [
       "array([  0.,   1.,   2.,   3.,   4.,   5.,   6.,   7.,   8.,   9.,  10.])"
      ]
     },
     "execution_count": 17,
     "metadata": {},
     "output_type": "execute_result"
    }
   ],
   "source": [
    "#np.linspace(a,b,s) evenly divides the interval [a,b] into s points\n",
    "np.linspace(0,10,11)"
   ]
  },
  {
   "cell_type": "markdown",
   "metadata": {},
   "source": [
    "You can generate custom discrete distributions using the scipy.stat ([scipy.stats site](https://docs.scipy.org/doc/scipy-0.17.1/reference/stats.html)) package.  If you visit this site, you will notice that you can do all of the random number generation we just covered with this package"
   ]
  },
  {
   "cell_type": "code",
   "execution_count": 18,
   "metadata": {},
   "outputs": [
    {
     "data": {
      "text/plain": [
       "array([1, 0, 0, 0, 0, 1, 1, 1, 1, 1, 0, 1, 1, 1, 1, 0, 1, 1, 1, 1, 1, 1, 1,\n",
       "       1, 1, 1, 1, 1, 1, 0, 1, 1, 1, 1, 1, 0, 0, 0, 1, 1, 1, 0, 1, 0, 0, 0,\n",
       "       1, 1, 0, 1, 0, 0, 1, 0, 1, 1, 1, 1, 0, 0, 0, 1, 1, 1, 0, 1, 1, 1, 1,\n",
       "       0, 1, 0, 1, 0, 1, 0, 1, 1, 0, 1, 1, 1, 0, 0, 1, 1, 1, 1, 1, 0, 1, 0,\n",
       "       1, 1, 0, 1, 1, 1, 1, 0])"
      ]
     },
     "execution_count": 18,
     "metadata": {},
     "output_type": "execute_result"
    }
   ],
   "source": [
    "import scipy.stats as st\n",
    "\n",
    "#lets sample a bias coin 100 times, 0 is heads (0.25 prob) and 1 is tails (0.75 prob)\n",
    "\n",
    "#First creates the distribution using rv_discrete\n",
    "distrib = st.rv_discrete(values=([0,1], [0.25, 0.75]))\n",
    "\n",
    "flips = distrib.rvs(size=100)\n",
    "flips"
   ]
  },
  {
   "cell_type": "code",
   "execution_count": 19,
   "metadata": {},
   "outputs": [
    {
     "data": {
      "text/plain": [
       "67"
      ]
     },
     "execution_count": 19,
     "metadata": {},
     "output_type": "execute_result"
    }
   ],
   "source": [
    "#How many tails were there? Foreshadowing...\n",
    "sum(flips)"
   ]
  },
  {
   "cell_type": "markdown",
   "metadata": {},
   "source": [
    "## Other Useful Packages\n",
    "\n",
    "We can use the packagage operator.itemgetter to sort by the second entry, for example, in a list of lists."
   ]
  },
  {
   "cell_type": "code",
   "execution_count": 20,
   "metadata": {},
   "outputs": [
    {
     "data": {
      "text/plain": [
       "6"
      ]
     },
     "execution_count": 20,
     "metadata": {},
     "output_type": "execute_result"
    }
   ],
   "source": [
    "import operator as op\n",
    "\n",
    "inventories = [['apples',5], ['oranges',6], ['bananas',3]]\n",
    "\n",
    "#itemgetter returns a callable object that fetches item from its operand\n",
    "\n",
    "#the call getcount(r) return r[1]\n",
    "getCount = op.itemgetter(1)\n",
    "\n",
    "getCount(inventories[1])"
   ]
  },
  {
   "cell_type": "code",
   "execution_count": 21,
   "metadata": {},
   "outputs": [
    {
     "data": {
      "text/plain": [
       "[['bananas', 3], ['apples', 5], ['oranges', 6]]"
      ]
     },
     "execution_count": 21,
     "metadata": {},
     "output_type": "execute_result"
    }
   ],
   "source": [
    "#We can use the key input in the sorted function to sort by the second index\n",
    "sorted(inventories, key =getCount)"
   ]
  },
  {
   "cell_type": "markdown",
   "metadata": {},
   "source": [
    "We can use the package itertools to look at all of the permuations of given size of a list.  This might be useful in a discrete optimization problem to check all possible solutions or if you want to compute some sort of probability. "
   ]
  },
  {
   "cell_type": "code",
   "execution_count": 22,
   "metadata": {},
   "outputs": [
    {
     "data": {
      "text/plain": [
       "<itertools.permutations at 0x113fc94c0>"
      ]
     },
     "execution_count": 22,
     "metadata": {},
     "output_type": "execute_result"
    }
   ],
   "source": [
    "import itertools as it\n",
    "\n",
    "l = [1,2,3]\n",
    "#Produces iterable \n",
    "sizeTwo = it.permutations(l,2)\n",
    "\n",
    "sizeTwo"
   ]
  },
  {
   "cell_type": "code",
   "execution_count": 23,
   "metadata": {},
   "outputs": [
    {
     "data": {
      "text/plain": [
       "[(1, 2), (1, 3), (2, 1), (2, 3), (3, 1), (3, 2)]"
      ]
     },
     "execution_count": 23,
     "metadata": {},
     "output_type": "execute_result"
    }
   ],
   "source": [
    "#Wrap in list function to get list of tuples\n",
    "list(sizeTwo)"
   ]
  },
  {
   "cell_type": "code",
   "execution_count": 1,
   "metadata": {},
   "outputs": [
    {
     "ename": "NameError",
     "evalue": "name 'it' is not defined",
     "output_type": "error",
     "traceback": [
      "\u001b[0;31m---------------------------------------------------------------------------\u001b[0m",
      "\u001b[0;31mNameError\u001b[0m                                 Traceback (most recent call last)",
      "\u001b[0;32m<ipython-input-1-bfad5e8beaf6>\u001b[0m in \u001b[0;36m<module>\u001b[0;34m()\u001b[0m\n\u001b[1;32m      1\u001b[0m \u001b[0;31m#There is also a combinations method\u001b[0m\u001b[0;34m\u001b[0m\u001b[0;34m\u001b[0m\u001b[0m\n\u001b[0;32m----> 2\u001b[0;31m \u001b[0mlist\u001b[0m\u001b[0;34m(\u001b[0m\u001b[0mit\u001b[0m\u001b[0;34m.\u001b[0m\u001b[0mcombinations\u001b[0m\u001b[0;34m(\u001b[0m\u001b[0ml\u001b[0m\u001b[0;34m,\u001b[0m\u001b[0;36m2\u001b[0m\u001b[0;34m)\u001b[0m\u001b[0;34m)\u001b[0m\u001b[0;34m\u001b[0m\u001b[0m\n\u001b[0m",
      "\u001b[0;31mNameError\u001b[0m: name 'it' is not defined"
     ]
    }
   ],
   "source": [
    "#There is also a combinations method\n",
    "list(it.combinations(l,2))"
   ]
  }
 ],
 "metadata": {
  "kernelspec": {
   "display_name": "Python 3",
   "language": "python",
   "name": "python3"
  },
  "language_info": {
   "codemirror_mode": {
    "name": "ipython",
    "version": 3
   },
   "file_extension": ".py",
   "mimetype": "text/x-python",
   "name": "python",
   "nbconvert_exporter": "python",
   "pygments_lexer": "ipython3",
   "version": "3.6.3"
  },
  "toc": {
   "nav_menu": {
    "height": "84px",
    "width": "252px"
   },
   "number_sections": true,
   "sideBar": true,
   "skip_h1_title": false,
   "toc_cell": false,
   "toc_position": {},
   "toc_section_display": "block",
   "toc_window_display": false
  }
 },
 "nbformat": 4,
 "nbformat_minor": 2
}
