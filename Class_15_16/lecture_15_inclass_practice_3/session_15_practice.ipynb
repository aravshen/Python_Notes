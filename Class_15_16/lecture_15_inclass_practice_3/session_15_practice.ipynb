{
 "cells": [
  {
   "cell_type": "markdown",
   "metadata": {},
   "source": [
    "# In-sessin Practice 3\n",
    "\n",
    "## 1. Titanic Data\n",
    "\n",
    "Again, we will use the Chipotle Data. The data is at \"data\\Titanic.tsv\".  First, read in the data.  You might find the delimiter input to the pandas read_csv method useful. Use the head method to check that everything has been read in correctly.  "
   ]
  },
  {
   "cell_type": "code",
   "execution_count": 8,
   "metadata": {},
   "outputs": [],
   "source": [
    "import pandas as pd\n",
    "import numpy as np\n"
   ]
  },
  {
   "cell_type": "markdown",
   "metadata": {},
   "source": [
    "The apply method applies built-in or custom functions to each row or column of a dataframe. Let's use the apply method to compute the average age and fair. We will need the mean function from numpy to do so."
   ]
  },
  {
   "cell_type": "code",
   "execution_count": null,
   "metadata": {
    "collapsed": true
   },
   "outputs": [],
   "source": [
    "#Using apply - axis =0"
   ]
  },
  {
   "cell_type": "markdown",
   "metadata": {},
   "source": [
    "Now let's say we also want to look at rounded versions of the columns corresponding to the rounded age and fare. We can use numpy's round function (np.round) and the apply method to accomplish this. Save the rounded two columns to rounded_cols."
   ]
  },
  {
   "cell_type": "code",
   "execution_count": null,
   "metadata": {
    "collapsed": true
   },
   "outputs": [],
   "source": [
    "#Using apply with the round function\n",
    "     "
   ]
  },
  {
   "cell_type": "markdown",
   "metadata": {},
   "source": [
    "The main benefit of apply is using it with custom functions. Each passenger has a title (Mr., Mrs., etc ...).  The title comes after the comma in the name.  Let's write a custom function to get this title from each name a and store it in a column. Let us save the title into a new column called \"Title\"."
   ]
  },
  {
   "cell_type": "code",
   "execution_count": null,
   "metadata": {
    "collapsed": true
   },
   "outputs": [],
   "source": [
    "def Get_Title(name):\n",
    "    title = \"\"\n",
    "    return title\n",
    "\n",
    "#Use apply with this custome function\n"
   ]
  },
  {
   "cell_type": "markdown",
   "metadata": {},
   "source": [
    "The above example demonstrates how we can use apply on single column or series.  When we use apply on multiple columns we pass the function a row.  Let's create a column called \"Old_Man\" that is 1 if the  passenger is male and above the age of 60."
   ]
  },
  {
   "cell_type": "code",
   "execution_count": null,
   "metadata": {
    "collapsed": true
   },
   "outputs": [],
   "source": [
    "def Get_Old_Man(row):\n",
    "    \n",
    "    return 0\n",
    "\n",
    "#Use apply with this custome function\n"
   ]
  },
  {
   "cell_type": "markdown",
   "metadata": {},
   "source": [
    "What is the average age of old man?"
   ]
  },
  {
   "cell_type": "code",
   "execution_count": null,
   "metadata": {
    "collapsed": true
   },
   "outputs": [],
   "source": []
  },
  {
   "cell_type": "markdown",
   "metadata": {},
   "source": [
    "## 2. Chipotle Data\n",
    "\n",
    "In this practice exercise, we will analyze Chipotle order data.  The file \"Chipotle.tsv\" contains this information in a tab separated file.  First, read in the data.  You might find the delimiter input to the pandas read_csv method useful. Use the head method to check that everything has been read in correctly.  "
   ]
  },
  {
   "cell_type": "code",
   "execution_count": null,
   "metadata": {
    "collapsed": true
   },
   "outputs": [],
   "source": [
    "import pandas as pd\n",
    "import numpy as np\n",
    "\n",
    "#Write your code here\n"
   ]
  },
  {
   "cell_type": "markdown",
   "metadata": {},
   "source": [
    "We will write code to answer the following questions: **What is the breakdown of salsa choice?**\n",
    "\n",
    "In particular, you need to create a new column in the dataset called **Salsa** which contains the salsa used in that Chipotle order **in lower cases**. If the choide description is NaN, you should return NaN for the Salsa column. If the choice does not contain Salsa, you should also return NaN\n",
    "\n",
    "Notice that this column is a string, which contains what looks like a list of lists with the salsa type as the first entry in the list.  Make sure you get rid of the \"(Hot)\" in the salsa description.  "
   ]
  },
  {
   "cell_type": "markdown",
   "metadata": {},
   "source": [
    "**Hint**: For this question, we need to write a function to be used with apply to create a column for the salsas. Let's look at the structure of the choice_description column:"
   ]
  },
  {
   "cell_type": "code",
   "execution_count": null,
   "metadata": {
    "collapsed": true
   },
   "outputs": [],
   "source": [
    "print(df_chipotle.loc[4, \"choice_description\"])\n",
    "print(df_chipotle.loc[7, \"choice_description\"])"
   ]
  },
  {
   "cell_type": "code",
   "execution_count": null,
   "metadata": {
    "collapsed": true
   },
   "outputs": [],
   "source": [
    "def Get_Salsa(choice):\n",
    "    return \"\"\n",
    "\n",
    "#Use apply with this custome function\n"
   ]
  },
  {
   "cell_type": "markdown",
   "metadata": {},
   "source": [
    "What is the popularity rank of salsa?"
   ]
  },
  {
   "cell_type": "code",
   "execution_count": null,
   "metadata": {
    "collapsed": true
   },
   "outputs": [],
   "source": []
  }
 ],
 "metadata": {
  "kernelspec": {
   "display_name": "Python 3",
   "language": "python",
   "name": "python3"
  },
  "language_info": {
   "codemirror_mode": {
    "name": "ipython",
    "version": 3
   },
   "file_extension": ".py",
   "mimetype": "text/x-python",
   "name": "python",
   "nbconvert_exporter": "python",
   "pygments_lexer": "ipython3",
   "version": "3.6.3"
  },
  "toc": {
   "nav_menu": {
    "height": "12px",
    "width": "252px"
   },
   "number_sections": true,
   "sideBar": true,
   "skip_h1_title": false,
   "toc_cell": false,
   "toc_position": {},
   "toc_section_display": "block",
   "toc_window_display": false
  }
 },
 "nbformat": 4,
 "nbformat_minor": 2
}
