{
 "cells": [
  {
   "cell_type": "markdown",
   "metadata": {},
   "source": [
    "# Computational Complexity Practice\n",
    "\n",
    "In this practice, you will code up Algorithm 1 and 2 for finding the index of an element of a list L."
   ]
  },
  {
   "cell_type": "code",
   "execution_count": 24,
   "metadata": {
    "collapsed": true
   },
   "outputs": [],
   "source": [
    "def Left_to_Right(L,x):\n",
    "    \"\"\"This is Algorithm 1 in the notes\"\"\"\n",
    "    \n",
    "            \n",
    "    return None\n",
    "    \n",
    "   "
   ]
  },
  {
   "cell_type": "code",
   "execution_count": 4,
   "metadata": {},
   "outputs": [
    {
     "data": {
      "text/plain": [
       "1"
      ]
     },
     "execution_count": 4,
     "metadata": {},
     "output_type": "execute_result"
    }
   ],
   "source": [
    "def Bisection(L,x):\n",
    "    \"\"\"This is Algorithm 2 in the notes\"\"\"\n",
    "    \n",
    "    return None\n",
    "\n",
    "    \n",
    "    "
   ]
  },
  {
   "cell_type": "markdown",
   "metadata": {},
   "source": [
    "## Test your algorithms\n",
    "\n",
    "In the following code, fill in algorithm 1 and algorithm 2 to test the run time of different implementations"
   ]
  },
  {
   "cell_type": "code",
   "execution_count": 45,
   "metadata": {},
   "outputs": [
    {
     "name": "stdout",
     "output_type": "stream",
     "text": [
      "100\n",
      "1000\n",
      "5000\n",
      "10000\n"
     ]
    }
   ],
   "source": [
    "import numpy as np\n",
    "import time\n",
    "#Testing both algorithms\n",
    "\n",
    "#Create list of n's to check\n",
    "n_list = [100]\n",
    "\n",
    "#Store runtimes of each algorithm\n",
    "alg_1_times = []\n",
    "alg_2_times = []\n",
    "#For each value of n and each trial generate a new L and x\n",
    "num_trials = 1000\n",
    "\n",
    "for n in n_list:\n",
    "    \n",
    "    #Stores runtimes for each trial\n",
    "    alg_1 = 0\n",
    "    alg_2 = 0\n",
    "    for trial in range(num_trials):\n",
    "    \n",
    "        L = sorted(list(np.random.randint(0,5*n,n)))\n",
    "        index = np.random.randint(0,n)\n",
    "        x = L[index]\n",
    "\n",
    "        #Try Alg 1\n",
    "\n",
    "\n",
    "        #Try Alg 2\n",
    "\n",
    "    \n",
    "    #Append the average time\n",
    "\n",
    "    \n",
    "    "
   ]
  }
 ],
 "metadata": {
  "kernelspec": {
   "display_name": "Python 3",
   "language": "python",
   "name": "python3"
  },
  "language_info": {
   "codemirror_mode": {
    "name": "ipython",
    "version": 3
   },
   "file_extension": ".py",
   "mimetype": "text/x-python",
   "name": "python",
   "nbconvert_exporter": "python",
   "pygments_lexer": "ipython3",
   "version": "3.6.3"
  },
  "toc": {
   "nav_menu": {},
   "number_sections": true,
   "sideBar": true,
   "skip_h1_title": false,
   "toc_cell": false,
   "toc_position": {},
   "toc_section_display": "block",
   "toc_window_display": false
  }
 },
 "nbformat": 4,
 "nbformat_minor": 2
}
