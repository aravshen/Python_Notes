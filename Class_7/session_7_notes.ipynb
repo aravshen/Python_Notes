{
 "cells": [
  {
   "cell_type": "markdown",
   "metadata": {},
   "source": [
    "# Computational Complexity"
   ]
  },
  {
   "cell_type": "markdown",
   "metadata": {},
   "source": [
    "In this notebook, we implement various algorithms for various problems and we observe the runtimes of these algorithms in practice as a function of the problem size.  \n",
    "\n",
    "Recall that we express the theoretical runtimes of each algorithm using Big O notation.  Generally, the theoretical runtimes will give a sense of how the algorithms will perform in pratice but it is important to note that this is not always the case.  We say that a function $f(n)$ is $O(g(n))$ if there exists a positive real number $C$ and a real number  $n_0$ such that for all $n\\geq n_0$ we have that $Cg(n) \\geq f(n)$."
   ]
  },
  {
   "cell_type": "markdown",
   "metadata": {},
   "source": [
    "## Summing the elements of a list."
   ]
  },
  {
   "cell_type": "markdown",
   "metadata": {},
   "source": [
    "In order to sum the elements of a list of size $n$ we need $n-1$ arithmetic operations.  The function $f(n) = n-1$ is clearly $O(n)$. Let's implement this sum for different value of $n$ and observe the runtime."
   ]
  },
  {
   "cell_type": "code",
   "execution_count": 1,
   "metadata": {
    "collapsed": true
   },
   "outputs": [],
   "source": [
    "def Sum_List(L):\n",
    "    \"\"\"Sums the elements of a list\"\"\"\n",
    "    sum_ = 0\n",
    "    for i in L:\n",
    "        sum_+=i\n",
    "        \n",
    "    return sum_"
   ]
  },
  {
   "cell_type": "code",
   "execution_count": 13,
   "metadata": {},
   "outputs": [],
   "source": [
    "%matplotlib inline\n",
    "#Some imports to help\n",
    "import time\n",
    "import numpy as np\n",
    "import matplotlib.pyplot as plt"
   ]
  },
  {
   "cell_type": "code",
   "execution_count": 16,
   "metadata": {},
   "outputs": [
    {
     "data": {
      "text/plain": [
       "[<matplotlib.lines.Line2D at 0x1134bbc18>]"
      ]
     },
     "execution_count": 16,
     "metadata": {},
     "output_type": "execute_result"
    },
    {
     "data": {
      "image/png": "[encoded data removed]",
      "text/plain": [
       "<matplotlib.figure.Figure at 0x113492fd0>"
      ]
     },
     "metadata": {},
     "output_type": "display_data"
    }
   ],
   "source": [
    "#Size of list\n",
    "n_list=[100, 10_000,100_000,1_000_000]\n",
    "\n",
    "#Store runtimes\n",
    "time_list = []\n",
    "\n",
    "for n in n_list:\n",
    "    #Generate a random list\n",
    "    L = np.random.randint(0,100, n)\n",
    "    start = time.time()\n",
    "    Sum_List(L)\n",
    "    total_time = time.time()-start\n",
    "    time_list.append(total_time)\n",
    "\n",
    "#Make the plot\n",
    "plt.plot(n_list, time_list)\n"
   ]
  },
  {
   "cell_type": "markdown",
   "metadata": {},
   "source": [
    "Notice the linear relationship!"
   ]
  },
  {
   "cell_type": "markdown",
   "metadata": {},
   "source": [
    "## Summing Lists of Lists\n",
    "\n",
    "We saw that the runtime of summing $n$ lists of sie $m$ is $nm-1$ or $O(nm)$. Let's look at the practical perform.  To make things easier we will assume that $m=n$ and the runtime in $O(n^2)$."
   ]
  },
  {
   "cell_type": "code",
   "execution_count": 19,
   "metadata": {
    "collapsed": true
   },
   "outputs": [],
   "source": [
    "def Sum_List_of_Lists(L):\n",
    "    \"\"\"Sums Elements of List of Lists\"\"\"\n",
    "    sum_ = 0\n",
    "    for row in L:\n",
    "        for i in row:\n",
    "            sum_+=i\n",
    "        \n",
    "    return sum_"
   ]
  },
  {
   "cell_type": "code",
   "execution_count": 21,
   "metadata": {},
   "outputs": [
    {
     "data": {
      "text/plain": [
       "[<matplotlib.lines.Line2D at 0x1434a0048>]"
      ]
     },
     "execution_count": 21,
     "metadata": {},
     "output_type": "execute_result"
    },
    {
     "data": {
      "image/png": "[encoded data removed]",
      "text/plain": [
       "<matplotlib.figure.Figure at 0x1100bdf98>"
      ]
     },
     "metadata": {},
     "output_type": "display_data"
    }
   ],
   "source": [
    "#Size of list\n",
    "n_list=[10, 100, 500, 1_000, 5_000, 10_000]\n",
    "\n",
    "#Store runtimes\n",
    "time_list = []\n",
    "\n",
    "for n in n_list:\n",
    "    #Generate a random list\n",
    "    L = np.random.randint(0,100, size = [n,n])\n",
    "    start = time.time()\n",
    "    Sum_List_of_Lists(L)\n",
    "    total_time = time.time()-start\n",
    "    time_list.append(total_time)\n",
    "\n",
    "#Make the plot\n",
    "plt.plot(n_list, time_list)\n"
   ]
  },
  {
   "cell_type": "markdown",
   "metadata": {},
   "source": [
    "The relationship looks reasonably quadratic, but again, the theoretical runtime will not always match the performance in practice."
   ]
  }
 ],
 "metadata": {
  "kernelspec": {
   "display_name": "Python 3",
   "language": "python",
   "name": "python3"
  },
  "language_info": {
   "codemirror_mode": {
    "name": "ipython",
    "version": 3
   },
   "file_extension": ".py",
   "mimetype": "text/x-python",
   "name": "python",
   "nbconvert_exporter": "python",
   "pygments_lexer": "ipython3",
   "version": "3.6.3"
  },
  "toc": {
   "nav_menu": {},
   "number_sections": true,
   "sideBar": true,
   "skip_h1_title": false,
   "toc_cell": false,
   "toc_position": {},
   "toc_section_display": "block",
   "toc_window_display": false
  }
 },
 "nbformat": 4,
 "nbformat_minor": 2
}
