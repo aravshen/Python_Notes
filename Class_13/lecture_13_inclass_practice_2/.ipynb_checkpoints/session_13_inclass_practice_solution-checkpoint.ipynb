{
 "cells": [
  {
   "cell_type": "markdown",
   "metadata": {},
   "source": [
    "# Practice Problem\n",
    "\n",
    "## Practice 1\n",
    "Generate an $n\\times n$ identity matrix as a list of lists using list comprehension. This should be one line of code\n"
   ]
  },
  {
   "cell_type": "code",
   "execution_count": 1,
   "metadata": {
    "collapsed": true
   },
   "outputs": [],
   "source": [
    "from IPython.core.interactiveshell import InteractiveShell\n",
    "InteractiveShell.ast_node_interactivity = \"all\"\n",
    "\n",
    "n=10\n",
    "\n",
    "#For loop\n",
    "I_for_loop = []\n",
    "for i in range(n):\n",
    "    row = []\n",
    "    for j in range(n):\n",
    "        if i==j:\n",
    "            row.append(1)\n",
    "        else:\n",
    "            row.append(0)\n",
    "            \n",
    "    I_for_loop.append(row)"
   ]
  },
  {
   "cell_type": "code",
   "execution_count": 2,
   "metadata": {},
   "outputs": [
    {
     "data": {
      "text/plain": [
       "[[1, 0, 0, 0, 0, 0, 0, 0, 0, 0],\n",
       " [0, 1, 0, 0, 0, 0, 0, 0, 0, 0],\n",
       " [0, 0, 1, 0, 0, 0, 0, 0, 0, 0],\n",
       " [0, 0, 0, 1, 0, 0, 0, 0, 0, 0],\n",
       " [0, 0, 0, 0, 1, 0, 0, 0, 0, 0],\n",
       " [0, 0, 0, 0, 0, 1, 0, 0, 0, 0],\n",
       " [0, 0, 0, 0, 0, 0, 1, 0, 0, 0],\n",
       " [0, 0, 0, 0, 0, 0, 0, 1, 0, 0],\n",
       " [0, 0, 0, 0, 0, 0, 0, 0, 1, 0],\n",
       " [0, 0, 0, 0, 0, 0, 0, 0, 0, 1]]"
      ]
     },
     "execution_count": 2,
     "metadata": {},
     "output_type": "execute_result"
    }
   ],
   "source": [
    "#List comprehension - Two ways\n",
    "I_list_comp_1 = [[int(i==j) for i in range(n)] for j in range(n) ]\n",
    "I_list_comp_2 = [[0 if i != j else 1 for i in range(n)] for j in range(n) ]\n",
    "\n",
    "I_list_comp_1"
   ]
  },
  {
   "cell_type": "markdown",
   "metadata": {},
   "source": [
    "## Practice 2\n",
    "Take a string, make a list of strings where each element is the original string without a character. For example, \"Dennis\" => [\"ennis\", \"Dnnis\", \"Denis\", \"Denis\", \"Denns\", \"Denni\"]"
   ]
  },
  {
   "cell_type": "code",
   "execution_count": 3,
   "metadata": {},
   "outputs": [
    {
     "data": {
      "text/plain": [
       "['ennis', 'Dnnis', 'Denis', 'Denis', 'Denns', 'Denni']"
      ]
     },
     "execution_count": 3,
     "metadata": {},
     "output_type": "execute_result"
    }
   ],
   "source": [
    "s= \"Dennis\"\n",
    "\n",
    "\n",
    "#For loop\n",
    "delete_for_loop = []\n",
    "num_letters = len(s)\n",
    "for i in range(num_letters):\n",
    "    new_s = s[:i] + s[i+1:]\n",
    "    delete_for_loop.append(new_s)\n",
    "    \n",
    "    \n",
    "delete_for_loop\n",
    "\n"
   ]
  },
  {
   "cell_type": "code",
   "execution_count": 4,
   "metadata": {},
   "outputs": [
    {
     "data": {
      "text/plain": [
       "['ennis', 'Dnnis', 'Denis', 'Denis', 'Denns', 'Denni']"
      ]
     },
     "execution_count": 4,
     "metadata": {},
     "output_type": "execute_result"
    }
   ],
   "source": [
    "s= \"Dennis\"\n",
    "\n",
    "#List comprehension\n",
    "num_letters = len(s)\n",
    "delete_list_comp = [s[:i] + s[i+1:] for i in range(num_letters)]\n",
    "\n",
    "delete_list_comp"
   ]
  },
  {
   "cell_type": "markdown",
   "metadata": {},
   "source": [
    "## Practice 3\n",
    "\n",
    "Count the number of words in a sentence with only words separated by spaces that are from a dictionary (the checking should be case insensitive). \n",
    "\n",
    "    --Input: sentence=\"Hello Hello world It is great\", dict=[\"hello\", \"great\"]\n",
    "    --Ouput: 3\n"
   ]
  },
  {
   "cell_type": "code",
   "execution_count": 8,
   "metadata": {
    "collapsed": true
   },
   "outputs": [],
   "source": [
    "def check_words_in_dict(sentence, dictionary):\n",
    "    result = 0\n",
    "    \n",
    "    # implement your code here\n",
    "    words_in_sentence = sentence.split(\" \")\n",
    "    for word in words_in_sentence:\n",
    "        if word in dictionary:\n",
    "            result += 1\n",
    "    return result\n",
    "\n",
    "assert check_words_in_dict(\"this is a test haha test\", [\"test\"]) == 2\n",
    "assert check_words_in_dict(\"helloworld\", [\"hello\"]) == 0"
   ]
  },
  {
   "cell_type": "markdown",
   "metadata": {},
   "source": [
    "## Practice 4\n",
    "\n",
    "Given two strings, test how many times the first string contains the second. \n",
    "\n",
    "    -- Input: str1 = \"coding is cool\" and str2 = \"co\".\n",
    "    -- Ouput: 2"
   ]
  },
  {
   "cell_type": "code",
   "execution_count": 9,
   "metadata": {
    "collapsed": true
   },
   "outputs": [],
   "source": [
    "def str_contains(str1, str2):\n",
    "    result = 0\n",
    "    \n",
    "    # implement your code here\n",
    "    for i in range(len(str1)-len(str2)):\n",
    "        if str1[i:i+len(str2)] == str2:\n",
    "            result += 1\n",
    "            \n",
    "    return result\n",
    "\n",
    "assert str_contains(\"coding is cool\", \"co\") == 2\n",
    "assert str_contains(\"coding is amazing and cool\", \"ing\") == 2"
   ]
  },
  {
   "cell_type": "markdown",
   "metadata": {},
   "source": [
    "## Practice 5\n",
    "\n",
    "Define the function that takes string of numbers separated by commas, and returns the sum of these numbers.\n",
    "\n",
    "    -- Input: s = \"1,2,3,4\"\n",
    "    -- Ouput: 10"
   ]
  },
  {
   "cell_type": "code",
   "execution_count": 10,
   "metadata": {
    "collapsed": true
   },
   "outputs": [],
   "source": [
    "def sum_of_numbers(s):\n",
    "    result = 0\n",
    "    \n",
    "    # implement your code here\n",
    "    result = sum([float(x) for x in s.split(\",\")])\n",
    "    return result\n",
    "\n",
    "assert sum_of_numbers(\"1,2,3,4,5.5\") == 15.5    "
   ]
  },
  {
   "cell_type": "markdown",
   "metadata": {},
   "source": [
    "# Spell Checker\n",
    "Let build a spell checker that will recommend spelling changes for a given input word. We will recommend words that have a small \"edit distance\" (start with edit distance of one) from the input word. The edit distance will be fewest number of edits needed to go from the input word to the correct English word where an edit is either a delete, replace, transpose (flip any two letters), or an insert. The file \"English_Words.txt\" contains a list of 58,000 common English words.\n",
    "\n",
    "First function is **Read_Words()**:\n",
    "\n",
    "- Input: None\n",
    "- Output: List of of all English Words\n",
    "\n",
    "\n",
    "\n",
    "Second function is **Edits(word)**:\n",
    "\n",
    "- Input: incorrectly spelled word\n",
    "- Output: list of all edits\n",
    "\n",
    "Third function is **Get_English_Words(list_edits, english_words)**:\n",
    "\n",
    "- Input: list of potential edits and list of english words.\n",
    "- Output: all words in list_edits that are english words."
   ]
  },
  {
   "cell_type": "code",
   "execution_count": 5,
   "metadata": {
    "collapsed": true
   },
   "outputs": [],
   "source": [
    "def Read_Words():\n",
    "    \"\"\"Reads list of English words\"\"\"\n",
    "    \n",
    "    words = [word.strip(\"\\n\") for word in open(\"English_Words.txt\")]\n",
    "    \n",
    "    return words\n",
    "\n",
    "\n"
   ]
  },
  {
   "cell_type": "code",
   "execution_count": 6,
   "metadata": {
    "collapsed": true
   },
   "outputs": [],
   "source": [
    "def Edits(word):\n",
    "    \"\"\"Gets all edits for misplelled word\"\"\"\n",
    "    \n",
    "    letters = \"abcdefghijklmnopqrstuvwxyz\"\n",
    "    num_letters = len(word)\n",
    "    \n",
    "    deletes = [word[:i] + word[i+1:] for i in range(num_letters)]\n",
    "    inserts = [word[:i] + letter + word[i:] for i in range(1,num_letters) for letter in letters]\n",
    "    replaces = [word[:i] +letter +  word[i+1:] for i in range(num_letters) for letter in letters]\n",
    "    transposes = [word[:k] + word[j] + word[k+1:j] + word[k] +word[j+1:] for k in range(num_letters) for j in range(k+1, num_letters)]\n",
    "   \n",
    "    all_edits = set(deletes + inserts + replaces + transposes)\n",
    "    \n",
    "    return list(all_edits)\n",
    "\n"
   ]
  },
  {
   "cell_type": "code",
   "execution_count": 7,
   "metadata": {
    "collapsed": true
   },
   "outputs": [],
   "source": [
    "def Get_English_Words(list_edits, english_words):\n",
    "    \"\"\"Filters list of edits to make sure they are all English words\"\"\"\n",
    "    \n",
    "    suggestions = [word for word in list_edits if word in english_words]\n",
    "    \n",
    "    return suggestions"
   ]
  },
  {
   "cell_type": "code",
   "execution_count": 11,
   "metadata": {},
   "outputs": [
    {
     "ename": "FileNotFoundError",
     "evalue": "[Errno 2] No such file or directory: 'English_Words.txt'",
     "output_type": "error",
     "traceback": [
      "\u001b[0;31m---------------------------------------------------------------------------\u001b[0m",
      "\u001b[0;31mFileNotFoundError\u001b[0m                         Traceback (most recent call last)",
      "\u001b[0;32m<ipython-input-11-d8e9d2227b39>\u001b[0m in \u001b[0;36m<module>\u001b[0;34m()\u001b[0m\n\u001b[1;32m      1\u001b[0m \u001b[0;31m#Combine functions here\u001b[0m\u001b[0;34m\u001b[0m\u001b[0;34m\u001b[0m\u001b[0m\n\u001b[1;32m      2\u001b[0m \u001b[0mword\u001b[0m \u001b[0;34m=\u001b[0m \u001b[0;34m\"sice\"\u001b[0m\u001b[0;34m\u001b[0m\u001b[0m\n\u001b[0;32m----> 3\u001b[0;31m \u001b[0menglish_words\u001b[0m \u001b[0;34m=\u001b[0m \u001b[0mRead_Words\u001b[0m\u001b[0;34m(\u001b[0m\u001b[0;34m)\u001b[0m\u001b[0;34m\u001b[0m\u001b[0m\n\u001b[0m\u001b[1;32m      4\u001b[0m \u001b[0mall_edits\u001b[0m \u001b[0;34m=\u001b[0m \u001b[0mEdits\u001b[0m\u001b[0;34m(\u001b[0m\u001b[0mword\u001b[0m\u001b[0;34m)\u001b[0m\u001b[0;34m\u001b[0m\u001b[0m\n\u001b[1;32m      5\u001b[0m \u001b[0msuggestions\u001b[0m \u001b[0;34m=\u001b[0m \u001b[0mGet_English_Words\u001b[0m\u001b[0;34m(\u001b[0m\u001b[0mall_edits\u001b[0m\u001b[0;34m,\u001b[0m \u001b[0menglish_words\u001b[0m\u001b[0;34m)\u001b[0m\u001b[0;34m\u001b[0m\u001b[0m\n",
      "\u001b[0;32m<ipython-input-5-18ece14765c8>\u001b[0m in \u001b[0;36mRead_Words\u001b[0;34m()\u001b[0m\n\u001b[1;32m      2\u001b[0m     \u001b[0;34m\"\"\"Reads list of English words\"\"\"\u001b[0m\u001b[0;34m\u001b[0m\u001b[0m\n\u001b[1;32m      3\u001b[0m \u001b[0;34m\u001b[0m\u001b[0m\n\u001b[0;32m----> 4\u001b[0;31m     \u001b[0mwords\u001b[0m \u001b[0;34m=\u001b[0m \u001b[0;34m[\u001b[0m\u001b[0mword\u001b[0m\u001b[0;34m.\u001b[0m\u001b[0mstrip\u001b[0m\u001b[0;34m(\u001b[0m\u001b[0;34m\"\\n\"\u001b[0m\u001b[0;34m)\u001b[0m \u001b[0;32mfor\u001b[0m \u001b[0mword\u001b[0m \u001b[0;32min\u001b[0m \u001b[0mopen\u001b[0m\u001b[0;34m(\u001b[0m\u001b[0;34m\"English_Words.txt\"\u001b[0m\u001b[0;34m)\u001b[0m\u001b[0;34m]\u001b[0m\u001b[0;34m\u001b[0m\u001b[0m\n\u001b[0m\u001b[1;32m      5\u001b[0m \u001b[0;34m\u001b[0m\u001b[0m\n\u001b[1;32m      6\u001b[0m     \u001b[0;32mreturn\u001b[0m \u001b[0mwords\u001b[0m\u001b[0;34m\u001b[0m\u001b[0m\n",
      "\u001b[0;31mFileNotFoundError\u001b[0m: [Errno 2] No such file or directory: 'English_Words.txt'"
     ]
    }
   ],
   "source": [
    "#Combine functions here\n",
    "word = \"sice\"\n",
    "english_words = Read_Words()\n",
    "all_edits = Edits(word)\n",
    "suggestions = Get_English_Words(all_edits, english_words)\n",
    "print(suggestions)"
   ]
  }
 ],
 "metadata": {
  "kernelspec": {
   "display_name": "Python 3",
   "language": "python",
   "name": "python3"
  },
  "language_info": {
   "codemirror_mode": {
    "name": "ipython",
    "version": 3
   },
   "file_extension": ".py",
   "mimetype": "text/x-python",
   "name": "python",
   "nbconvert_exporter": "python",
   "pygments_lexer": "ipython3",
   "version": "3.6.3"
  }
 },
 "nbformat": 4,
 "nbformat_minor": 2
}
