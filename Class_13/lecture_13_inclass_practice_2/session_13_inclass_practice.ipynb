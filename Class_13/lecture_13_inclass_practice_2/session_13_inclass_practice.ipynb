{
 "cells": [
  {
   "cell_type": "markdown",
   "metadata": {},
   "source": [
    "# Practice Problem\n",
    "\n",
    "## Practice 1\n",
    "Generate an $n\\times n$ identity matrix as a list of lists using list comprehension. This should be one line of code\n"
   ]
  },
  {
   "cell_type": "code",
   "execution_count": 1,
   "metadata": {
    "collapsed": true
   },
   "outputs": [],
   "source": [
    "from IPython.core.interactiveshell import InteractiveShell\n",
    "InteractiveShell.ast_node_interactivity = \"all\"\n"
   ]
  },
  {
   "cell_type": "code",
   "execution_count": 1,
   "metadata": {},
   "outputs": [],
   "source": [
    "#List comprehension - Two ways"
   ]
  },
  {
   "cell_type": "markdown",
   "metadata": {},
   "source": [
    "## Practice 2\n",
    "Take a string, make a list of strings where each element is the original string without a character. For example, \"Dennis\" => [\"ennis\", \"Dnnis\", \"Denis\", \"Denis\", \"Denns\", \"Denni\"]"
   ]
  },
  {
   "cell_type": "code",
   "execution_count": 2,
   "metadata": {},
   "outputs": [],
   "source": [
    "s= \"Dennis\"\n",
    "result = []\n",
    "\n"
   ]
  },
  {
   "cell_type": "code",
   "execution_count": 3,
   "metadata": {},
   "outputs": [],
   "source": [
    "s= \"Dennis\"\n",
    "result = []\n"
   ]
  },
  {
   "cell_type": "markdown",
   "metadata": {},
   "source": [
    "## Practice 3\n",
    "\n",
    "Count the number of words in a sentence with only words separated by spaces that are from a dictionary (the checking should be case insensitive). \n",
    "\n",
    "    --Input: sentence=\"Hello Hello world It is great\", dict=[\"hello\", \"great\"]\n",
    "    --Ouput: 3\n"
   ]
  },
  {
   "cell_type": "code",
   "execution_count": 8,
   "metadata": {
    "collapsed": true
   },
   "outputs": [],
   "source": [
    "def check_words_in_dict(sentence, dictionary):\n",
    "    result = 0\n",
    "    \n",
    "    # implement your code here\n",
    "\n",
    "    \n",
    "    return result\n",
    "\n",
    "assert check_words_in_dict(\"this is a test haha test\", [\"test\"]) == 2\n",
    "assert check_words_in_dict(\"helloworld\", [\"hello\"]) == 0"
   ]
  },
  {
   "cell_type": "markdown",
   "metadata": {},
   "source": [
    "## Practice 4\n",
    "\n",
    "Given two strings, test how many times the first string contains the second. \n",
    "\n",
    "    -- Input: str1 = \"coding is cool\" and str2 = \"co\".\n",
    "    -- Ouput: 2"
   ]
  },
  {
   "cell_type": "code",
   "execution_count": 9,
   "metadata": {
    "collapsed": true
   },
   "outputs": [],
   "source": [
    "def str_contains(str1, str2):\n",
    "    result = 0\n",
    "    \n",
    "    # implement your code here\n",
    "    \n",
    "    return result\n",
    "\n",
    "assert str_contains(\"coding is cool\", \"co\") == 2\n",
    "assert str_contains(\"coding is amazing and cool\", \"ing\") == 2"
   ]
  },
  {
   "cell_type": "markdown",
   "metadata": {},
   "source": [
    "## Practice 5\n",
    "\n",
    "Define the function that takes string of numbers separated by commas, and returns the sum of these numbers.\n",
    "\n",
    "    -- Input: s = \"1,2,3,4\"\n",
    "    -- Ouput: 10"
   ]
  },
  {
   "cell_type": "code",
   "execution_count": 10,
   "metadata": {
    "collapsed": true
   },
   "outputs": [],
   "source": [
    "def sum_of_numbers(s):\n",
    "    result = 0\n",
    "    \n",
    "    # implement your code here\n",
    "\n",
    "    return result\n",
    "\n",
    "assert sum_of_numbers(\"1,2,3,4,5.5\") == 15.5    "
   ]
  },
  {
   "cell_type": "markdown",
   "metadata": {},
   "source": [
    "# Spell Checker\n",
    "Let build a spell checker that will recommend spelling changes for a given input word. We will recommend words that have a small \"edit distance\" (start with edit distance of one) from the input word. The edit distance will be fewest number of edits needed to go from the input word to the correct English word where an edit is either a delete, replace, transpose (flip any two letters), or an insert. The file \"English_Words.txt\" contains a list of 58,000 common English words.\n",
    "\n",
    "First function is **Read_Words()**:\n",
    "\n",
    "- Input: None\n",
    "- Output: List of of all English Words\n",
    "\n",
    "\n",
    "\n",
    "Second function is **Edits(word)**:\n",
    "\n",
    "- Input: incorrectly spelled word\n",
    "- Output: list of all edits\n",
    "\n",
    "Third function is **Get_English_Words(list_edits, english_words)**:\n",
    "\n",
    "- Input: list of potential edits and list of english words.\n",
    "- Output: all words in list_edits that are english words."
   ]
  },
  {
   "cell_type": "code",
   "execution_count": 5,
   "metadata": {
    "collapsed": true
   },
   "outputs": [],
   "source": [
    "def Read_Words():\n",
    "    \"\"\"Reads list of English words\"\"\"\n",
    "    words = []\n",
    "    \n",
    "    return words\n",
    "\n",
    "\n"
   ]
  },
  {
   "cell_type": "code",
   "execution_count": 6,
   "metadata": {
    "collapsed": true
   },
   "outputs": [],
   "source": [
    "def Edits(word):\n",
    "    \"\"\"Gets all edits for misplelled word\"\"\"\n",
    "    all_edits = []\n",
    "\n",
    "    return list(all_edits)\n",
    "\n"
   ]
  },
  {
   "cell_type": "code",
   "execution_count": 7,
   "metadata": {
    "collapsed": true
   },
   "outputs": [],
   "source": [
    "def Get_English_Words(list_edits, english_words):\n",
    "    \"\"\"Filters list of edits to make sure they are all English words\"\"\"\n",
    "    suggestions = []\n",
    "    \n",
    "    return suggestions"
   ]
  },
  {
   "cell_type": "code",
   "execution_count": null,
   "metadata": {},
   "outputs": [],
   "source": [
    "#Combine functions here\n",
    "word = \"sice\"\n",
    "english_words = Read_Words()\n",
    "all_edits = Edits(word)\n",
    "suggestions = Get_English_Words(all_edits, english_words)\n",
    "print(suggestions)"
   ]
  }
 ],
 "metadata": {
  "kernelspec": {
   "display_name": "Python 3",
   "language": "python",
   "name": "python3"
  },
  "language_info": {
   "codemirror_mode": {
    "name": "ipython",
    "version": 3
   },
   "file_extension": ".py",
   "mimetype": "text/x-python",
   "name": "python",
   "nbconvert_exporter": "python",
   "pygments_lexer": "ipython3",
   "version": "3.6.3"
  }
 },
 "nbformat": 4,
 "nbformat_minor": 2
}
