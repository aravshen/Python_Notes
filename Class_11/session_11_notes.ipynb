{
 "cells": [
  {
   "cell_type": "markdown",
   "metadata": {},
   "source": [
    "# CI  for Monte Carlo\n",
    "\n",
    "Let's compute confidence intervals for the Monte Carlo simulation to find the expected number of unique faces we get in consecutive dice rolls.\n",
    "\n",
    "## Rolling a Dice Example\n",
    "\n",
    "Suppose that you have a 6-face dice. What is the expected number of unique faces that you will get in 5 rolls?"
   ]
  },
  {
   "cell_type": "code",
   "execution_count": 3,
   "metadata": {
    "collapsed": true
   },
   "outputs": [],
   "source": [
    "import numpy as np\n",
    "\n",
    "def Num_Diff_Cards():\n",
    "    \"\"\"Returns how many unique roll there are in a 5 roll sample \"\"\"\n",
    "    \n",
    "    cards = np.random.randint(1,6,5)\n",
    "    num_unique = 0\n",
    "    cards_seen = []\n",
    "    for card in cards:\n",
    "        if card in cards_seen:\n",
    "            continue\n",
    "        else:\n",
    "            num_unique+=1\n",
    "            cards_seen+=[card]\n",
    "    \n",
    "    return num_unique"
   ]
  },
  {
   "cell_type": "code",
   "execution_count": 4,
   "metadata": {
    "collapsed": false,
    "run_control": {
     "marked": true
    }
   },
   "outputs": [
    {
     "name": "stdout",
     "output_type": "stream",
     "text": [
      "40 number of trials with stdev of 0.70\n"
     ]
    },
    {
     "data": {
      "text/plain": [
       "(3.375, 0.1100426053853688)"
      ]
     },
     "execution_count": 4,
     "metadata": {},
     "output_type": "execute_result"
    }
   ],
   "source": [
    "import math\n",
    "\n",
    "def Monte_Carlo_Cards(N):\n",
    "    \"\"\"Runs Monte Carlo\"\"\"\n",
    "    \n",
    "    list_num_unique = []\n",
    "    for trial in range(N):\n",
    "        num_unique = Num_Diff_Cards()\n",
    "        list_num_unique+=[num_unique]\n",
    "        \n",
    "    avg = np.mean(list_num_unique)\n",
    "    stdev = np.std(list_num_unique)\n",
    "    CI_width = stdev/math.sqrt(N)\n",
    "    print(\"%d number of trials with stdev of %0.2f\" %(N, stdev))\n",
    "    \n",
    "    return avg,CI_width\n",
    "\n",
    "N=40\n",
    "Monte_Carlo_Cards(N)"
   ]
  },
  {
   "cell_type": "markdown",
   "metadata": {},
   "source": [
    "Lets look at how the width of the confidence interval and mean changes as a function of $N$."
   ]
  },
  {
   "cell_type": "code",
   "execution_count": 36,
   "metadata": {
    "collapsed": false
   },
   "outputs": [
    {
     "name": "stdout",
     "output_type": "stream",
     "text": [
      "1000 number of trials with stdev of 0.71\n",
      "5000 number of trials with stdev of 0.71\n",
      "10000 number of trials with stdev of 0.72\n",
      "50000 number of trials with stdev of 0.72\n",
      "100000 number of trials with stdev of 0.71\n"
     ]
    },
    {
     "data": {
      "text/plain": [
       "[<matplotlib.lines.Line2D at 0x1157b7f28>]"
      ]
     },
     "execution_count": 36,
     "metadata": {},
     "output_type": "execute_result"
    },
    {
     "data": {
      "image/png": "[encoded data removed]",
      "text/plain": [
       "<matplotlib.figure.Figure at 0x1155dcf60>"
      ]
     },
     "metadata": {},
     "output_type": "display_data"
    }
   ],
   "source": [
    "%matplotlib inline\n",
    "\n",
    "import matplotlib.pyplot as plt\n",
    "\n",
    "N_list = [1000,5000,10000, 50000, 100000]\n",
    "CI_width_list = []\n",
    "avg_list = []\n",
    "for N in N_list:\n",
    "    \n",
    "    avg,width = Monte_Carlo_Cards(N)\n",
    "    CI_width_list+=[width]\n",
    "    avg_list+=[avg]\n",
    "    \n",
    "fig = plt.figure(figsize=(15,5))\n",
    "fig.add_subplot(1,2,1, title = \"Mean vs. N\")\n",
    "plt.plot(N_list,avg_list)\n",
    "fig.add_subplot(1,2,2, title = \"CI Width vs. N\")\n",
    "plt.plot(N_list,CI_width_list)"
   ]
  },
  {
   "cell_type": "markdown",
   "metadata": {},
   "source": [
    "# Optimization via Monte Carlo Simulation\n",
    "\n",
    "Let us compute the optimal porfolio allocation using a monte carlo simulation over 3 stocks. \n"
   ]
  },
  {
   "cell_type": "code",
   "execution_count": 7,
   "metadata": {},
   "outputs": [
    {
     "data": {
      "text/plain": [
       "1325.5839443919656"
      ]
     },
     "execution_count": 7,
     "metadata": {},
     "output_type": "execute_result"
    }
   ],
   "source": [
    "import numpy as np\n",
    "\n",
    "def Sample_Returns(investments_dict, mean_dict, stdev_dict):\n",
    "    \"\"\"Take as input a dictionary containing the investments in the\n",
    "    three stock as well as two other dictionaries containg the stock info and output return \n",
    "    for a single trial\"\"\"\n",
    "    \n",
    "    total = 0\n",
    "    for stock in investments_dict:\n",
    "        \n",
    "        mean = mean_dict[stock]\n",
    "        stdev = stdev_dict[stock]\n",
    "        return_ = np.random.normal(mean, stdev)/100\n",
    "        \n",
    "        amt_invested = investments_dict[stock]\n",
    "        total += amt_invested*(1+return_)\n",
    "        \n",
    "    if total<1000:\n",
    "        return -10_000\n",
    "    else:\n",
    "        return total\n",
    "        \n",
    "\n",
    "investments_dict = {\"O\": 0, \"M\":1000, \"S\":0}\n",
    "mean_dict = {\"O\":8 , \"M\":15, \"S\":3}\n",
    "stdev_dict = {\"O\":6 , \"M\":15, \"S\":1}\n",
    "\n",
    "Sample_Returns(investments_dict, mean_dict, stdev_dict)"
   ]
  },
  {
   "cell_type": "code",
   "execution_count": 11,
   "metadata": {},
   "outputs": [
    {
     "data": {
      "text/plain": [
       "-580.3477033179954"
      ]
     },
     "execution_count": 11,
     "metadata": {},
     "output_type": "execute_result"
    }
   ],
   "source": [
    "def Monte_Carlo_Portfolio(N, investments_dict, mean_dict, stdev_dict):\n",
    "    \"\"\"Run the Monte Carlo N for trials to compute the expected return of\n",
    "    investment strategy  in in investment_dict\"\"\"\n",
    "    #return np.mean([Sample_Returns(investments_dict, mean_dict, stdev_dict) for i in range(N)])\n",
    "\n",
    "    total = 0\n",
    "    for i in range(N):\n",
    "        total+=Sample_Returns(investments_dict, mean_dict, stdev_dict)\n",
    "    avg_return = total/N\n",
    "    \n",
    "    return avg_return\n",
    "\n",
    "N=100000\n",
    "investments_dict = {\"O\": 0, \"M\":1000, \"S\":0}\n",
    "mean_dict = {\"O\":8 , \"M\":15, \"S\":3}\n",
    "stdev_dict = {\"O\":6 , \"M\":15, \"S\":1}\n",
    "Monte_Carlo_Portfolio(N,investments_dict, mean_dict, stdev_dict)"
   ]
  },
  {
   "cell_type": "code",
   "execution_count": 12,
   "metadata": {},
   "outputs": [],
   "source": [
    "def Portfolio_Opt(N, mean_dict, stdev_dict):\n",
    "    \"\"\"Enumerates over all feasible investmenet strategies and picks the best\"\"\"\n",
    "    best_return  = 0\n",
    "    investments_dict={}\n",
    "    for inv_O in range(0,1000,25):\n",
    "        for inv_M in range(0,1000,25):\n",
    "            for inv_S in range(0,1000,25):\n",
    "                #Figure out best\n",
    "                total_inv = inv_O + inv_M + inv_S\n",
    "                if total_inv<=1000:\n",
    "                    investments_dict[\"O\"] = inv_O\n",
    "                    investments_dict[\"M\"] = inv_M\n",
    "                    investments_dict[\"S\"] = inv_S\n",
    "                    return_ = Monte_Carlo_Portfolio(N,investments_dict, mean_dict, stdev_dict)\n",
    "                    if return_ > best_return:\n",
    "                        best_allocation = investments_dict\n",
    "                        best_return = return_\n",
    "    return best_allocation, best_return\n",
    "\n"
   ]
  },
  {
   "cell_type": "code",
   "execution_count": 18,
   "metadata": {},
   "outputs": [
    {
     "data": {
      "text/plain": [
       "({'M': 25, 'O': 975, 'S': 0}, 1260.1966775054582)"
      ]
     },
     "execution_count": 18,
     "metadata": {},
     "output_type": "execute_result"
    }
   ],
   "source": [
    "mean_dict = {\"O\":8 , \"M\":15, \"S\":3}\n",
    "stdev_dict = {\"O\":6 , \"M\":15, \"S\":1}\n",
    "Portfolio_Opt(5, mean_dict, stdev_dict)"
   ]
  }
 ],
 "metadata": {
  "kernelspec": {
   "display_name": "Python 3",
   "language": "python",
   "name": "python3"
  },
  "language_info": {
   "codemirror_mode": {
    "name": "ipython",
    "version": 3
   },
   "file_extension": ".py",
   "mimetype": "text/x-python",
   "name": "python",
   "nbconvert_exporter": "python",
   "pygments_lexer": "ipython3",
   "version": "3.6.3"
  },
  "toc": {
   "nav_menu": {
    "height": "84px",
    "width": "252px"
   },
   "number_sections": true,
   "sideBar": true,
   "skip_h1_title": false,
   "toc_cell": false,
   "toc_position": {},
   "toc_section_display": "block",
   "toc_window_display": false
  }
 },
 "nbformat": 4,
 "nbformat_minor": 2
}
