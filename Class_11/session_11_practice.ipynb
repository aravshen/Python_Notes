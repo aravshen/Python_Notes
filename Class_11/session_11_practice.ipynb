{
 "cells": [
  {
   "cell_type": "markdown",
   "metadata": {},
   "source": [
    "# Monte Carlo Practice\n",
    "\n"
   ]
  },
  {
   "cell_type": "markdown",
   "metadata": {},
   "source": [
    "## Dice Practice\n",
    "In this practice problem, you will write a monte carlo simulation to estimate the average probability to get the average > 3 in rolling a 6 sided dice with its confidence interval."
   ]
  },
  {
   "cell_type": "code",
   "execution_count": 2,
   "metadata": {
    "collapsed": false
   },
   "outputs": [],
   "source": [
    "import numpy as np\n",
    "\n",
    "def Roll_Dice():\n",
    "    \"\"\"Roll three 6 sided dice and return 1 if the average is >3\n",
    "        and 0 otherwise\"\"\"\n",
    "    return 0\n",
    "    "
   ]
  },
  {
   "cell_type": "code",
   "execution_count": 3,
   "metadata": {
    "collapsed": true
   },
   "outputs": [],
   "source": [
    "def Monte_Carlo_Dice(N):\n",
    "    \"\"\"Runs Monte Carlo\"\"\"\n",
    "    prob = 0\n",
    "    return prob"
   ]
  },
  {
   "cell_type": "code",
   "execution_count": 5,
   "metadata": {
    "collapsed": false
   },
   "outputs": [
    {
     "data": {
      "text/plain": [
       "0.624906"
      ]
     },
     "execution_count": 5,
     "metadata": {},
     "output_type": "execute_result"
    }
   ],
   "source": [
    "#Combine Functions\n",
    "N=1000000\n",
    "Monte_Carlo_Dice(N)"
   ]
  },
  {
   "cell_type": "markdown",
   "metadata": {},
   "source": [
    "## Poker Example\n",
    "\n",
    "In this practice problem, you will estimate the probability of drawing a straight flush"
   ]
  },
  {
   "cell_type": "code",
   "execution_count": 32,
   "metadata": {
    "collapsed": false
   },
   "outputs": [],
   "source": [
    "\n",
    "def Deal_Hand():\n",
    "    \"\"\"Creates Deck, shuffle and deal a 5 card hand \n",
    "    sorted in increasing order of card number\"\"\"\n",
    "    hand = []\n",
    "    return hand\n"
   ]
  },
  {
   "cell_type": "code",
   "execution_count": 40,
   "metadata": {
    "collapsed": false
   },
   "outputs": [],
   "source": [
    "def Check_Hand_SF(hand):\n",
    "    \"\"\"Return 1 if the input hand is a straight flush\n",
    "    and 0 otherwise\"\"\"\n",
    "    \n",
    "    return 0\n",
    "    \n"
   ]
  },
  {
   "cell_type": "code",
   "execution_count": 41,
   "metadata": {
    "collapsed": false
   },
   "outputs": [],
   "source": [
    "def Monte_Carlo_Poker(N):\n",
    "    \"\"\"Runs the monte carlo\"\"\"\n",
    "    prob_sf = 0\n",
    "    \n",
    "    return prob_sf"
   ]
  },
  {
   "cell_type": "code",
   "execution_count": 42,
   "metadata": {
    "collapsed": false
   },
   "outputs": [
    {
     "data": {
      "text/plain": [
       "2e-05"
      ]
     },
     "execution_count": 42,
     "metadata": {},
     "output_type": "execute_result"
    }
   ],
   "source": [
    "#Combine things\n",
    "N=1000000\n",
    "Monte_Carlo_Poker(N)"
   ]
  }
 ],
 "metadata": {
  "kernelspec": {
   "display_name": "Python 3",
   "language": "python",
   "name": "python3"
  },
  "language_info": {
   "codemirror_mode": {
    "name": "ipython",
    "version": 3
   },
   "file_extension": ".py",
   "mimetype": "text/x-python",
   "name": "python",
   "nbconvert_exporter": "python",
   "pygments_lexer": "ipython3",
   "version": "3.6.3"
  },
  "toc": {
   "nav_menu": {
    "height": "84px",
    "width": "252px"
   },
   "number_sections": true,
   "sideBar": true,
   "skip_h1_title": false,
   "toc_cell": false,
   "toc_position": {},
   "toc_section_display": "block",
   "toc_window_display": false
  }
 },
 "nbformat": 4,
 "nbformat_minor": 2
}
