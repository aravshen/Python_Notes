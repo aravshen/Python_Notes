{
 "cells": [
  {
   "cell_type": "markdown",
   "metadata": {},
   "source": [
    "# Python Practice\n",
    "\n",
    "These practice problems include knowledge from Session 1 to Session 9"
   ]
  },
  {
   "cell_type": "markdown",
   "metadata": {},
   "source": [
    "### Practice 1\n",
    "\n",
    "Create a function that takes input as a string, and outputs whether this string is a number"
   ]
  },
  {
   "cell_type": "code",
   "execution_count": 8,
   "metadata": {
    "collapsed": true
   },
   "outputs": [],
   "source": [
    "def string_is_num(s):\n",
    "    result = False\n",
    "    \n",
    "    # implement your code here\n",
    "    result = s.isdigit()\n",
    "    \n",
    "    return result\n",
    "\n",
    "assert string_is_num(\"123\") == True\n",
    "assert string_is_num(\"ab12\") == False"
   ]
  },
  {
   "cell_type": "markdown",
   "metadata": {},
   "source": [
    "### Practice 2\n",
    "\n",
    "Create a function that takes input as a string of integer and outputs the integer that is identical.\n",
    "\n",
    "    -- Input: \"123\"\n",
    "    -- Output: 123\n",
    "    \n",
    "You are not allowed to cast the entire string to integer using **int()**. You can only use int() for each letter in the string."
   ]
  },
  {
   "cell_type": "code",
   "execution_count": 12,
   "metadata": {},
   "outputs": [
    {
     "name": "stdout",
     "output_type": "stream",
     "text": [
      "12341\n"
     ]
    }
   ],
   "source": [
    "def string_to_int(s):\n",
    "    result = 0\n",
    "    \n",
    "    # implement your code here\n",
    "    for i in range(len(s)):\n",
    "        result += int(s[len(s)-1-i]) * 10**i\n",
    "    \n",
    "    return result\n",
    "\n",
    "assert string_to_int(\"12341\") == 12341\n",
    "assert string_to_int(\"0\") == 0"
   ]
  },
  {
   "cell_type": "markdown",
   "metadata": {},
   "source": [
    "### Practice 3\n",
    "\n",
    "Create a function that takes an integer K and generate an identitiy matrix with K rows and columns. (Note: A matrix is an identity matrix if its off-diagonal entries are all 0, and their diagonal entries are all 1.\n",
    "\n",
    "    -- Input: K = 2\n",
    "    -- Ouput: [[1,0],[0,1]]\n"
   ]
  },
  {
   "cell_type": "code",
   "execution_count": 15,
   "metadata": {},
   "outputs": [
    {
     "name": "stdout",
     "output_type": "stream",
     "text": [
      "[[1, 0, 0], [0, 1, 0], [0, 0, 1]]\n"
     ]
    }
   ],
   "source": [
    "def identity_matrix(num_rows):\n",
    "    result = []\n",
    "    \n",
    "    # implement your code here\n",
    "    result = [[int(i==j) for i in range(num_rows)] for j in range(num_rows)]\n",
    "    \n",
    "    return result\n",
    "\n",
    "\n",
    "assert identity_matrix(1) == [[1]]\n",
    "assert identity_matrix(3) == [[1,0,0],[0,1,0],[0,0,1]]"
   ]
  },
  {
   "cell_type": "markdown",
   "metadata": {},
   "source": [
    "### Practice 4\n",
    "\n",
    "Count the number of words in a sentence with only words separated by spaces that are from a dictionary (the checking should be case insensitive). \n",
    "\n",
    "    --Input: sentence=\"Hello Hello world It is great\", dict=[\"hello\", \"great\"]\n",
    "    --Ouput: 3\n"
   ]
  },
  {
   "cell_type": "code",
   "execution_count": 17,
   "metadata": {},
   "outputs": [],
   "source": [
    "def check_words_in_dict(sentence, dictionary):\n",
    "    result = 0\n",
    "    \n",
    "    # implement your code here\n",
    "    words_in_sentence = sentence.split(\" \")\n",
    "    for word in words_in_sentence:\n",
    "        if word in dictionary:\n",
    "            result += 1\n",
    "    return result\n",
    "\n",
    "assert check_words_in_dict(\"this is a test haha test\", [\"test\"]) == 2\n",
    "assert check_words_in_dict(\"helloworld\", [\"hello\"]) == 0"
   ]
  },
  {
   "cell_type": "markdown",
   "metadata": {},
   "source": [
    "### Practice 5\n",
    "\n",
    "Taking two binary vectors with the same length, compute their jaccard similarity. Jaccard similarity is equal to the number of indices at which both vectors are 1 divided by the total number of indices that are 1 in at least one of these two vectors. If the total number of indices that are 1 in at least one of these two vectors is 0, jaccard similarity is 0.\n",
    "\n",
    "    -- Input: v1 = [1, 0, 1], v2 = [0, 1, 1]\n",
    "    -- Output: 1 / 3. (There is one index that both vectors are 1 (index 2), and all three indices have at least one vector being one)\n"
   ]
  },
  {
   "cell_type": "code",
   "execution_count": 24,
   "metadata": {},
   "outputs": [],
   "source": [
    "def jaccard_similarity(v1, v2):\n",
    "    result = 0\n",
    "    \n",
    "    # implement your code here\n",
    "    de = sum([(v1[i]*v2[i] == 1) for i in range(len(v1))]) \n",
    "    num = sum([(v1[i]+v2[i]>=1) for i in range(len(v1))])\n",
    "    \n",
    "    if num  == 0:\n",
    "        result = 0\n",
    "    else:\n",
    "        result =  de / num\n",
    "\n",
    "    return result\n",
    "\n",
    "assert jaccard_similarity([1,0,0], [0,0,1]) == 0\n",
    "assert jaccard_similarity([1,0,0,1], [1,0,0,1]) == 1"
   ]
  },
  {
   "cell_type": "markdown",
   "metadata": {},
   "source": [
    "### Practice 6\n",
    "\n",
    "Given two strings, test how many times the first string contains the second. \n",
    "\n",
    "    -- Input: str1 = \"coding is cool\" and str2 = \"co\".\n",
    "    -- Ouput: 2"
   ]
  },
  {
   "cell_type": "code",
   "execution_count": 25,
   "metadata": {
    "collapsed": true
   },
   "outputs": [],
   "source": [
    "def str_contains(str1, str2):\n",
    "    result = 0\n",
    "    \n",
    "    # implement your code here\n",
    "    for i in range(len(str1)-len(str2)):\n",
    "        if str1[i:i+len(str2)] == str2:\n",
    "            result += 1\n",
    "            \n",
    "    return result\n",
    "\n",
    "assert str_contains(\"coding is cool\", \"co\") == 2\n",
    "assert str_contains(\"coding is amazing and cool\", \"ing\") == 2"
   ]
  },
  {
   "cell_type": "markdown",
   "metadata": {},
   "source": [
    "### Practice 7\n",
    "\n",
    "Store all of the words in a sentence with more than and equal to 5 letters in a list. The stored words should all be lower cases. Use the **append** method for lists and the **strip** method for strings to get rid of punctuation.\n",
    "\n",
    "    -- Input: sentence = \"I love programming in Python. It is the best thing I have done in my life.\"\n",
    "    -- Ouput: result = [\"programming\", \"python\", \"thing\"]"
   ]
  },
  {
   "cell_type": "code",
   "execution_count": 29,
   "metadata": {},
   "outputs": [],
   "source": [
    "def get_large_words(sentence):\n",
    "    result = []\n",
    "    \n",
    "    # implement your code here\n",
    "    sentence_words = sentence.lower().replace(\"\\n\",\"\").split(\" \")\n",
    "    for word in sentence_words:\n",
    "        word_no_punc = word.strip(',.:')\n",
    "        if len(word_no_punc)>=5:\n",
    "            result.append(word_no_punc)\n",
    "    return result\n",
    "\n",
    "assert get_large_words(\"This is an amazing class. I have learnt so much.\") == [\"amazing\", \"class\", \"learnt\"]"
   ]
  },
  {
   "cell_type": "markdown",
   "metadata": {},
   "source": [
    "### Practice 8\n",
    "\n",
    "Define the function that takes string of numbers separated by commas, and returns the sum of these numbers.\n",
    "\n",
    "    -- Input: s = \"1,2,3,4\"\n",
    "    -- Ouput: 10"
   ]
  },
  {
   "cell_type": "code",
   "execution_count": 26,
   "metadata": {
    "collapsed": true
   },
   "outputs": [],
   "source": [
    "def sum_of_numbers(s):\n",
    "    result = 0\n",
    "    \n",
    "    # implement your code here\n",
    "    result = sum([float(x) for x in s.split(\",\")])\n",
    "    return result\n",
    "\n",
    "assert sum_of_numbers(\"1,2,3,4,5.5\") == 15.5    "
   ]
  },
  {
   "cell_type": "markdown",
   "metadata": {},
   "source": [
    "# In-class Project: Sentiment Analysis\n",
    "\n",
    "[Sentiment Analysis](https://en.wikipedia.org/wiki/Sentiment_analysis) has been an important field of natural language processing. The core idea is to systematically identify, extract, quantify, and study affective states and subjective information. Sentiment analysis is widely applied to voice of the customer materials such as reviews and survey responses, online and social media, and recently to the financial market. In particular, couple of recent finance research has shown:\n",
    "1. The sentiment of consumers on social media has predictive power of the market condition in short time.\n",
    "2. The sentiment of company's filling documents (such as 10-K and 8-K) have predictive power on the company's performance. \n",
    "\n",
    "There are several ways of doing sentiment analysis. One simple way to do sentiment analysis is:\n",
    "1. Prepare a list of positive and negative words.\n",
    "2. Count the number of occurences of positive and negative words in a document.\n",
    "3. Use the number of positive and negative words in the document to define its sentiment. \n",
    "\n",
    "In this HW, we will read in the positive and negative words defined by [Macdonald (2011)](http://www3.nd.edu/~mcdonald/Word_Lists.html). We will then read in Google and Facebook's 2016 10-K and define its sentiment based on the positive and negative words.\n",
    "\n",
    "\n",
    "**The task of sentiment analysis has been divided into following functions**\n"
   ]
  },
  {
   "cell_type": "code",
   "execution_count": 30,
   "metadata": {
    "collapsed": true
   },
   "outputs": [],
   "source": [
    "def Read_Pos_Words():\n",
    "    \n",
    "    \"\"\"reads in all positive words from pos_words.txt.\n",
    "    and returns a list of positive words in lower cases\"\"\"\n",
    "    \n",
    "    f= open(\"data/dictionary/pos_words.txt\")\n",
    "    words = f.read().lower().replace(\"\\n\", \"\").split(\" \")\n",
    "    \n",
    "    return words\n",
    "    \n"
   ]
  },
  {
   "cell_type": "code",
   "execution_count": 31,
   "metadata": {
    "collapsed": true
   },
   "outputs": [],
   "source": [
    "def Read_Neg_Words():\n",
    "    \"\"\"reads in all positive words from pos_words.txt.\n",
    "    and returns a list of positive words in lower cases\"\"\"\n",
    "    \n",
    "    f= open(\"data/dictionary/neg_words.txt\")\n",
    "    words = f.read().lower().replace(\"\\n\", \"\").split(\" \")\n",
    "    \n",
    "    return words\n",
    "    "
   ]
  },
  {
   "cell_type": "code",
   "execution_count": 32,
   "metadata": {
    "collapsed": true
   },
   "outputs": [],
   "source": [
    "\n",
    "def Read_And_Tokenize_File(file_location):\n",
    "    \n",
    "    \"\"\"Take the location of a text file and return a list of words that \n",
    "    appear in the file. All words should be lower case. The file only contains\n",
    "    letters, spaces and new lines.\"\"\"\n",
    "    \n",
    "    f = open(file_location)\n",
    "    words = f.read().lower().replace(\"\\n\", \" \").split(\" \")\n",
    "    final_words = [word for word in words if word!=\"\"]\n",
    "    \n",
    "    return final_words\n"
   ]
  },
  {
   "cell_type": "code",
   "execution_count": 33,
   "metadata": {
    "collapsed": true
   },
   "outputs": [],
   "source": [
    "\n",
    "def Count_Occurence(word_list_1, word_list_2):\n",
    "    \"\"\"Create a function that two lists of words and returns\n",
    "    the count of the number of times that items in list one has appeared in list two\"\"\"\n",
    "    \n",
    "    count = 0\n",
    "    for word in word_list_1:\n",
    "        if word in word_list_2:\n",
    "            count+=1\n",
    "    \n",
    "    \n",
    "    return count\n"
   ]
  },
  {
   "cell_type": "markdown",
   "metadata": {},
   "source": [
    "Using the above function to compute the sentiment of Google 10K files at \"data/10k/google_10k.txt\""
   ]
  },
  {
   "cell_type": "code",
   "execution_count": 37,
   "metadata": {},
   "outputs": [
    {
     "data": {
      "text/plain": [
       "0.2619607843137255"
      ]
     },
     "execution_count": 37,
     "metadata": {},
     "output_type": "execute_result"
    }
   ],
   "source": [
    "file_location = \"data/10k/google_10k.txt\"\n",
    "pos_words = Read_Pos_Words()\n",
    "neg_words = Read_Neg_Words()\n",
    "ten_k_words = Read_And_Tokenize_File(file_location)\n",
    "num_pos_words = Count_Occurence(ten_k_words, pos_words)\n",
    "num_neg_words = Count_Occurence(ten_k_words, neg_words)\n",
    "sentiment = num_pos_words/(num_pos_words+num_neg_words)\n",
    "\n",
    "sentiment"
   ]
  },
  {
   "cell_type": "markdown",
   "metadata": {},
   "source": [
    "We now know the sentiment of Google's 10-K in 2016 is 0.262. But what exactly does this number mean? In order to understand whether this is a positive sentiment or negative sentiment, we need to find the sentiment of other companies. Now, let us read in all the files in the 10-K folder and output a dictionary. The keys of the dictionary are company names and the values of the dictionary are company 10-K's [number of positive words, number of negative words, and sentiment] "
   ]
  },
  {
   "cell_type": "code",
   "execution_count": 7,
   "metadata": {
    "collapsed": true
   },
   "outputs": [],
   "source": [
    "def Sentiment(file_location):\n",
    "    \"\"\"Create a function that takes a file locaiton of a company's 10k\n",
    "        and returns a list: [the_number_of_positive_words, the_number_of_negative_words, sentiment]\n",
    "        ment = the_number_of_positive_words / (the_number_of_negative_words+the_number_of_positive_words )\"\"\"\n",
    "    \n",
    "    pos_words = Read_Pos_Words()\n",
    "    neg_words = Read_Neg_Words()\n",
    "    ten_k_words = Read_And_Tokenize_File(file_location)\n",
    "    \n",
    "    num_pos_words = Count_Occurence(ten_k_words, pos_words)\n",
    "    num_neg_words = Count_Occurence(ten_k_words, neg_words)\n",
    "    sentiment = num_pos_words/(num_pos_words+num_neg_words)\n",
    "\n",
    "    return [num_pos_words, num_neg_words, sentiment]\n"
   ]
  },
  {
   "cell_type": "markdown",
   "metadata": {},
   "source": [
    "Now, generate a dictionary where the key is the filename under \"data/10k\", and the value is [num of positive words, number of negative words, sentiment] for that 10k file."
   ]
  },
  {
   "cell_type": "code",
   "execution_count": 40,
   "metadata": {},
   "outputs": [
    {
     "data": {
      "text/plain": [
       "{'amazon_10k.txt': [252, 781, 0.24394966118102615],\n",
       " 'google_10k.txt': [334, 941, 0.2619607843137255]}"
      ]
     },
     "execution_count": 40,
     "metadata": {},
     "output_type": "execute_result"
    }
   ],
   "source": [
    "#Combine functions here\n",
    "import os\n",
    "files = os.listdir(\"data/10k/\")\n",
    "result_dict = {}\n",
    "for file in files:\n",
    "    result_dict[file] = Sentiment(\"data/10k/\" + file)\n",
    "\n",
    "result_dict"
   ]
  }
 ],
 "metadata": {
  "kernelspec": {
   "display_name": "Python 3",
   "language": "python",
   "name": "python3"
  },
  "language_info": {
   "codemirror_mode": {
    "name": "ipython",
    "version": 3
   },
   "file_extension": ".py",
   "mimetype": "text/x-python",
   "name": "python",
   "nbconvert_exporter": "python",
   "pygments_lexer": "ipython3",
   "version": "3.6.3"
  }
 },
 "nbformat": 4,
 "nbformat_minor": 2
}
