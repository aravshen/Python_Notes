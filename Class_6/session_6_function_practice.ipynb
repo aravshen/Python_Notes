{
 "cells": [
  {
   "cell_type": "markdown",
   "metadata": {},
   "source": [
    "# Scope Practice"
   ]
  },
  {
   "cell_type": "code",
   "execution_count": null,
   "metadata": {
    "collapsed": true
   },
   "outputs": [],
   "source": [
    "# Exercise 1.a: What does this code print out?\n",
    "\n",
    "a = 10\n",
    "\n",
    "def plus_one(a):\n",
    "    a = a + 1\n",
    "\n",
    "print(a)\n",
    "print(plus_one(a))"
   ]
  },
  {
   "cell_type": "code",
   "execution_count": null,
   "metadata": {
    "collapsed": true
   },
   "outputs": [],
   "source": [
    "# Exercise 1.b: What does this code print out?\n",
    "def plus_one(a):\n",
    "    a = a + 1\n",
    "\n",
    "a = 10\n",
    "print(a)\n",
    "print(plus_one(a))"
   ]
  },
  {
   "cell_type": "code",
   "execution_count": null,
   "metadata": {
    "collapsed": true
   },
   "outputs": [],
   "source": [
    "# Exercise 1.c: What does this code print out?\n",
    "def plus_one(a):\n",
    "    a = a + 1\n",
    "    return a\n",
    "\n",
    "a = 10\n",
    "print(a)\n",
    "print(plus_one(a))"
   ]
  },
  {
   "cell_type": "code",
   "execution_count": null,
   "metadata": {
    "collapsed": true
   },
   "outputs": [],
   "source": [
    "def plus_one(a):\n",
    "    a = a + 1\n",
    "    return a\n",
    "\n",
    "b = 10\n",
    "print(b)\n",
    "print(plus_one(b))"
   ]
  },
  {
   "cell_type": "code",
   "execution_count": null,
   "metadata": {
    "collapsed": true
   },
   "outputs": [],
   "source": [
    "# Exercise 1.d: What does this code print out?\n",
    "def plus_one(a):\n",
    "    a = a + 1\n",
    "    return a\n",
    "\n",
    "a = 10\n",
    "print(a)\n",
    "print(plus_one(a))\n",
    "print(a)"
   ]
  },
  {
   "cell_type": "code",
   "execution_count": null,
   "metadata": {
    "collapsed": true
   },
   "outputs": [],
   "source": [
    "# Exercise 1.e: What does this code print out?\n",
    "def plus_one(a):\n",
    "    a = a + 1\n",
    "    return a \n",
    "\n",
    "a = 10\n",
    "print(a)\n",
    "print(plus_one(a))\n",
    "a = plus_one(a)\n",
    "print(a)"
   ]
  },
  {
   "cell_type": "code",
   "execution_count": null,
   "metadata": {
    "collapsed": true
   },
   "outputs": [],
   "source": [
    "def GetMedianIndex(l):\n",
    "    print(\"Inside the function GetMedianIndex, l = %s\" % str(l))\n",
    "    index = int(len(l) / 2)\n",
    "    return index\n",
    "\n",
    "def CutList(middle, sortedList):\n",
    "    cutList = sortedList[:middle]\n",
    "    return cutList\n",
    "\n",
    "l = [4,3,1,4,2,6,7]\n",
    "print(\"Before function call GetMedianIndex, l = %s\" % str(l))\n",
    "l.sort()\n",
    "\n",
    "middle = GetMedianIndex(l)\n",
    "print(\"After function call GetMedianIndex, l = %s\" % str(l))\n",
    "l = CutList(middle, l)\n",
    "print(\"After function call CutList, l = %s\" % str(l))"
   ]
  },
  {
   "cell_type": "markdown",
   "metadata": {},
   "source": [
    "# Function Practice\n",
    "\n",
    "Define the following function:\n",
    "\n",
    "- Input: list of numbers\n",
    "- Output: sum of these numbers"
   ]
  },
  {
   "cell_type": "code",
   "execution_count": null,
   "metadata": {
    "collapsed": true
   },
   "outputs": [],
   "source": [
    "#Write your code here\n",
    "\n"
   ]
  },
  {
   "cell_type": "markdown",
   "metadata": {},
   "source": [
    "Define the following function:\n",
    "\n",
    "- Input: string and number\n",
    "- Output: The character of the string in the index given by number.  If this index does not exist, then return -1."
   ]
  },
  {
   "cell_type": "code",
   "execution_count": null,
   "metadata": {
    "collapsed": true
   },
   "outputs": [],
   "source": [
    "#Write you code here\n",
    "\n"
   ]
  },
  {
   "cell_type": "markdown",
   "metadata": {},
   "source": [
    "Define the following function:\n",
    "\n",
    "- Input: list of string\n",
    "- Output single string with elements separated by  space\n",
    "\n",
    "Example:  string_join([\"test\", \"test\", \"test\"]) => \"test test test\""
   ]
  },
  {
   "cell_type": "code",
   "execution_count": null,
   "metadata": {
    "collapsed": true
   },
   "outputs": [],
   "source": [
    "#Write you code here\n",
    "\n",
    "\n"
   ]
  }
 ],
 "metadata": {
  "kernelspec": {
   "display_name": "Python 3",
   "language": "python",
   "name": "python3"
  },
  "language_info": {
   "codemirror_mode": {
    "name": "ipython",
    "version": 3
   },
   "file_extension": ".py",
   "mimetype": "text/x-python",
   "name": "python",
   "nbconvert_exporter": "python",
   "pygments_lexer": "ipython3",
   "version": "3.6.3"
  },
  "toc": {
   "colors": {
    "hover_highlight": "#DAA520",
    "navigate_num": "#000000",
    "navigate_text": "#333333",
    "running_highlight": "#FF0000",
    "selected_highlight": "#FFD700",
    "sidebar_border": "#EEEEEE",
    "wrapper_background": "#FFFFFF"
   },
   "moveMenuLeft": true,
   "nav_menu": {
    "height": "48px",
    "width": "252px"
   },
   "navigate_menu": true,
   "number_sections": true,
   "sideBar": true,
   "threshold": 4,
   "toc_cell": false,
   "toc_section_display": "block",
   "toc_window_display": false,
   "widenNotebook": false
  }
 },
 "nbformat": 4,
 "nbformat_minor": 2
}
