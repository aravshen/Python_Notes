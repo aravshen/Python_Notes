{
 "cells": [
  {
   "cell_type": "markdown",
   "metadata": {},
   "source": [
    "# Practice with Lambda Functions"
   ]
  },
  {
   "cell_type": "markdown",
   "metadata": {
    "collapsed": true
   },
   "source": [
    "Cconvert the following simple functions to lambda functions."
   ]
  },
  {
   "cell_type": "code",
   "execution_count": 7,
   "metadata": {},
   "outputs": [
    {
     "data": {
      "text/plain": [
       "'j'"
      ]
     },
     "execution_count": 7,
     "metadata": {},
     "output_type": "execute_result"
    }
   ],
   "source": [
    "def Get_First_Letter(name):\n",
    "    \"\"\"Take a name as input return the lowercase\n",
    "    first letter of the name\"\"\"\n",
    "    \n",
    "    first_letter = name[0].lower()\n",
    "    \n",
    "    return first_letter\n",
    "\n",
    "Get_First_Letter(\"Jake\")"
   ]
  },
  {
   "cell_type": "code",
   "execution_count": 8,
   "metadata": {},
   "outputs": [
    {
     "data": {
      "text/plain": [
       "'j'"
      ]
     },
     "execution_count": 8,
     "metadata": {},
     "output_type": "execute_result"
    }
   ],
   "source": [
    "#Define your lambda function here\n",
    "\n",
    "f =  lambda name: name[0].lower()\n",
    "\n",
    "f(\"Jake\")"
   ]
  },
  {
   "cell_type": "code",
   "execution_count": 9,
   "metadata": {},
   "outputs": [
    {
     "data": {
      "text/plain": [
       "False"
      ]
     },
     "execution_count": 9,
     "metadata": {},
     "output_type": "execute_result"
    }
   ],
   "source": [
    "def Check_Even(x):\n",
    "    \"\"\"Return True if x is even and odd otherwise \"\"\"\n",
    "    \n",
    "    return x%2 == 0\n",
    "\n",
    "Check_Even(5)"
   ]
  },
  {
   "cell_type": "code",
   "execution_count": 10,
   "metadata": {},
   "outputs": [
    {
     "data": {
      "text/plain": [
       "False"
      ]
     },
     "execution_count": 10,
     "metadata": {},
     "output_type": "execute_result"
    }
   ],
   "source": [
    "#Define your lambda function here\n",
    "f = lambda x: x%2 == 0\n",
    "\n",
    "f(5)\n"
   ]
  },
  {
   "cell_type": "code",
   "execution_count": 11,
   "metadata": {},
   "outputs": [
    {
     "data": {
      "text/plain": [
       "152"
      ]
     },
     "execution_count": 11,
     "metadata": {},
     "output_type": "execute_result"
    }
   ],
   "source": [
    "def Get_Num(L):\n",
    "    \"\"\"Return the integer version of the number\n",
    "    specified by the list if strings in L\"\"\"\n",
    "    \n",
    "    return int(\"\".join(L))\n",
    "\n",
    "Get_Num([\"1\",\"5\",\"2\"])"
   ]
  },
  {
   "cell_type": "code",
   "execution_count": 12,
   "metadata": {},
   "outputs": [
    {
     "data": {
      "text/plain": [
       "123"
      ]
     },
     "execution_count": 12,
     "metadata": {},
     "output_type": "execute_result"
    }
   ],
   "source": [
    "#Define your lambda function here\n",
    "\n",
    "f = lambda L: int(\"\".join(L))\n",
    "\n",
    "f([\"1\",\"2\",\"3\"])"
   ]
  },
  {
   "cell_type": "markdown",
   "metadata": {},
   "source": [
    "# Filtering in pandas"
   ]
  },
  {
   "cell_type": "markdown",
   "metadata": {},
   "source": [
    "In this practice, we will explore data on the progression of salaries of students graduating from various schools. The file \"salaries-by-region.csv\" gives this information broken down by region and the the file \"salaries-by-college-type.csv\" gives this information broken by school type."
   ]
  },
  {
   "cell_type": "code",
   "execution_count": 13,
   "metadata": {
    "collapsed": true
   },
   "outputs": [],
   "source": [
    "def Get_Dict_Region(file_location):\n",
    "    \n",
    "    \"\"\"Take as input the file location of salaries-by-region.csv\n",
    "    and returns a dictionary with a key for each school whose value is the region\n",
    "    of that school.\"\"\"\n",
    "    \n",
    "    df_region = pd.read_csv(file_location)\n",
    "    \n",
    "    \n",
    "    D_region = {}\n",
    "    for index, row in df_region.iterrows():\n",
    "        \n",
    "        school = df_region.loc[index, \"School Name\"]\n",
    "        region = df_region.loc[index, \"Region\"]\n",
    "        \n",
    "        if school not in D_region:\n",
    "            D_region[school] = region\n",
    "            \n",
    "    return D_region\n",
    "        "
   ]
  },
  {
   "cell_type": "markdown",
   "metadata": {},
   "source": [
    "$--------------------------------------------------$"
   ]
  },
  {
   "cell_type": "markdown",
   "metadata": {},
   "source": [
    "Write the function Get_Dict_Region, which reads the file \"salaries-by-region.csv\" into a dataframe called df_region and then uses iterrows() to construct a dictionary where there is a key for each school and it's value is the region.  Return this dictionary."
   ]
  },
  {
   "cell_type": "code",
   "execution_count": 15,
   "metadata": {
    "collapsed": true
   },
   "outputs": [],
   "source": [
    "#Write your code here\n",
    "import pandas as pd\n",
    "\n",
    "file_location = \"Data/salaries-by-region.csv\"\n",
    "D_regions = Get_Dict_Region(file_location)"
   ]
  },
  {
   "cell_type": "markdown",
   "metadata": {
    "collapsed": true
   },
   "source": [
    "Read in the file \"salaries-by-college-type.csv\" into a a dataframe called df_college_type and use dtype to check the how each column is stored. Use \"N/A\" as the na_values when you read in the dataframe."
   ]
  },
  {
   "cell_type": "code",
   "execution_count": 16,
   "metadata": {},
   "outputs": [
    {
     "data": {
      "text/plain": [
       "School Name                          object\n",
       "School Type                          object\n",
       "Starting Median Salary               object\n",
       "Mid-Career Median Salary             object\n",
       "Mid-Career 10th Percentile Salary    object\n",
       "Mid-Career 25th Percentile Salary    object\n",
       "Mid-Career 75th Percentile Salary    object\n",
       "Mid-Career 90th Percentile Salary    object\n",
       "dtype: object"
      ]
     },
     "execution_count": 16,
     "metadata": {},
     "output_type": "execute_result"
    }
   ],
   "source": [
    "#Write your code here\n",
    "df_college_type= pd.read_csv(\"Data/salaries-by-college-type.csv\", na_values=\"N/A\")\n",
    "df_college_type.dtypes"
   ]
  },
  {
   "cell_type": "markdown",
   "metadata": {},
   "source": [
    "We need notice that all of the salary categories are objects when they should be ints. Use a for loop over the columns attribute of the dataframe df_college_type and a  map function to do the conversion of each of these columns to a float."
   ]
  },
  {
   "cell_type": "code",
   "execution_count": 17,
   "metadata": {},
   "outputs": [
    {
     "data": {
      "text/html": [
       "<div>\n",
       "<style>\n",
       "    .dataframe thead tr:only-child th {\n",
       "        text-align: right;\n",
       "    }\n",
       "\n",
       "    .dataframe thead th {\n",
       "        text-align: left;\n",
       "    }\n",
       "\n",
       "    .dataframe tbody tr th {\n",
       "        vertical-align: top;\n",
       "    }\n",
       "</style>\n",
       "<table border=\"1\" class=\"dataframe\">\n",
       "  <thead>\n",
       "    <tr style=\"text-align: right;\">\n",
       "      <th></th>\n",
       "      <th>School Name</th>\n",
       "      <th>School Type</th>\n",
       "      <th>Starting Median Salary</th>\n",
       "      <th>Mid-Career Median Salary</th>\n",
       "      <th>Mid-Career 10th Percentile Salary</th>\n",
       "      <th>Mid-Career 25th Percentile Salary</th>\n",
       "      <th>Mid-Career 75th Percentile Salary</th>\n",
       "      <th>Mid-Career 90th Percentile Salary</th>\n",
       "    </tr>\n",
       "  </thead>\n",
       "  <tbody>\n",
       "    <tr>\n",
       "      <th>0</th>\n",
       "      <td>Massachusetts Institute of Technology (MIT)</td>\n",
       "      <td>Engineering</td>\n",
       "      <td>72200.0</td>\n",
       "      <td>126000.0</td>\n",
       "      <td>76800.0</td>\n",
       "      <td>99200.0</td>\n",
       "      <td>168000.0</td>\n",
       "      <td>220000.0</td>\n",
       "    </tr>\n",
       "    <tr>\n",
       "      <th>1</th>\n",
       "      <td>California Institute of Technology (CIT)</td>\n",
       "      <td>Engineering</td>\n",
       "      <td>75500.0</td>\n",
       "      <td>123000.0</td>\n",
       "      <td>NaN</td>\n",
       "      <td>104000.0</td>\n",
       "      <td>161000.0</td>\n",
       "      <td>NaN</td>\n",
       "    </tr>\n",
       "    <tr>\n",
       "      <th>2</th>\n",
       "      <td>Harvey Mudd College</td>\n",
       "      <td>Engineering</td>\n",
       "      <td>71800.0</td>\n",
       "      <td>122000.0</td>\n",
       "      <td>NaN</td>\n",
       "      <td>96000.0</td>\n",
       "      <td>180000.0</td>\n",
       "      <td>NaN</td>\n",
       "    </tr>\n",
       "    <tr>\n",
       "      <th>3</th>\n",
       "      <td>Polytechnic University of New York, Brooklyn</td>\n",
       "      <td>Engineering</td>\n",
       "      <td>62400.0</td>\n",
       "      <td>114000.0</td>\n",
       "      <td>66800.0</td>\n",
       "      <td>94300.0</td>\n",
       "      <td>143000.0</td>\n",
       "      <td>190000.0</td>\n",
       "    </tr>\n",
       "    <tr>\n",
       "      <th>4</th>\n",
       "      <td>Cooper Union</td>\n",
       "      <td>Engineering</td>\n",
       "      <td>62200.0</td>\n",
       "      <td>114000.0</td>\n",
       "      <td>NaN</td>\n",
       "      <td>80200.0</td>\n",
       "      <td>142000.0</td>\n",
       "      <td>NaN</td>\n",
       "    </tr>\n",
       "  </tbody>\n",
       "</table>\n",
       "</div>"
      ],
      "text/plain": [
       "                                    School Name  School Type  \\\n",
       "0   Massachusetts Institute of Technology (MIT)  Engineering   \n",
       "1      California Institute of Technology (CIT)  Engineering   \n",
       "2                           Harvey Mudd College  Engineering   \n",
       "3  Polytechnic University of New York, Brooklyn  Engineering   \n",
       "4                                  Cooper Union  Engineering   \n",
       "\n",
       "   Starting Median Salary  Mid-Career Median Salary  \\\n",
       "0                 72200.0                  126000.0   \n",
       "1                 75500.0                  123000.0   \n",
       "2                 71800.0                  122000.0   \n",
       "3                 62400.0                  114000.0   \n",
       "4                 62200.0                  114000.0   \n",
       "\n",
       "   Mid-Career 10th Percentile Salary  Mid-Career 25th Percentile Salary  \\\n",
       "0                            76800.0                            99200.0   \n",
       "1                                NaN                           104000.0   \n",
       "2                                NaN                            96000.0   \n",
       "3                            66800.0                            94300.0   \n",
       "4                                NaN                            80200.0   \n",
       "\n",
       "   Mid-Career 75th Percentile Salary  Mid-Career 90th Percentile Salary  \n",
       "0                           168000.0                           220000.0  \n",
       "1                           161000.0                                NaN  \n",
       "2                           180000.0                                NaN  \n",
       "3                           143000.0                           190000.0  \n",
       "4                           142000.0                                NaN  "
      ]
     },
     "execution_count": 17,
     "metadata": {},
     "output_type": "execute_result"
    }
   ],
   "source": [
    "#Write your code here\n",
    "list_column_names = list(df_college_type.columns)\n",
    "\n",
    "\n",
    "for column_name in list_column_names[2:]:\n",
    "    df_college_type[column_name] = df_college_type[column_name].\\\n",
    "                apply(lambda x: x if type(x)!=str else float(x.replace(\"$\",\"\").replace(\",\",\"\")))\n",
    "\n",
    "df_college_type.head()"
   ]
  },
  {
   "cell_type": "markdown",
   "metadata": {},
   "source": [
    "Then use map and a lambda function to add a column for region."
   ]
  },
  {
   "cell_type": "code",
   "execution_count": 18,
   "metadata": {},
   "outputs": [
    {
     "data": {
      "text/html": [
       "<div>\n",
       "<style>\n",
       "    .dataframe thead tr:only-child th {\n",
       "        text-align: right;\n",
       "    }\n",
       "\n",
       "    .dataframe thead th {\n",
       "        text-align: left;\n",
       "    }\n",
       "\n",
       "    .dataframe tbody tr th {\n",
       "        vertical-align: top;\n",
       "    }\n",
       "</style>\n",
       "<table border=\"1\" class=\"dataframe\">\n",
       "  <thead>\n",
       "    <tr style=\"text-align: right;\">\n",
       "      <th></th>\n",
       "      <th>School Name</th>\n",
       "      <th>School Type</th>\n",
       "      <th>Starting Median Salary</th>\n",
       "      <th>Mid-Career Median Salary</th>\n",
       "      <th>Mid-Career 10th Percentile Salary</th>\n",
       "      <th>Mid-Career 25th Percentile Salary</th>\n",
       "      <th>Mid-Career 75th Percentile Salary</th>\n",
       "      <th>Mid-Career 90th Percentile Salary</th>\n",
       "      <th>Region</th>\n",
       "    </tr>\n",
       "  </thead>\n",
       "  <tbody>\n",
       "    <tr>\n",
       "      <th>0</th>\n",
       "      <td>Massachusetts Institute of Technology (MIT)</td>\n",
       "      <td>Engineering</td>\n",
       "      <td>72200.0</td>\n",
       "      <td>126000.0</td>\n",
       "      <td>76800.0</td>\n",
       "      <td>99200.0</td>\n",
       "      <td>168000.0</td>\n",
       "      <td>220000.0</td>\n",
       "      <td>Northeastern</td>\n",
       "    </tr>\n",
       "    <tr>\n",
       "      <th>1</th>\n",
       "      <td>California Institute of Technology (CIT)</td>\n",
       "      <td>Engineering</td>\n",
       "      <td>75500.0</td>\n",
       "      <td>123000.0</td>\n",
       "      <td>NaN</td>\n",
       "      <td>104000.0</td>\n",
       "      <td>161000.0</td>\n",
       "      <td>NaN</td>\n",
       "      <td>California</td>\n",
       "    </tr>\n",
       "    <tr>\n",
       "      <th>2</th>\n",
       "      <td>Harvey Mudd College</td>\n",
       "      <td>Engineering</td>\n",
       "      <td>71800.0</td>\n",
       "      <td>122000.0</td>\n",
       "      <td>NaN</td>\n",
       "      <td>96000.0</td>\n",
       "      <td>180000.0</td>\n",
       "      <td>NaN</td>\n",
       "      <td>California</td>\n",
       "    </tr>\n",
       "    <tr>\n",
       "      <th>3</th>\n",
       "      <td>Polytechnic University of New York, Brooklyn</td>\n",
       "      <td>Engineering</td>\n",
       "      <td>62400.0</td>\n",
       "      <td>114000.0</td>\n",
       "      <td>66800.0</td>\n",
       "      <td>94300.0</td>\n",
       "      <td>143000.0</td>\n",
       "      <td>190000.0</td>\n",
       "      <td>Northeastern</td>\n",
       "    </tr>\n",
       "    <tr>\n",
       "      <th>4</th>\n",
       "      <td>Cooper Union</td>\n",
       "      <td>Engineering</td>\n",
       "      <td>62200.0</td>\n",
       "      <td>114000.0</td>\n",
       "      <td>NaN</td>\n",
       "      <td>80200.0</td>\n",
       "      <td>142000.0</td>\n",
       "      <td>NaN</td>\n",
       "      <td>Northeastern</td>\n",
       "    </tr>\n",
       "  </tbody>\n",
       "</table>\n",
       "</div>"
      ],
      "text/plain": [
       "                                    School Name  School Type  \\\n",
       "0   Massachusetts Institute of Technology (MIT)  Engineering   \n",
       "1      California Institute of Technology (CIT)  Engineering   \n",
       "2                           Harvey Mudd College  Engineering   \n",
       "3  Polytechnic University of New York, Brooklyn  Engineering   \n",
       "4                                  Cooper Union  Engineering   \n",
       "\n",
       "   Starting Median Salary  Mid-Career Median Salary  \\\n",
       "0                 72200.0                  126000.0   \n",
       "1                 75500.0                  123000.0   \n",
       "2                 71800.0                  122000.0   \n",
       "3                 62400.0                  114000.0   \n",
       "4                 62200.0                  114000.0   \n",
       "\n",
       "   Mid-Career 10th Percentile Salary  Mid-Career 25th Percentile Salary  \\\n",
       "0                            76800.0                            99200.0   \n",
       "1                                NaN                           104000.0   \n",
       "2                                NaN                            96000.0   \n",
       "3                            66800.0                            94300.0   \n",
       "4                                NaN                            80200.0   \n",
       "\n",
       "   Mid-Career 75th Percentile Salary  Mid-Career 90th Percentile Salary  \\\n",
       "0                           168000.0                           220000.0   \n",
       "1                           161000.0                                NaN   \n",
       "2                           180000.0                                NaN   \n",
       "3                           143000.0                           190000.0   \n",
       "4                           142000.0                                NaN   \n",
       "\n",
       "         Region  \n",
       "0  Northeastern  \n",
       "1    California  \n",
       "2    California  \n",
       "3  Northeastern  \n",
       "4  Northeastern  "
      ]
     },
     "execution_count": 18,
     "metadata": {},
     "output_type": "execute_result"
    }
   ],
   "source": [
    "#Write you code here\n",
    "df_college_type[\"Region\"] = df_college_type[\"School Name\"].\\\n",
    "                map(lambda x,dict_regions= D_regions: dict_regions.get(x))\n",
    "df_college_type.head()"
   ]
  },
  {
   "cell_type": "markdown",
   "metadata": {},
   "source": [
    "How many colleges are represented?"
   ]
  },
  {
   "cell_type": "code",
   "execution_count": 19,
   "metadata": {},
   "outputs": [
    {
     "data": {
      "text/plain": [
       "249"
      ]
     },
     "execution_count": 19,
     "metadata": {},
     "output_type": "execute_result"
    }
   ],
   "source": [
    "#Write your code here\n",
    "num_colleges = df_college_type[\"School Name\"].nunique()\n",
    "num_colleges"
   ]
  },
  {
   "cell_type": "markdown",
   "metadata": {},
   "source": [
    "How many school-dept pairs have a starting salary greater than 65K?"
   ]
  },
  {
   "cell_type": "code",
   "execution_count": 20,
   "metadata": {},
   "outputs": [
    {
     "data": {
      "text/plain": [
       "4"
      ]
     },
     "execution_count": 20,
     "metadata": {},
     "output_type": "execute_result"
    }
   ],
   "source": [
    "#Write your code here\n",
    "greather_65K = df_college_type.loc[df_college_type[\"Starting Median Salary\"]>=65000,:]\n",
    "num_rows = greather_65K.shape[0]\n",
    "\n",
    "num_rows"
   ]
  },
  {
   "cell_type": "markdown",
   "metadata": {},
   "source": [
    "What is the average median starting salary among these schools?\n"
   ]
  },
  {
   "cell_type": "code",
   "execution_count": 21,
   "metadata": {},
   "outputs": [
    {
     "data": {
      "text/plain": [
       "71500.0"
      ]
     },
     "execution_count": 21,
     "metadata": {},
     "output_type": "execute_result"
    }
   ],
   "source": [
    "#Write your code here\n",
    "greather_65K[\"Starting Median Salary\"].mean()"
   ]
  },
  {
   "cell_type": "markdown",
   "metadata": {},
   "source": [
    "What is the median mid career 75th percentile salary of party schools in a Southern or Western region? "
   ]
  },
  {
   "cell_type": "code",
   "execution_count": 22,
   "metadata": {},
   "outputs": [
    {
     "data": {
      "text/plain": [
       "117500.0"
      ]
     },
     "execution_count": 22,
     "metadata": {},
     "output_type": "execute_result"
    }
   ],
   "source": [
    "#Write your code here\n",
    "party_south_west = df_college_type.loc[(df_college_type[\"School Type\"]==\"Party\") &\\\n",
    "                                      (df_college_type.Region.isin([\"Southern\", \"Western\"]))]\n",
    "\n",
    "df_stats = party_south_west.describe()\n",
    "\n",
    "df_stats.loc[\"50%\", \"Mid-Career 75th Percentile Salary\"]"
   ]
  },
  {
   "cell_type": "markdown",
   "metadata": {},
   "source": [
    "What fraction of California schools have a starting median starting salary above 50K?"
   ]
  },
  {
   "cell_type": "code",
   "execution_count": 23,
   "metadata": {},
   "outputs": [
    {
     "data": {
      "text/plain": [
       "0.4074074074074074"
      ]
     },
     "execution_count": 23,
     "metadata": {},
     "output_type": "execute_result"
    }
   ],
   "source": [
    "#Write your code here\n",
    "df_cali = df_college_type.loc[df_college_type.Region == \"California\", :].copy()\n",
    "\n",
    "df_cali[\"High_Starting\"] = df_cali[\"Starting Median Salary\"]\\\n",
    "            .map(lambda x: 1 if x>=50000 else 0, na_action = \"ignore\")\n",
    "    \n",
    "df_cali.High_Starting.mean()"
   ]
  },
  {
   "cell_type": "markdown",
   "metadata": {},
   "source": [
    "How many schools have university in their name?"
   ]
  },
  {
   "cell_type": "code",
   "execution_count": 24,
   "metadata": {},
   "outputs": [
    {
     "data": {
      "text/plain": [
       "211"
      ]
     },
     "execution_count": 24,
     "metadata": {},
     "output_type": "execute_result"
    }
   ],
   "source": [
    "#Write your code here\n",
    "df_university = df_college_type.loc[df_college_type[\"School Name\"].str.contains(\"University\")]\n",
    "num_rows = df_university.shape[0]\n",
    "\n",
    "num_rows"
   ]
  }
 ],
 "metadata": {
  "kernelspec": {
   "display_name": "Python 3",
   "language": "python",
   "name": "python3"
  },
  "language_info": {
   "codemirror_mode": {
    "name": "ipython",
    "version": 3
   },
   "file_extension": ".py",
   "mimetype": "text/x-python",
   "name": "python",
   "nbconvert_exporter": "python",
   "pygments_lexer": "ipython3",
   "version": "3.6.3"
  },
  "toc": {
   "colors": {
    "hover_highlight": "#DAA520",
    "navigate_num": "#000000",
    "navigate_text": "#333333",
    "running_highlight": "#FF0000",
    "selected_highlight": "#FFD700",
    "sidebar_border": "#EEEEEE",
    "wrapper_background": "#FFFFFF"
   },
   "moveMenuLeft": true,
   "nav_menu": {
    "height": "12px",
    "width": "252px"
   },
   "navigate_menu": true,
   "number_sections": true,
   "sideBar": true,
   "skip_h1_title": false,
   "threshold": 4,
   "toc_cell": false,
   "toc_position": {},
   "toc_section_display": "block",
   "toc_window_display": false,
   "widenNotebook": false
  }
 },
 "nbformat": 4,
 "nbformat_minor": 2
}
